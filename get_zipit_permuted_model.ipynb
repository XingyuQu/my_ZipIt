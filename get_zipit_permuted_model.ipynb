{
 "cells": [
  {
   "cell_type": "code",
   "execution_count": 2,
   "metadata": {},
   "outputs": [],
   "source": [
    "# import os\n",
    "import torch\n",
    "# import random\n",
    "from copy import deepcopy\n",
    "# from tqdm.auto import tqdm\n",
    "# import numpy as np\n",
    "import os\n",
    "from graphs.base_graph import NodeType\n",
    "from utils import get_config_from_name, prepare_experiment_config,\\\n",
    "     get_merging_fn\n",
    "from lmc_utils import reset_bn_stats\n",
    "from model_merger import ModelMerge, MergeHandler\n",
    "from lmc_utils import interpolate_state_dicts, repair"
   ]
  },
  {
   "cell_type": "code",
   "execution_count": 3,
   "metadata": {},
   "outputs": [
    {
     "name": "stdout",
     "output_type": "stream",
     "text": [
      "Files already downloaded and verified\n",
      "Files already downloaded and verified\n",
      "Preparing Models\n"
     ]
    },
    {
     "name": "stderr",
     "output_type": "stream",
     "text": [
      "/home/xingyu/anaconda3/envs/test_ffcv/lib/python3.9/site-packages/torch/cuda/__init__.py:497: UserWarning: Can't initialize NVML\n",
      "  warnings.warn(\"Can't initialize NVML\")\n"
     ]
    },
    {
     "name": "stdout",
     "output_type": "stream",
     "text": [
      "Forward Pass to Compute Merge Metrics: \n",
      "Computing transformations: \n"
     ]
    }
   ],
   "source": [
    "config_name = 'cifar10_my_vgg16'\n",
    "\n",
    "device = 'cuda:0'\n",
    "raw_config = get_config_from_name(config_name, device=device)\n",
    "\n",
    "# change the model bases to the desired pair\n",
    "pairs = '2_3'.split('_')\n",
    "pairs = [int(pair) for pair in pairs]\n",
    "for i, model_idx in enumerate(pairs):\n",
    "    path = raw_config['model']['bases'][i]  # ..._1.pth\n",
    "    # replace the last digit with the model_idx\n",
    "    path = path[:-5] + '_' + str(model_idx) + '.pt'\n",
    "    # remove ./ from the path\n",
    "    # if path.startswith('./'):\n",
    "    #     path = path[2:]\n",
    "    raw_config['model']['bases'][i] = path\n",
    "\n",
    "# prepare models\n",
    "model_paths = deepcopy(raw_config['model']['bases'])\n",
    "cur_config = deepcopy(raw_config)\n",
    "config = prepare_experiment_config(cur_config)\n",
    "train_loader = config['data']['train']['full']\n",
    "test_loader = config['data']['test']['full']\n",
    "base_models = [base_model for base_model in\n",
    "                config['models']['bases']]\n",
    "Grapher = config['graph']\n",
    "criterion = torch.nn.CrossEntropyLoss()\n",
    "\n",
    "\n",
    "merging_fn = 'match_tensors_permute'\n",
    "graphs = [Grapher(deepcopy(base_model)).graphify() for base_model\n",
    "                    in base_models]\n",
    "Merge = ModelMerge(*graphs, device=device)\n",
    "Merge.transform(\n",
    "    deepcopy(config['models']['new']),\n",
    "    train_loader,\n",
    "    transform_fn=get_merging_fn(merging_fn),\n",
    "    metric_classes=config['metric_fns'],\n",
    "    stop_at=None,\n",
    "    start_at=None\n",
    ")\n",
    "\n",
    "# get permuted model\n",
    "graphs = Merge.graphs\n",
    "base_model_merge_s = [deepcopy(graph.model) for graph in graphs]\n",
    "# remove all hooks from the model\n",
    "for model in base_model_merge_s:\n",
    "    model._forward_hooks = {}\n",
    "    model._backward_hooks = {}\n",
    "sd_1_permuted = base_model_merge_s[0].state_dict()\n",
    "sd_2_permuted = base_model_merge_s[1].state_dict()\n",
    "\n",
    "sd_1_save_name = f'checkpoints/cifar10_my_vgg16_1_permute.pth'\n",
    "sd_2_save_name = f'checkpoints/cifar10_my_vgg16_2_permute.pth'\n",
    "if os.path.exists(sd_1_save_name):\n",
    "    raise FileExistsError(f'{sd_1_save_name} already exists')\n",
    "elif os.path.exists(sd_2_save_name):\n",
    "    raise FileExistsError(f'{sd_2_save_name} already exists')\n",
    "else:\n",
    "    torch.save(sd_1_permuted, sd_1_save_name)\n",
    "    torch.save(sd_2_permuted, sd_2_save_name)"
   ]
  },
  {
   "cell_type": "code",
   "execution_count": 4,
   "metadata": {},
   "outputs": [
    {
     "name": "stdout",
     "output_type": "stream",
     "text": [
      "Accuracy of the network on the 10000 test images:         44.75\n"
     ]
    },
    {
     "data": {
      "text/plain": [
       "(0.013312624871730804, 0.4475)"
      ]
     },
     "execution_count": 4,
     "metadata": {},
     "output_type": "execute_result"
    }
   ],
   "source": [
    "def validate(model, testloader, criterion, device):\n",
    "    model.eval()\n",
    "    correct = 0\n",
    "    total = 0\n",
    "    loss_sum = 0\n",
    "\n",
    "    with torch.no_grad():\n",
    "        for data in testloader:\n",
    "            images, labels = data \n",
    "            images = images.to(device)\n",
    "            labels = labels.to(device)\n",
    "            outputs = model(images)\n",
    "            loss = criterion(outputs, labels)\n",
    "            loss_sum += loss.item()\n",
    "            _, predicted = torch.max(outputs, 1)\n",
    "            total += labels.size(0)\n",
    "            correct += (predicted == labels).sum().item()\n",
    "    print('Accuracy of the network on the 10000 test images: \\\n",
    "        {}'.format(100 * correct / total))\n",
    "    return loss_sum / total, correct / total\n",
    "\n",
    "validate(Merge, test_loader, criterion, device)"
   ]
  },
  {
   "cell_type": "code",
   "execution_count": 5,
   "metadata": {},
   "outputs": [
    {
     "name": "stdout",
     "output_type": "stream",
     "text": [
      "Accuracy of the network on the 10000 test images:         81.63\n"
     ]
    },
    {
     "data": {
      "text/plain": [
       "(0.016766719698905946, 0.8163)"
      ]
     },
     "execution_count": 5,
     "metadata": {},
     "output_type": "execute_result"
    }
   ],
   "source": [
    "sd_merge = Merge.merged_model.state_dict()\n",
    "\n",
    "merged_model_test = deepcopy(base_models[0])\n",
    "\n",
    "sd_merged = interpolate_state_dicts(sd_merge, sd_merge, 0.5, True)\n",
    "merged_model_test.load_state_dict(sd_merged)\n",
    "\n",
    "validate(merged_model_test, test_loader, criterion, device)"
   ]
  },
  {
   "cell_type": "code",
   "execution_count": null,
   "metadata": {},
   "outputs": [],
   "source": []
  }
 ],
 "metadata": {
  "kernelspec": {
   "display_name": "test_ffcv",
   "language": "python",
   "name": "python3"
  },
  "language_info": {
   "codemirror_mode": {
    "name": "ipython",
    "version": 3
   },
   "file_extension": ".py",
   "mimetype": "text/x-python",
   "name": "python",
   "nbconvert_exporter": "python",
   "pygments_lexer": "ipython3",
   "version": "3.9.18"
  }
 },
 "nbformat": 4,
 "nbformat_minor": 2
}
