{
 "cells": [
  {
   "cell_type": "code",
   "execution_count": 1,
   "metadata": {},
   "outputs": [
    {
     "name": "stderr",
     "output_type": "stream",
     "text": [
      "/home/xingyu/anaconda3/envs/test_ffcv/lib/python3.9/site-packages/tqdm/auto.py:21: TqdmWarning: IProgress not found. Please update jupyter and ipywidgets. See https://ipywidgets.readthedocs.io/en/stable/user_install.html\n",
      "  from .autonotebook import tqdm as notebook_tqdm\n"
     ]
    }
   ],
   "source": [
    "import torchvision\n",
    "from torchvision.models import ResNet50_Weights\n",
    "import torch"
   ]
  },
  {
   "cell_type": "code",
   "execution_count": 2,
   "metadata": {},
   "outputs": [],
   "source": [
    "model = torchvision.models.resnet50(weights=ResNet50_Weights.IMAGENET1K_V2)"
   ]
  },
  {
   "cell_type": "code",
   "execution_count": 3,
   "metadata": {},
   "outputs": [],
   "source": [
    "sd = model.state_dict()\n",
    "torch.save(sd, './checkpoints/imagenet_resnet50_2.pth')"
   ]
  },
  {
   "cell_type": "markdown",
   "metadata": {},
   "source": [
    "_____"
   ]
  },
  {
   "cell_type": "code",
   "execution_count": 4,
   "metadata": {},
   "outputs": [],
   "source": [
    "import os\n",
    "import torch\n",
    "import random\n",
    "from lmc_utils import BatchScale1d, BatchScale2d\n",
    "from copy import deepcopy\n",
    "from tqdm.auto import tqdm\n",
    "import numpy as np\n",
    "import matplotlib.pyplot as plt\n",
    "from utils import get_config_from_name, get_device, prepare_experiment_config, get_merging_fn\n",
    "from model_merger import ModelMerge\n",
    "from torch import nn\n",
    "\n",
    "def validate(model, testloader, criterion, device, half=False, num_iters=None, print_freq=None):\n",
    "    model.eval()\n",
    "    correct = 0\n",
    "    total = 0\n",
    "    loss_sum = 0\n",
    "\n",
    "    with torch.no_grad():\n",
    "        it = 0\n",
    "        for data in testloader:\n",
    "            if num_iters is not None and it >= num_iters:\n",
    "                break\n",
    "            images, labels = data\n",
    "            images = images.to(device).float()\n",
    "            labels = labels.to(device).long()\n",
    "            outputs = model(images)\n",
    "            loss = criterion(outputs, labels)\n",
    "            loss_sum += loss.item()\n",
    "            _, predicted = torch.max(outputs, 1)\n",
    "            total += labels.size(0)\n",
    "            correct += (predicted == labels).sum().item()\n",
    "            it += 1\n",
    "            if print_freq is not None and it % print_freq == 0:\n",
    "                print('Accuracy so far: {}%'.format(100 * correct / total))\n",
    "            \n",
    "            # it += 1\n",
    "            # if it % 10:\n",
    "            #     print('Accuracy so far: {}'.format(100 * correct / total))\n",
    "        \n",
    "    print('Accuracy of the network on the 10000 test images: {}%'.format(100 * correct / total))\n",
    "    return loss_sum / total, correct / total\n",
    "\n",
    "\n",
    "def imagenet_reset_bn_stats(model, loader, reset=True, num_iters=None):\n",
    "    \"\"\"Reset batch norm stats if nn.BatchNorm2d present in the model.\"\"\"\n",
    "    device = get_device(model)\n",
    "    has_bn = False\n",
    "    # resetting stats to baseline first as below is necessary for stability\n",
    "    for m in model.modules():\n",
    "        if type(m) in (nn.BatchNorm2d, BatchScale2d, BatchScale1d, nn.BatchNorm1d):\n",
    "            if reset:\n",
    "                m.momentum = None # use simple average\n",
    "                m.reset_running_stats()\n",
    "            has_bn = True\n",
    "\n",
    "    if not has_bn:\n",
    "        return model\n",
    "\n",
    "    # run a single train epoch with augmentations to recalc stats\n",
    "    model.train()\n",
    "    iter = 0\n",
    "    with torch.no_grad():\n",
    "        for images, _ in loader:\n",
    "            if images.shape[0] == 1:\n",
    "                break\n",
    "            if num_iters is not None and iter >= num_iters:\n",
    "                break\n",
    "            if iter == len(loader): # hack for fractional loader\n",
    "                break\n",
    "            images = images.to(device).float()\n",
    "            _ = model(images)\n",
    "            iter += 1\n",
    "    model.eval()\n",
    "    return model"
   ]
  },
  {
   "cell_type": "code",
   "execution_count": 5,
   "metadata": {},
   "outputs": [
    {
     "name": "stderr",
     "output_type": "stream",
     "text": [
      "Preparing Models:   0%|          | 0/2 [00:00<?, ?it/s]/home/xingyu/anaconda3/envs/test_ffcv/lib/python3.9/site-packages/torch/cuda/__init__.py:497: UserWarning: Can't initialize NVML\n",
      "  warnings.warn(\"Can't initialize NVML\")\n",
      "Preparing Models: 100%|██████████| 2/2 [00:01<00:00,  1.96it/s]\n"
     ]
    }
   ],
   "source": [
    "config_name = 'imagenet_resnet50'\n",
    "\n",
    "device = 'cuda:1'\n",
    "raw_config = get_config_from_name(config_name, device=device)  # 返回config文件中的字典，添加了一个device键值对\n",
    "cur_config = deepcopy(raw_config)\n",
    "config = prepare_experiment_config(cur_config)\n",
    "\n",
    "train_loader = config['data']['train']['full']\n",
    "test_loader = config['data']['test']['full']\n",
    "test_loader.num_workers = 0\n",
    "\n",
    "\n",
    "base_models = [base_model for base_model in config['models']['bases']]\n",
    "Grapher = config['graph']\n",
    "merging_fn = 'match_tensors_permute'\n",
    "# merging_fn = 'match_tensors_zipit'\n",
    "\n",
    "criterion = torch.nn.CrossEntropyLoss()"
   ]
  },
  {
   "cell_type": "code",
   "execution_count": 6,
   "metadata": {},
   "outputs": [
    {
     "data": {
      "text/plain": [
       "37"
      ]
     },
     "execution_count": 6,
     "metadata": {},
     "output_type": "execute_result"
    }
   ],
   "source": [
    "from graphs.base_graph import NodeType\n",
    "\n",
    "graph = Grapher(deepcopy(base_models[0])).graphify().G\n",
    "prefix_nodes = []\n",
    "for node in graph.nodes:\n",
    "    info = graph.nodes[node]\n",
    "    if info['type'] == NodeType.PREFIX:\n",
    "        prefix_nodes.append(node)\n",
    "len(prefix_nodes)"
   ]
  },
  {
   "cell_type": "code",
   "execution_count": 7,
   "metadata": {},
   "outputs": [
    {
     "name": "stdout",
     "output_type": "stream",
     "text": [
      "Forward Pass to Compute Merge Metrics: \n",
      "Computing transformations: \n"
     ]
    }
   ],
   "source": [
    "graphs = [Grapher(deepcopy(base_model)).graphify() for base_model in base_models]\n",
    "\n",
    "merging_fn = 'match_tensors_permute' # 'match_tensors_permute'\n",
    "start_at = None  # [3, 6, 10, 13, 17, 20, 23, 27, 30, 33, 37, 40, 43, 47, 50]\n",
    "stop_at = None\n",
    "\n",
    "Merge = ModelMerge(*graphs, device=device)\n",
    "prepared_metrics = None\n",
    "# prepared_metrics = torch.load('pfm_results/imagenet_vgg16_metrics.pth', weights_only=True)\n",
    "# for key in prepared_metrics:\n",
    "#     for key2 in prepared_metrics[key]:\n",
    "#         prepared_metrics[key][key2] = prepared_metrics[key][key2].to(device)\n",
    "# Merge.metrics = prepared_metrics\n",
    "\n",
    "Merge.transform(\n",
    "    deepcopy(config['models']['new']), \n",
    "    train_loader, \n",
    "    transform_fn=get_merging_fn(merging_fn),\n",
    "    metric_classes=config['metric_fns'],\n",
    "    stop_at=stop_at,\n",
    "    start_at=start_at,\n",
    "    prepared_metrics=prepared_metrics,\n",
    "    # a=0.3,\n",
    "    # b=0.8\n",
    ")\n",
    "\n",
    "\n",
    "# imagenet_reset_bn_stats(Merge, train_loader)\n",
    "\n",
    "# merged_model_backup = deepcopy(Merge.merged_model)"
   ]
  },
  {
   "cell_type": "code",
   "execution_count": 13,
   "metadata": {},
   "outputs": [
    {
     "name": "stdout",
     "output_type": "stream",
     "text": [
      "Accuracy of the ensemble on the 10000 test images: 79.774%\n"
     ]
    }
   ],
   "source": [
    "# validate ensemble of base models\n",
    "\n",
    "total = 0\n",
    "correct = 0\n",
    "\n",
    "for data in test_loader:\n",
    "    images, labels = data\n",
    "    images = images.to(device).float()\n",
    "    labels = labels.to(device).long()\n",
    "    outputs = [base_model(images) for base_model in base_models]\n",
    "    outputs = torch.stack(outputs, dim=0).mean(dim=0)\n",
    "    _, predicted = torch.max(outputs, 1)\n",
    "    total += labels.size(0)\n",
    "    correct += (predicted == labels).sum().item()\n",
    "\n",
    "print('Accuracy of the ensemble on the 10000 test images: {}%'.format(100 * correct / total))"
   ]
  }
 ],
 "metadata": {
  "kernelspec": {
   "display_name": "test_ffcv",
   "language": "python",
   "name": "python3"
  },
  "language_info": {
   "codemirror_mode": {
    "name": "ipython",
    "version": 3
   },
   "file_extension": ".py",
   "mimetype": "text/x-python",
   "name": "python",
   "nbconvert_exporter": "python",
   "pygments_lexer": "ipython3",
   "version": "3.9.18"
  }
 },
 "nbformat": 4,
 "nbformat_minor": 2
}
