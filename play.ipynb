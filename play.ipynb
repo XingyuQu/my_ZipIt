{
 "cells": [
  {
   "cell_type": "code",
   "execution_count": 138,
   "metadata": {},
   "outputs": [],
   "source": [
    "import torch\n",
    "from models import my_vgg\n",
    "\n",
    "def validate(model, testloader, criterion, device):\n",
    "    model.eval()\n",
    "    correct = 0\n",
    "    total = 0\n",
    "    loss_sum = 0\n",
    "\n",
    "    with torch.no_grad():\n",
    "        for data in testloader:\n",
    "            images, labels = data\n",
    "            images = images.to(device)\n",
    "            labels = labels.to(device)\n",
    "            outputs = model(images)\n",
    "            loss = criterion(outputs, labels)\n",
    "            loss_sum += loss.item()\n",
    "            _, predicted = torch.max(outputs, 1)\n",
    "            total += labels.size(0)\n",
    "            correct += (predicted == labels).sum().item()\n",
    "    print('Accuracy of the network on the 10000 test images: %d ' % (100 * correct / total))\n",
    "    return loss_sum / total, correct / total\n",
    "\n",
    "def validate_ensemble(model_1, model_2, testloader, criterion, device):\n",
    "    model_1.eval()\n",
    "    model_2.eval()\n",
    "\n",
    "    correct = 0\n",
    "    total = 0\n",
    "    loss_sum = 0\n",
    "\n",
    "    with torch.no_grad():\n",
    "        for data in testloader:\n",
    "            images, labels = data\n",
    "            images = images.to(device)\n",
    "            labels = labels.to(device)\n",
    "            \n",
    "            outputs_1 = model_1(images)\n",
    "            outputs_2 = model_2(images)\n",
    "            \n",
    "            # Average the outputs\n",
    "            outputs = (outputs_1 + outputs_2) / 2\n",
    "            loss = criterion(outputs, labels)\n",
    "            loss_sum += loss.item()\n",
    "            \n",
    "            _, predicted = torch.max(outputs, 1)\n",
    "            total += labels.size(0)\n",
    "            correct += (predicted == labels).sum().item()\n",
    "\n",
    "    print('Accuracy of the ensemble on the 10000 test images: %d ' % (100 * correct / total))\n",
    "    return loss_sum / total, correct / total"
   ]
  },
  {
   "cell_type": "code",
   "execution_count": 7,
   "metadata": {},
   "outputs": [
    {
     "data": {
      "text/plain": [
       "torch.Size([6, 32, 32])"
      ]
     },
     "execution_count": 7,
     "metadata": {},
     "output_type": "execute_result"
    }
   ],
   "source": [
    "import torch\n",
    "\n",
    "x = torch.randn(2, 3, 32, 32)\n",
    "x.flatten(0, 1).shape"
   ]
  },
  {
   "cell_type": "code",
   "execution_count": 2,
   "metadata": {},
   "outputs": [
    {
     "name": "stdout",
     "output_type": "stream",
     "text": [
      "Files already downloaded and verified\n",
      "Files already downloaded and verified\n"
     ]
    }
   ],
   "source": [
    "from utils import prepare_data\n",
    "\n",
    "config = {'dataset': {'name': 'cifar10'}}\n",
    "\n",
    "loaders = prepare_data(config['dataset'])\n",
    "\n",
    "trainloader = loaders['train']['full']\n",
    "testloader = loaders['test']['full']"
   ]
  },
  {
   "cell_type": "code",
   "execution_count": 2,
   "metadata": {},
   "outputs": [],
   "source": [
    "sd_1 = torch.load('checkpoints/cifar10_my_vgg16_1.pt', weights_only=True, map_location='cpu')\n",
    "sd_2 = torch.load('checkpoints/cifar10_my_vgg16_2.pt', weights_only=True, map_location='cpu')\n",
    "sd_zipit = torch.load('checkpoints/cifar10_my_vgg16_zipit_1_2.pt', weights_only=True, map_location='cpu')"
   ]
  },
  {
   "cell_type": "code",
   "execution_count": 48,
   "metadata": {},
   "outputs": [],
   "source": [
    "sd_mid = interpolate(sd_1, sd_2, alpha=0.5)\n",
    "model = my_vgg.my_vgg16()\n",
    "model.load_state_dict(sd_1)\n",
    "model = model.to(0)"
   ]
  },
  {
   "cell_type": "code",
   "execution_count": 56,
   "metadata": {},
   "outputs": [],
   "source": [
    "model_1 = my_vgg.my_vgg16()\n",
    "model_1.load_state_dict(sd_1)\n",
    "model_1 = model_1.to(0)\n",
    "\n",
    "model_2 = my_vgg.my_vgg16()\n",
    "model_2.load_state_dict(sd_2)\n",
    "model_2 = model_2.to(0)"
   ]
  },
  {
   "cell_type": "markdown",
   "metadata": {},
   "source": [
    "## whether we have the same bias issue"
   ]
  },
  {
   "cell_type": "code",
   "execution_count": 3,
   "metadata": {},
   "outputs": [],
   "source": [
    "import torch\n",
    "from models import my_vgg\n",
    "from copy import deepcopy\n",
    "import numpy as np\n",
    "import matplotlib.pyplot as plt\n",
    "from lmc_utils import interpolate_state_dicts, repair\n",
    "\n",
    "sd_1 = torch.load('checkpoints/cifar10_my_vgg16_1.pt', weights_only=True, map_location='cpu')\n",
    "sd_2 = torch.load('checkpoints/cifar10_my_vgg16_2.pt', weights_only=True, map_location='cpu')\n",
    "sd_zipit = torch.load('checkpoints/cifar10_my_vgg16_zipit_1_2.pt', weights_only=True, map_location='cpu')\n",
    "criterion = torch.nn.CrossEntropyLoss()\n",
    "device = torch.device('cuda:0') if torch.cuda.is_available() else torch.device('cpu')"
   ]
  },
  {
   "cell_type": "code",
   "execution_count": 10,
   "metadata": {},
   "outputs": [],
   "source": [
    "model_1, model_2 = my_vgg.my_vgg16(), my_vgg.my_vgg16()\n",
    "model_1.load_state_dict(sd_1)\n",
    "model_2.load_state_dict(sd_2)\n",
    "model_1, model_2 = model_1.to(device), model_2.to(device)\n",
    "\n",
    "\n",
    "model_zipit = my_vgg.my_vgg16()\n",
    "model_zipit.load_state_dict(sd_zipit)\n",
    "model_zipit = model_zipit.to(device)"
   ]
  },
  {
   "cell_type": "code",
   "execution_count": 26,
   "metadata": {},
   "outputs": [
    {
     "name": "stdout",
     "output_type": "stream",
     "text": [
      "Accuracy of the network on the 10000 test images: 40 %\n",
      "Accuracy of the network on the 10000 test images: 13 %\n",
      "Accuracy of the network on the 10000 test images: 13 %\n",
      "Accuracy of the network on the 10000 test images: 12 %\n",
      "Accuracy of the network on the 10000 test images: 12 %\n",
      "Accuracy of the network on the 10000 test images: 12 %\n",
      "Accuracy of the network on the 10000 test images: 12 %\n",
      "Accuracy of the network on the 10000 test images: 12 %\n",
      "Accuracy of the network on the 10000 test images: 12 %\n",
      "Accuracy of the network on the 10000 test images: 12 %\n",
      "Accuracy of the network on the 10000 test images: 12 %\n",
      "Accuracy of the network on the 10000 test images: 13 %\n",
      "Accuracy of the network on the 10000 test images: 10 %\n",
      "Accuracy of the network on the 10000 test images: 13 %\n",
      "Accuracy of the network on the 10000 test images: 53 %\n",
      "Accuracy of the network on the 10000 test images: 39 %\n",
      "Accuracy of the network on the 10000 test images: 69 %\n",
      "Accuracy of the network on the 10000 test images: 74 %\n",
      "Accuracy of the network on the 10000 test images: 81 %\n",
      "Accuracy of the network on the 10000 test images: 83 %\n",
      "Accuracy of the network on the 10000 test images: 83 %\n",
      "Accuracy of the network on the 10000 test images: 83 %\n",
      "Accuracy of the network on the 10000 test images: 83 %\n",
      "Accuracy of the network on the 10000 test images: 83 %\n",
      "Accuracy of the network on the 10000 test images: 83 %\n",
      "Accuracy of the network on the 10000 test images: 83 %\n",
      "Accuracy of the network on the 10000 test images: 83 %\n",
      "Accuracy of the network on the 10000 test images: 82 %\n",
      "Accuracy of the network on the 10000 test images: 53 %\n"
     ]
    }
   ],
   "source": [
    "keys = list(sd_1.keys())\n",
    "bias_keys = []\n",
    "for k in keys:\n",
    "    if 'bias' in k:\n",
    "        bias_keys.append(k)\n",
    "bias_keys = np.array(bias_keys)\n",
    "\n",
    "\n",
    "forward_test_acc_s = []\n",
    "forward_test_loss_s = []\n",
    "\n",
    "\n",
    "model_zipit_removebias = my_vgg.my_vgg16()\n",
    "for i in range(len(bias_keys)+1):\n",
    "    sd_zipt_removebias = deepcopy(sd_zipit)\n",
    "    for k in bias_keys[:i]:\n",
    "        if 'bias' in k:\n",
    "            sd_zipt_removebias[k].fill_(0)\n",
    "    model_zipit_removebias.load_state_dict(sd_zipt_removebias)\n",
    "    loss, acc = validate(model_zipit_removebias, testloader, criterion)\n",
    "    forward_test_acc_s.append(acc)\n",
    "    forward_test_loss_s.append(loss)\n",
    "\n",
    "backward_test_acc_s = [forward_test_acc_s[0]]\n",
    "backward_test_loss_s = [forward_test_loss_s[0]]\n",
    "for i in range(1, len(bias_keys)+1):\n",
    "    sd_zipt_removebias = deepcopy(sd_zipit)\n",
    "    for k in bias_keys[-i:]:\n",
    "        if 'bias' in k:\n",
    "            sd_zipt_removebias[k].fill_(0)\n",
    "    model_zipit_removebias.load_state_dict(sd_zipt_removebias)\n",
    "    loss, acc = validate(model_zipit_removebias, testloader, criterion)\n",
    "    backward_test_acc_s.append(acc)\n",
    "    backward_test_loss_s.append(loss)\n",
    "\n",
    "forward_test_acc_s = np.array(forward_test_acc_s)\n",
    "forward_test_loss_s = np.array(forward_test_loss_s)\n",
    "backward_test_acc_s = np.array(backward_test_acc_s)\n",
    "backward_test_loss_s = np.array(backward_test_loss_s)"
   ]
  },
  {
   "cell_type": "code",
   "execution_count": 32,
   "metadata": {},
   "outputs": [
    {
     "data": {
      "text/plain": [
       "<matplotlib.legend.Legend at 0x234a39265a0>"
      ]
     },
     "execution_count": 32,
     "metadata": {},
     "output_type": "execute_result"
    },
    {
     "data": {
      "image/png": "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",
      "text/plain": [
       "<Figure size 640x480 with 1 Axes>"
      ]
     },
     "metadata": {},
     "output_type": "display_data"
    }
   ],
   "source": [
    "plt.plot(forward_test_acc_s*100, label='Forward')\n",
    "plt.plot(backward_test_acc_s*100, label='Backward')\n",
    "plt.ylabel('Test Accuracy (%)')\n",
    "plt.xlabel('First/Last N bias removed')\n",
    "plt.title('Visualize the effect of removing bias after ZipIt')\n",
    "plt.legend()"
   ]
  },
  {
   "cell_type": "code",
   "execution_count": 11,
   "metadata": {},
   "outputs": [
    {
     "data": {
      "application/vnd.jupyter.widget-view+json": {
       "model_id": "1351cd8110b042ecbd6d237d50803047",
       "version_major": 2,
       "version_minor": 0
      },
      "text/plain": [
       "Resetting batch norm:   0%|          | 0/391 [00:00<?, ?it/s]"
      ]
     },
     "metadata": {},
     "output_type": "display_data"
    },
    {
     "data": {
      "application/vnd.jupyter.widget-view+json": {
       "model_id": "fc79990369bd4b7f9f1bcb8fcb0dd51e",
       "version_major": 2,
       "version_minor": 0
      },
      "text/plain": [
       "Resetting batch norm:   0%|          | 0/391 [00:00<?, ?it/s]"
      ]
     },
     "metadata": {},
     "output_type": "display_data"
    },
    {
     "name": "stdout",
     "output_type": "stream",
     "text": [
      "goal_mean: tensor([-0.8369,  0.0675, -0.4505, -0.4128, -0.3135, -0.1085, -0.5877, -0.4642,\n",
      "        -0.5270, -0.3620, -0.0630,  0.1351, -0.9242, -0.9488, -1.2758, -0.1868,\n",
      "        -0.6932, -0.6036, -0.9778, -0.4735, -0.6030, -0.1383, -0.6388, -1.2790,\n",
      "        -1.2080, -1.2704, -0.5989, -1.0217, -0.9551, -0.4458, -1.1198, -0.7414,\n",
      "        -0.7237, -0.4331, -0.4213, -1.1057, -0.7119,  0.0935, -1.1474, -0.6130,\n",
      "        -0.0667, -0.7024,  0.5033, -0.7686, -0.5042, -0.6589, -0.7587, -1.2202,\n",
      "        -0.0178, -1.4005, -0.6380, -1.3187, -0.7804, -1.4862, -0.2236, -0.0557,\n",
      "        -1.0658, -0.9072, -0.7474, -0.9934, -1.2893,  0.0954, -0.4475, -0.2355],\n",
      "       device='cuda:0')\n",
      "goal_std: tensor([2.2296, 1.7136, 1.5926, 1.5297, 1.1061, 1.8966, 1.2593, 1.2129, 1.3019,\n",
      "        2.3067, 1.4146, 1.4794, 1.6958, 1.9995, 1.4476, 1.6936, 1.6551, 2.7267,\n",
      "        1.9669, 1.4772, 1.6346, 1.7650, 2.1261, 1.6525, 1.5199, 2.6940, 2.3985,\n",
      "        1.4581, 1.8517, 2.0845, 1.6581, 1.8937, 1.0183, 1.8175, 1.4368, 1.9382,\n",
      "        1.9051, 1.7174, 2.2460, 1.4087, 1.7284, 1.8751, 2.3508, 1.5586, 1.4022,\n",
      "        1.3488, 1.9021, 1.5999, 1.7146, 3.3698, 2.0409, 1.4771, 1.3981, 2.3005,\n",
      "        1.7528, 1.6196, 1.0321, 1.9522, 1.2041, 1.8219, 1.8017, 1.3925, 1.2081,\n",
      "        2.0439], device='cuda:0')\n",
      "\n",
      "goal_mean: tensor([-5.3518, -6.3631, -7.5891, -2.4864, -4.5568, -2.6304, -5.6024, -6.0138,\n",
      "        -5.5767, -6.8204, -2.1334, -3.3974, -4.8559, -5.4626, -7.1124, -4.5104,\n",
      "        -5.6351, -3.9416, -6.1937, -5.8328, -6.0640, -7.9827, -3.8131, -5.9050,\n",
      "        -9.0916, -5.5864, -5.7726, -6.6300, -2.7577, -6.0221, -4.7340, -6.7712,\n",
      "        -4.0641, -5.4862, -6.0376, -5.5483, -5.7389, -7.6760, -6.8800, -3.2150,\n",
      "        -0.8267, -8.0607, -6.3368, -7.9364, -7.2843, -5.6594, -3.9001, -6.7637,\n",
      "        -5.1939, -6.4901, -5.7410, -4.3597, -6.0848, -3.8964, -5.5540, -5.4219,\n",
      "        -5.8971, -6.5212, -4.8175, -6.2226, -6.0455, -6.4180, -4.2607, -6.5976],\n",
      "       device='cuda:0')\n",
      "goal_std: tensor([ 8.8472,  8.2385, 10.2481,  3.3611,  6.9874,  3.7313,  7.0000,  7.1155,\n",
      "         7.7958, 10.2944,  2.8998,  5.1585,  6.2301,  7.2671,  8.5501,  5.2957,\n",
      "         7.4916,  5.3424,  8.0837,  7.5939,  9.7304,  9.8036,  6.0189,  7.8991,\n",
      "        11.0641,  7.7064,  6.5078,  8.7146,  3.4582,  7.4541,  6.5128,  7.9219,\n",
      "         7.5207,  8.4733,  9.9349,  5.9813,  6.3273,  8.7375,  7.5638,  5.7025,\n",
      "         1.2567,  9.5400,  8.7242,  9.7656,  8.6077,  7.5007,  4.8344,  9.9018,\n",
      "         8.1170,  8.5711,  6.7943,  5.3394,  8.4812,  5.3754,  7.8739,  7.5944,\n",
      "         6.6412,  9.7214,  7.9320,  9.1550,  7.3330,  9.1667,  6.5667, 11.2707],\n",
      "       device='cuda:0')\n",
      "\n",
      "goal_mean: tensor([ -9.0751, -11.5367,  -6.2184, -11.4866,  -4.6335, -10.0873,  -7.9510,\n",
      "         -7.1843,  -7.0265, -12.4762,  -9.7270,  -8.4216,  -4.9136, -10.6788,\n",
      "         -9.3886,  -5.8531,  -8.4110,  -8.8739, -10.3120,  -8.1670, -10.9282,\n",
      "        -13.5791,  -8.1625,  -6.8991,  -8.0446,  -3.7316,  -9.4849, -12.5748,\n",
      "        -11.0954,  -7.6207,  -8.1115,  -8.4712, -11.2012,  -6.8092,  -9.7778,\n",
      "         -7.2011,  -7.5571, -10.6944,  -5.4938, -10.4824, -10.5422, -11.0781,\n",
      "         -7.7300,  -9.9758,  -6.6676,  -9.7313, -10.2700,  -8.5849, -10.3202,\n",
      "        -11.2683,  -8.9064,  -8.5455, -12.2260,  -9.5821,  -4.2780,  -9.7609,\n",
      "        -12.5685,  -4.5968, -11.0786, -10.9473,  -6.8113,  -8.3226, -11.4088,\n",
      "         -8.0293,  -8.2120,  -6.9524,  -9.0613,  -7.5810, -14.0764,  -6.9067,\n",
      "        -10.3349,  -8.4254, -11.7214,  -7.9826,  -7.7800,  -8.4058, -10.4338,\n",
      "         -7.4883, -10.8703,  -8.4210, -10.9345, -10.0548,  -6.0500, -12.7482,\n",
      "        -15.7395,  -9.9280,  -7.0630, -12.3766,  -8.9293, -11.5474,  -9.9528,\n",
      "        -12.0354,  -6.1724,  -9.9205, -11.8748, -11.4184, -11.0086,  -4.4655,\n",
      "        -14.9829,  -5.7497, -12.6476, -10.9469,  -7.1262, -14.3390, -11.0277,\n",
      "        -11.0686,  -7.4405,  -9.4070, -11.5671,  -5.8886,  -7.7640,  -5.3258,\n",
      "         -9.1197,  -6.0627,  -6.0210,  -6.0161,  -9.1886, -10.2325,  -6.2755,\n",
      "        -11.0257, -12.5303,  -9.3287, -10.5889, -15.2758, -15.8544, -11.1998,\n",
      "         -9.2755, -10.4591], device='cuda:0')\n",
      "goal_std: tensor([16.2365, 15.1081, 11.9170, 15.4770, 10.5105, 16.2270, 12.8061, 12.4305,\n",
      "        12.1891, 14.5774, 15.7501, 12.2666,  9.6397, 16.0120, 13.7946, 12.9472,\n",
      "        13.9538, 13.7033, 14.6217, 15.3146, 13.6393, 17.0726, 11.8545,  9.3857,\n",
      "        12.2259,  7.3552, 16.5837, 17.1020, 15.4070, 12.6013, 12.7629, 14.4972,\n",
      "        14.7475, 12.2058, 15.0014, 12.2835, 13.8238, 14.8995,  9.4289, 19.4647,\n",
      "        15.1699, 14.6477, 10.2418, 15.8787,  8.9214, 16.0189, 15.3797, 14.1067,\n",
      "        16.7059, 15.8147, 13.8484, 14.3760, 18.0867, 12.4262,  8.7905, 14.2316,\n",
      "        14.4568,  7.4958, 15.6837, 15.8778, 12.0049, 13.1056, 16.9129, 13.5566,\n",
      "        13.8791, 12.7098, 12.8221, 14.5655, 17.1279, 13.9903, 15.9058, 15.1247,\n",
      "        15.8591, 14.8532, 14.2692, 14.5585, 15.4147, 11.0524, 19.4342, 11.9668,\n",
      "        16.0196, 17.6639, 14.6073, 15.0460, 19.0096, 13.8254, 13.2424, 15.4909,\n",
      "        13.5178, 16.3880, 16.5744, 14.5650,  9.7793, 16.0903, 17.7108, 17.2949,\n",
      "        18.1332,  6.9469, 14.2643, 12.7022, 16.3030, 13.9543, 12.1269, 19.4793,\n",
      "        15.4152, 16.2438, 11.8305, 13.8468, 15.2274, 15.2160, 15.4487,  7.2880,\n",
      "        14.0987, 11.7530,  9.1595, 14.4462, 10.9023, 15.9139, 11.0810, 18.3421,\n",
      "        18.8232, 12.8502, 15.7890, 14.7562, 16.9884, 16.3973, 13.7404, 14.7053],\n",
      "       device='cuda:0')\n",
      "\n",
      "goal_mean: tensor([-48.5012, -36.9304, -27.6759, -40.3050, -38.9157, -31.2088, -37.5549,\n",
      "        -37.0850, -37.0593, -37.5044, -44.6880, -40.3678, -32.7093, -33.5353,\n",
      "        -31.2726, -37.8660, -40.5818, -39.7068, -33.9935, -35.6411, -33.1279,\n",
      "        -44.6470, -37.3576, -46.4176, -29.7150, -42.8817, -33.6096, -38.0926,\n",
      "        -36.5154, -35.5756, -34.0661, -38.2945, -27.9129, -42.9424, -36.5836,\n",
      "        -40.0235, -35.8444, -17.5154, -39.3774, -31.2925, -41.2868, -38.2052,\n",
      "        -31.0751, -41.3082, -43.6533, -33.9314, -41.8875, -45.2252, -14.1802,\n",
      "        -33.0336, -38.0007, -32.1783, -43.2212, -39.1926, -33.1098, -32.4167,\n",
      "        -30.6775, -33.1166, -39.9901, -37.3197, -28.6326, -37.4126, -37.5731,\n",
      "        -36.7429, -39.0611, -34.7751, -40.2868, -36.8440, -36.8947, -35.3489,\n",
      "        -42.3757, -35.5625, -40.6585, -38.3665, -41.0810, -39.5346, -30.8037,\n",
      "        -39.2803, -35.0703, -36.8442, -36.3638, -36.8617, -31.9015, -38.9076,\n",
      "        -35.7971, -35.6502, -34.5636, -39.7405, -40.4575, -35.2594, -44.0580,\n",
      "        -37.9592, -39.4716, -38.0475, -38.2119, -38.4113, -35.2845, -39.9636,\n",
      "        -33.6028, -36.4030, -41.1339, -33.5209, -42.2865, -38.7315, -47.6063,\n",
      "        -39.4693, -33.5817, -34.0902, -41.3073, -37.6544, -38.0677, -39.7695,\n",
      "        -33.9031, -37.5778, -37.0494, -33.6555, -40.3407, -30.2824, -42.3155,\n",
      "        -44.5069, -31.3698, -35.4347, -43.7844, -33.2647, -32.7443, -46.6159,\n",
      "        -33.8753, -35.2765], device='cuda:0')\n",
      "goal_std: tensor([30.9558, 29.9478, 29.0940, 30.5751, 30.0775, 27.2529, 27.5462, 30.7079,\n",
      "        30.2467, 31.1824, 29.4909, 31.8279, 26.7567, 27.1576, 26.7890, 27.6868,\n",
      "        29.5973, 28.0223, 32.1644, 29.0756, 28.8749, 32.7804, 28.9642, 30.8793,\n",
      "        26.6478, 29.3845, 28.0818, 27.9470, 27.3639, 26.6681, 28.6711, 30.0559,\n",
      "        25.7055, 30.0845, 28.2243, 29.4178, 27.5428, 15.4463, 29.1977, 25.3023,\n",
      "        29.9507, 29.7047, 24.5891, 31.1811, 31.4255, 25.5554, 28.2220, 30.3971,\n",
      "        18.9972, 24.3848, 24.5341, 28.3973, 31.0793, 29.0511, 27.0161, 26.2796,\n",
      "        24.5336, 25.7206, 28.0564, 28.6275, 25.5841, 27.3296, 29.1526, 31.3913,\n",
      "        27.3339, 29.5337, 29.1236, 32.2388, 28.4517, 27.7032, 30.3141, 28.8209,\n",
      "        32.0037, 31.0133, 32.0951, 26.8558, 23.5482, 29.6101, 28.7426, 29.5550,\n",
      "        27.7136, 27.9936, 25.5700, 30.6070, 26.1689, 25.7195, 27.8045, 27.4817,\n",
      "        28.8772, 26.5263, 33.3932, 29.0076, 28.5340, 28.1304, 26.8591, 26.2452,\n",
      "        28.3429, 28.2576, 25.2413, 25.6078, 30.8046, 28.1747, 29.2837, 28.9487,\n",
      "        35.0123, 31.8677, 25.6295, 26.2092, 30.9675, 29.1636, 27.7619, 30.6628,\n",
      "        25.5222, 27.1282, 30.9088, 28.1022, 30.9028, 26.5033, 32.0607, 30.8143,\n",
      "        29.0175, 26.0905, 29.8388, 26.6246, 26.6886, 36.0809, 25.1433, 28.3151],\n",
      "       device='cuda:0')\n",
      "\n",
      "goal_mean: tensor([-45.6946, -16.7793, -49.3699, -41.6131, -43.8206, -51.6169, -41.8053,\n",
      "        -37.6700, -39.1426, -22.9034, -39.4162, -48.1455, -47.9158, -49.8695,\n",
      "        -48.0307, -28.6032, -29.6389, -38.2944, -35.4814, -37.2613, -51.3395,\n",
      "        -49.9694, -47.7271, -47.8682, -51.2786, -50.8879, -43.0827, -32.8537,\n",
      "        -26.0754, -42.8388, -48.9475, -30.6872, -34.6879, -46.6123, -38.8561,\n",
      "        -23.4363, -26.7881, -49.6097, -58.9428, -47.0024, -53.3627, -29.3461,\n",
      "        -32.7474, -29.6559, -43.3994, -46.3463, -50.2249, -41.7682, -38.2424,\n",
      "        -50.0074, -30.4448, -53.5971, -46.3668, -35.9537, -44.3016, -26.4715,\n",
      "        -32.5014, -30.5369, -42.1653, -45.4259, -31.7820, -41.0381, -35.5370,\n",
      "        -28.7068, -58.9827, -34.6715, -32.9956, -35.1444, -24.4829, -40.2420,\n",
      "        -39.6702, -43.4790, -46.4266, -39.8249, -38.1792, -42.2937, -34.5608,\n",
      "        -41.3058, -30.2374, -42.0361, -44.0683, -45.9032, -34.7671, -53.6222,\n",
      "        -42.3371, -48.7844, -38.2164, -37.8619, -46.1772, -49.1312, -47.2506,\n",
      "        -28.1866, -27.4006, -42.2840, -36.3705, -31.2119, -52.9148, -40.4699,\n",
      "        -40.8909, -48.2941, -52.0667, -40.3953, -37.1718, -32.0746, -41.8867,\n",
      "        -23.4756, -35.7765, -42.1048, -40.1492, -27.0485, -36.8421, -39.5609,\n",
      "        -45.3054, -41.5551, -44.5170, -42.6538, -41.8892, -42.9441, -36.0015,\n",
      "        -38.6833, -58.8572, -31.5373, -38.9592, -41.3362, -39.0346, -34.7283,\n",
      "        -44.8347, -31.8911, -55.8882, -39.3387, -26.6596, -45.5356, -53.2081,\n",
      "        -43.7169, -37.5457, -42.4856, -31.1753, -38.3253, -50.5886, -43.6461,\n",
      "        -44.3904, -46.0928, -51.6389, -39.9341, -45.0425, -27.1617, -49.6981,\n",
      "        -49.5467, -45.0277, -48.1744, -31.6418, -52.6475, -34.4543, -42.8726,\n",
      "        -41.2201, -40.9640, -40.8612, -34.5773, -32.3601, -44.0933, -16.4344,\n",
      "        -42.8693, -52.2566, -49.2943, -54.8687, -40.7257, -26.1370, -46.7780,\n",
      "        -40.1172, -36.6463, -44.2720, -43.3186, -56.4059, -38.1484, -32.9099,\n",
      "        -35.2736, -44.7387, -43.1799, -41.4784, -44.6185, -39.3190, -47.0708,\n",
      "        -33.4895, -49.5295, -49.4222, -30.0976, -43.3260, -36.2477, -46.6047,\n",
      "        -38.4848, -45.0532, -53.1003, -33.4559, -42.0715, -35.7362, -46.8410,\n",
      "        -36.2601, -44.2856, -34.5523, -53.9631, -44.2614, -35.8439, -43.6418,\n",
      "        -56.0364, -32.5346, -43.4430, -39.4994, -50.3109, -46.7755, -35.3161,\n",
      "        -38.9081, -41.0952, -46.4719, -23.5303, -55.9951, -30.9293, -25.8091,\n",
      "        -50.8375, -31.2980, -23.0111, -44.7401, -35.2164, -41.9844, -43.0956,\n",
      "        -47.9911, -49.2255, -44.6852, -45.5057, -51.8323, -42.2363, -40.9694,\n",
      "        -43.7375, -33.4160, -38.4931, -46.7768, -40.5075, -32.0504, -35.1612,\n",
      "        -35.9839, -50.2494, -46.9048, -48.8159, -46.3785, -45.1763, -32.1784,\n",
      "        -38.4406, -42.6924, -53.6670, -48.7502, -37.4847, -37.2312, -42.5251,\n",
      "        -37.3009, -31.4758, -35.7370, -55.3357], device='cuda:0')\n",
      "goal_std: tensor([52.4848, 24.3492, 51.0900, 40.9309, 49.9082, 49.3425, 44.6060, 42.6195,\n",
      "        43.1667, 24.4441, 41.8305, 49.4138, 50.7845, 47.3574, 45.7124, 24.5594,\n",
      "        38.1971, 42.3711, 37.2978, 38.5775, 43.9745, 50.7311, 53.0894, 47.8857,\n",
      "        49.5628, 50.3995, 45.2135, 34.2556, 30.5046, 40.2952, 50.3816, 39.2900,\n",
      "        36.8267, 50.4416, 43.4876, 35.4223, 32.3610, 51.5149, 47.5949, 44.5192,\n",
      "        47.7032, 37.4227, 32.7442, 35.0646, 39.0245, 41.6004, 44.8458, 45.2066,\n",
      "        40.8524, 46.0557, 37.5288, 46.3885, 46.9415, 38.4043, 43.8452, 23.8126,\n",
      "        33.2373, 35.8093, 43.7672, 48.6891, 35.7963, 43.5504, 41.4505, 31.7820,\n",
      "        47.7606, 39.7168, 41.2931, 39.8772, 23.0725, 44.3877, 44.4155, 43.9044,\n",
      "        46.0613, 40.6065, 38.2202, 42.0664, 41.2161, 43.5099, 30.4670, 43.8704,\n",
      "        45.9489, 45.2947, 43.3427, 47.7037, 44.1977, 49.3681, 46.8538, 40.7935,\n",
      "        45.0009, 47.0444, 46.3836, 35.0611, 34.3340, 40.2409, 46.2679, 37.2237,\n",
      "        54.6270, 44.7943, 45.9639, 48.1128, 49.2415, 42.0792, 41.0973, 39.0050,\n",
      "        43.9924, 31.1887, 42.0583, 49.7678, 45.7491, 33.8476, 45.5854, 48.5992,\n",
      "        45.7549, 44.4742, 46.5942, 44.1324, 43.7903, 43.3241, 41.5850, 36.6415,\n",
      "        52.7297, 32.2056, 42.4878, 43.3202, 38.5101, 43.2531, 46.9439, 34.4719,\n",
      "        55.9170, 39.2409, 34.3718, 41.1708, 51.5700, 49.9405, 45.2911, 42.7333,\n",
      "        36.5279, 39.9471, 49.6859, 44.5095, 49.1565, 51.2437, 49.1339, 38.1836,\n",
      "        47.3979, 32.2927, 46.5047, 47.6376, 41.7765, 45.9984, 38.7251, 50.2191,\n",
      "        46.2277, 49.5836, 34.9229, 39.2775, 40.8185, 45.1338, 38.1874, 47.5233,\n",
      "        25.5004, 51.9337, 42.8025, 46.3643, 54.4724, 38.9788, 28.8026, 44.3989,\n",
      "        41.4777, 44.5219, 47.8498, 46.0190, 55.3060, 43.2089, 27.8533, 38.9651,\n",
      "        45.3712, 46.2496, 46.0591, 43.9270, 48.8879, 44.4211, 39.6630, 45.4238,\n",
      "        46.0112, 40.7096, 46.7094, 46.8202, 46.6770, 36.8055, 46.8640, 47.9098,\n",
      "        40.6384, 40.9579, 40.6633, 48.3775, 38.7528, 48.4376, 41.9466, 51.8297,\n",
      "        45.4743, 36.2165, 41.1831, 47.8563, 37.4629, 45.6643, 42.0109, 47.1117,\n",
      "        47.3588, 32.3098, 45.1128, 44.5876, 49.9327, 23.1412, 50.9840, 37.3209,\n",
      "        32.8067, 47.0429, 32.5707, 29.0802, 45.3498, 38.4128, 41.5153, 44.7152,\n",
      "        45.5405, 47.3394, 47.5049, 48.2661, 45.9315, 40.3587, 40.9588, 46.0730,\n",
      "        42.2453, 49.0267, 45.4469, 45.6786, 40.7595, 44.4427, 38.3056, 44.9431,\n",
      "        43.2485, 45.8190, 47.2070, 48.4061, 29.7036, 41.7493, 43.4628, 46.8194,\n",
      "        46.5627, 41.0427, 46.0107, 40.0573, 41.3312, 37.5901, 40.7449, 54.2054],\n",
      "       device='cuda:0')\n",
      "\n",
      "goal_mean: tensor([-67.9873, -46.9539, -46.8023, -62.1785, -50.7810, -41.6536, -59.2142,\n",
      "        -51.9478, -30.8423, -57.3278, -72.8071, -36.1977, -44.1434, -51.7622,\n",
      "        -72.4432, -73.8708, -41.0816, -38.3384, -62.7037, -50.5262, -73.6953,\n",
      "        -63.3846, -58.2623, -58.2029, -41.9410, -36.6068, -53.2007, -61.9390,\n",
      "        -73.2144, -59.0704, -48.1040, -58.5472, -80.7083, -64.5214, -54.4491,\n",
      "        -83.0407, -79.3841, -61.3523, -58.6960, -52.5971, -65.7646, -58.9508,\n",
      "        -57.0542, -28.6819, -75.4905, -44.6513, -52.3836, -65.2385, -51.6370,\n",
      "        -51.9410, -71.9560, -51.3737, -83.8842, -51.6494, -66.1567, -56.2212,\n",
      "        -55.7866, -68.7597, -41.0254, -47.5897, -71.1205, -86.5290, -51.2586,\n",
      "        -34.6651, -42.2495, -61.6315, -52.3845, -59.7702, -49.4533, -55.9496,\n",
      "        -64.8860, -59.4208, -63.8530, -75.4029, -50.6866, -50.7165, -56.9445,\n",
      "        -69.4964, -48.2202, -24.3929, -70.4913, -51.1303, -64.7447, -65.9941,\n",
      "        -64.2790, -31.9576, -64.6241, -60.6953, -56.1549, -29.9360, -58.7374,\n",
      "        -64.6245, -44.0868, -30.3544, -68.4402, -56.1931, -62.9277, -54.2301,\n",
      "        -49.3158, -66.6104, -30.0817, -35.4039, -57.9614, -64.4771, -57.2900,\n",
      "        -67.9619, -63.0008, -66.7006, -57.3635, -51.5706, -57.9004, -57.3444,\n",
      "        -63.1296, -51.3201, -59.5696, -43.2702, -61.6951, -52.3914, -56.9823,\n",
      "        -61.0846, -37.8551, -45.8483, -56.3186, -54.5135, -69.0186, -68.8322,\n",
      "        -71.2483, -49.1574, -70.4244, -63.8694, -81.8873, -54.5217, -76.1351,\n",
      "        -78.3504, -51.8188, -63.5362, -69.5657, -65.5021, -53.2841, -55.0490,\n",
      "        -57.7056, -69.5989, -59.3720, -31.9167, -56.4949, -68.8631, -73.9886,\n",
      "        -57.6889, -25.8446, -73.9811, -51.9072, -61.8717, -40.9840, -44.3843,\n",
      "        -56.8375, -56.2138, -40.2527, -51.4146, -69.1903, -41.0017, -57.4513,\n",
      "        -56.0310, -57.8228, -52.1181, -61.5032, -79.6121, -55.8416, -47.7315,\n",
      "        -46.9633, -59.8793, -69.9560, -66.3972, -68.4439, -62.1225, -57.3133,\n",
      "        -68.0347, -53.0128, -51.7137, -55.1316, -49.9122, -58.4756, -66.6470,\n",
      "        -37.1761, -59.2445, -79.2915, -71.1579, -56.2992, -56.2101, -79.4282,\n",
      "        -52.7550, -54.8170, -63.5032, -71.9960, -58.8874, -77.9151, -64.7953,\n",
      "        -65.4951, -66.6822, -51.9982, -49.2597, -62.9561, -35.7171, -43.6113,\n",
      "        -54.8640, -47.0554, -68.9950, -65.8119, -48.1759, -58.3403, -80.2044,\n",
      "        -37.9695, -67.6006, -58.9826, -56.4947, -75.4048, -73.8852, -53.3409,\n",
      "        -56.6960, -70.1407, -72.3375, -50.7444, -67.4697, -55.7205, -53.3276,\n",
      "        -61.2790, -47.3134, -56.0760, -60.4106, -56.4084, -58.1773, -64.0443,\n",
      "        -77.8539, -31.3517, -53.6683, -57.4851, -59.9017, -45.7279, -77.3521,\n",
      "        -63.4587, -58.3135, -58.3142, -58.3745, -67.0227, -56.0297, -65.8667,\n",
      "        -46.2246, -47.6219, -64.3305, -67.5820, -53.5896, -55.9819, -47.2629,\n",
      "        -60.1070, -48.9716, -53.8506, -62.5855], device='cuda:0')\n",
      "goal_std: tensor([53.9275, 45.4399, 42.3960, 49.1622, 46.8733, 34.8293, 55.7248, 52.6897,\n",
      "        23.9908, 50.2586, 53.6634, 35.1194, 48.8601, 54.3970, 64.1135, 61.0533,\n",
      "        43.2211, 57.6477, 51.6478, 47.3750, 60.7793, 51.1824, 60.6246, 44.9000,\n",
      "        37.1226, 35.4022, 46.2176, 63.2267, 54.0683, 49.6506, 49.6630, 52.2514,\n",
      "        65.2431, 51.7414, 50.7098, 57.6493, 59.3685, 54.8069, 53.5885, 52.6905,\n",
      "        65.9401, 55.1925, 52.9586, 25.7609, 57.7176, 60.7159, 45.9922, 51.3675,\n",
      "        50.3380, 56.7289, 55.1334, 51.5372, 65.3942, 42.8959, 50.6339, 51.6167,\n",
      "        49.6404, 54.3223, 43.9158, 55.1384, 63.6964, 61.4338, 63.0592, 37.4317,\n",
      "        30.5151, 52.0692, 54.3187, 53.3182, 47.3652, 58.9860, 53.2514, 55.7991,\n",
      "        54.7069, 64.1687, 51.0381, 47.6009, 52.8801, 56.7142, 50.5190, 25.2169,\n",
      "        56.5221, 49.2516, 60.2887, 52.4300, 54.3759, 36.9141, 54.3571, 48.3205,\n",
      "        50.7440, 38.2710, 52.1786, 55.5203, 60.3352, 37.2974, 62.6922, 48.5772,\n",
      "        63.7792, 57.1120, 42.2294, 59.7444, 32.5644, 34.2171, 54.4630, 57.7651,\n",
      "        51.4187, 53.2297, 50.8536, 56.9898, 46.8519, 46.6172, 51.4213, 48.0365,\n",
      "        57.4036, 50.3482, 50.8408, 43.6596, 50.0386, 46.1941, 51.3999, 53.1957,\n",
      "        45.4420, 54.8884, 49.9996, 52.2741, 51.7080, 59.4520, 56.8823, 51.9512,\n",
      "        57.9825, 54.7226, 62.1762, 60.2873, 58.1340, 56.6732, 46.6626, 54.1945,\n",
      "        50.4841, 52.8974, 48.4971, 56.4535, 51.1187, 55.6796, 52.8093, 30.3495,\n",
      "        50.6146, 52.3704, 55.8142, 52.0402, 31.7292, 60.2309, 48.1142, 59.7520,\n",
      "        45.2998, 49.7518, 52.6420, 50.7806, 42.9669, 50.3993, 56.2720, 36.5683,\n",
      "        60.0883, 50.5898, 57.5289, 44.4596, 53.6149, 59.4048, 59.0451, 40.2687,\n",
      "        51.0475, 47.9478, 55.7666, 58.4542, 54.2149, 54.5315, 53.8358, 55.6206,\n",
      "        49.4428, 51.8761, 52.5693, 44.8910, 52.7763, 62.0595, 31.0759, 54.6327,\n",
      "        60.4142, 52.7244, 53.9915, 42.2510, 63.2884, 56.3706, 55.0539, 51.6515,\n",
      "        59.2171, 50.4190, 63.4771, 49.3053, 53.9873, 53.6803, 56.4168, 46.4782,\n",
      "        51.2085, 47.2445, 52.1052, 49.4404, 42.1597, 57.7683, 57.0758, 49.9937,\n",
      "        54.4029, 60.4382, 34.5601, 49.0666, 55.4725, 49.8897, 58.2515, 57.7140,\n",
      "        56.9018, 52.7990, 57.0771, 55.7454, 56.7205, 56.6451, 43.7431, 57.6733,\n",
      "        54.9831, 52.0361, 46.5233, 53.3024, 48.0902, 55.0970, 53.3143, 59.8798,\n",
      "        32.3534, 54.8509, 48.4324, 54.2046, 41.3187, 56.7970, 54.4613, 54.0971,\n",
      "        56.9023, 46.2519, 50.4575, 51.4138, 59.1925, 53.0734, 46.0155, 58.0494,\n",
      "        56.6863, 56.5786, 56.9613, 44.8485, 56.0804, 53.9155, 52.9711, 50.7581],\n",
      "       device='cuda:0')\n",
      "\n",
      "goal_mean: tensor([-63.1231, -68.0686, -62.8286, -67.0306, -48.4124, -64.3699, -47.9865,\n",
      "        -67.2173, -57.1933, -70.9242, -60.7252, -60.6802, -71.9222, -72.3936,\n",
      "        -62.0445, -61.2670, -56.1708, -51.8010, -65.2741, -51.9362, -53.7517,\n",
      "        -64.7545, -62.9752, -66.2516, -54.1642, -72.6489, -74.6019, -60.8396,\n",
      "        -57.3754, -62.1717, -77.4762, -61.6947, -51.5320, -53.5489, -39.7349,\n",
      "        -51.1226, -64.4915, -53.9656, -28.4613, -48.7510, -74.8512, -48.9323,\n",
      "        -57.9410, -55.8340, -63.3355, -77.1031, -81.9327, -67.2031, -64.0562,\n",
      "        -73.2916, -73.6049, -69.6524, -46.4131, -64.4656, -54.0248, -71.3570,\n",
      "        -64.1740, -66.0976, -61.2391, -50.2950, -67.0516, -60.8041, -50.6198,\n",
      "        -47.9474, -44.9748, -50.3727, -56.6291, -55.3495, -61.4477, -66.1497,\n",
      "        -44.9503, -63.0097, -45.1104, -56.1426, -75.9496, -60.6934, -56.4628,\n",
      "        -75.5794, -46.1474, -49.4608, -51.6414, -57.4289, -65.6383, -71.2917,\n",
      "        -62.7218, -53.6937, -73.3613, -57.6321, -53.4478, -62.8154, -64.6820,\n",
      "        -69.6050, -60.4544, -72.7571, -52.6012, -58.8831, -61.2098, -48.2080,\n",
      "        -65.7687, -70.1403, -40.4574, -63.5576, -40.1068, -52.0559, -56.9643,\n",
      "        -52.8747, -65.3158, -55.5674, -67.5331, -67.4750, -54.6799, -82.9810,\n",
      "        -67.6645, -55.3078, -48.2765, -67.1046, -64.9250, -52.0779, -49.5805,\n",
      "        -73.8178, -60.6184, -54.9563, -60.7704, -46.8395, -47.0237, -62.3677,\n",
      "        -53.8284, -72.9646, -65.4867, -62.3110, -62.1915, -63.5882, -56.4832,\n",
      "        -51.4941, -65.5698, -78.8538, -61.8605, -51.5153, -66.2559, -51.9039,\n",
      "        -52.2390, -58.8664, -52.5407, -72.5779, -64.2779, -76.8512, -71.3742,\n",
      "        -62.1698, -56.9864, -47.4804, -54.2149, -79.0183, -48.6895, -51.1889,\n",
      "        -57.9813, -52.5704, -62.9459, -54.2051, -67.2030, -44.5334, -52.0054,\n",
      "        -62.7123, -72.4006, -50.4104, -63.8027, -63.3588, -46.6081, -60.5396,\n",
      "        -46.6506, -51.4733, -49.0511, -47.5406, -60.8133, -64.6840, -72.1230,\n",
      "        -85.1131, -54.4873, -72.2860, -50.3822, -57.0897, -81.1601, -55.4519,\n",
      "        -62.5448, -60.7909, -61.1129, -51.6672, -57.8935, -39.3610, -53.9100,\n",
      "        -70.6143, -61.2639, -57.0922, -65.4840, -77.2471, -50.5662, -58.4663,\n",
      "        -73.7451, -61.1250, -33.8041, -50.8784, -80.6396, -62.1167, -49.0430,\n",
      "        -57.3009, -61.4977, -58.2130, -83.3822, -46.9674, -45.4905, -68.4870,\n",
      "        -61.0494, -64.7106, -81.9665, -61.4512, -54.2221, -67.9293, -61.5086,\n",
      "        -56.2472, -60.8199, -58.9903, -23.6783, -57.0183, -31.4803, -78.2746,\n",
      "        -52.3907, -46.8777, -64.9612, -61.9273, -65.5403, -59.0923, -63.6149,\n",
      "        -57.0518, -45.2114, -53.4872, -43.2027, -46.4898, -79.4159, -60.2299,\n",
      "        -48.5496, -55.2352, -54.6041, -54.3880, -48.3984, -49.6856, -59.5868,\n",
      "        -72.1710, -65.1005, -67.6282, -63.0952, -59.4897, -78.3066, -63.2492,\n",
      "        -64.6194, -60.5419, -67.5315, -73.1910], device='cuda:0')\n",
      "goal_std: tensor([42.3757, 47.7903, 44.8564, 47.0695, 35.8099, 45.0101, 38.2997, 46.0825,\n",
      "        39.3033, 48.9718, 44.4808, 46.6534, 49.4332, 50.8689, 43.1405, 41.8778,\n",
      "        46.4885, 39.0393, 43.8229, 40.1226, 39.7542, 48.9305, 40.3990, 46.8695,\n",
      "        38.8226, 53.1339, 50.5370, 42.1553, 45.7484, 45.6390, 50.0972, 44.8926,\n",
      "        35.9275, 38.2854, 31.4816, 36.8785, 45.8639, 45.4725, 25.7483, 36.4504,\n",
      "        49.5638, 38.9635, 43.3068, 48.5310, 44.7370, 55.6716, 54.5954, 48.3787,\n",
      "        50.7041, 53.5131, 54.3982, 51.5995, 40.4810, 45.7751, 38.8688, 49.7457,\n",
      "        44.5091, 48.2806, 43.0054, 37.9164, 48.4829, 45.4940, 43.3422, 37.9823,\n",
      "        32.3963, 41.4120, 40.8285, 41.2600, 47.4836, 46.9753, 40.8037, 43.0616,\n",
      "        37.5544, 39.9895, 52.8235, 43.7737, 47.8054, 51.8177, 37.1102, 34.0608,\n",
      "        37.4208, 40.0411, 48.6239, 50.9600, 45.9538, 38.7969, 49.2419, 39.0069,\n",
      "        44.0028, 44.1537, 41.8147, 45.1337, 44.9361, 50.3009, 41.1914, 46.6781,\n",
      "        43.4863, 38.7326, 46.1438, 47.1797, 30.5924, 42.8131, 32.8021, 40.1962,\n",
      "        47.3648, 43.5695, 47.5482, 41.1497, 50.2507, 48.9904, 41.4037, 53.8251,\n",
      "        49.8545, 43.5960, 38.5070, 45.8070, 47.4991, 40.6938, 38.4104, 49.7648,\n",
      "        46.8250, 42.0692, 46.5925, 34.7925, 34.5612, 44.6566, 36.8300, 55.0876,\n",
      "        46.4370, 46.1493, 41.5919, 45.0217, 43.6216, 38.1177, 47.5168, 53.2393,\n",
      "        50.1479, 37.7650, 50.1787, 38.7101, 41.7685, 40.8049, 41.1876, 50.0349,\n",
      "        42.7408, 54.4165, 52.6857, 45.3387, 40.1883, 37.4345, 44.4464, 54.1948,\n",
      "        38.7199, 40.0719, 43.8378, 40.2993, 48.9837, 40.1857, 48.6143, 37.1797,\n",
      "        34.5134, 45.2116, 49.3548, 42.1188, 42.6467, 46.5691, 39.3312, 43.6374,\n",
      "        36.7493, 41.9261, 41.2594, 36.8622, 48.6904, 47.6153, 48.5072, 57.1650,\n",
      "        42.3158, 51.7630, 39.9289, 43.3757, 50.3022, 40.7554, 43.9328, 46.1390,\n",
      "        43.0095, 40.3196, 42.3870, 30.9251, 43.5767, 45.8730, 43.9811, 43.5849,\n",
      "        48.4273, 50.6927, 38.0142, 44.6724, 53.0462, 45.7578, 27.5927, 36.1310,\n",
      "        54.5803, 42.0296, 37.0567, 41.6007, 42.4927, 42.0194, 56.3537, 37.7005,\n",
      "        33.1820, 46.7649, 46.8016, 47.6197, 51.7726, 43.1887, 39.5333, 46.6577,\n",
      "        45.4023, 46.2659, 45.7747, 43.1019, 21.7383, 39.2425, 24.7812, 53.0770,\n",
      "        36.7042, 37.0094, 50.3276, 46.9374, 46.5470, 45.8754, 43.6450, 42.4271,\n",
      "        39.1768, 38.3708, 32.8451, 36.1035, 49.7806, 45.4282, 45.0027, 40.5167,\n",
      "        42.4464, 39.0471, 43.9907, 38.0696, 45.7059, 48.0882, 46.5323, 50.0262,\n",
      "        45.3466, 38.8407, 54.7461, 45.4301, 44.2601, 50.0940, 47.4250, 50.6990],\n",
      "       device='cuda:0')\n",
      "\n",
      "goal_mean: tensor([-37.7431, -25.3389, -33.7045, -32.0604, -26.3511, -19.7890, -15.3018,\n",
      "        -31.8101, -32.9507, -39.0425, -16.8447, -47.8462,  -2.3888, -36.4962,\n",
      "        -28.4806, -21.0473, -33.5129, -16.4315, -26.4711, -24.2162, -26.3177,\n",
      "        -50.4448, -25.3252, -35.4294, -13.8334, -32.2475, -17.4296, -33.8320,\n",
      "        -31.0440, -20.1504, -33.2162, -29.6065, -35.0514, -26.8579, -31.0673,\n",
      "        -46.0156, -36.1952, -35.1026, -23.3100, -42.9518, -25.2762, -37.9391,\n",
      "        -24.4380, -26.8190, -10.8284, -41.9337, -31.3416, -13.9816, -31.1748,\n",
      "        -37.4368, -20.7987, -13.8044, -17.8714, -39.1575, -33.5576, -23.0151,\n",
      "        -24.0893, -50.2861, -37.0705, -53.1836, -29.2331,  -7.5846, -23.4991,\n",
      "        -22.2406, -28.1546, -36.9634, -31.9852, -30.6398, -32.7828, -25.7215,\n",
      "        -23.9978, -19.0412, -33.7912, -37.9564, -39.5598, -45.1855, -51.9627,\n",
      "        -33.7356, -31.7079, -31.9312, -36.6412, -41.1693, -17.7198, -40.6935,\n",
      "        -32.6301, -39.4405, -24.9889,  -3.8768, -29.8186, -39.9424, -38.7789,\n",
      "        -40.7626, -21.7170, -37.6318, -24.9088, -29.3163, -18.3940, -28.4105,\n",
      "        -33.6829, -36.3601, -37.5421, -42.0348, -27.0127, -40.4259, -34.5811,\n",
      "        -34.4096, -19.1206, -13.0059, -40.7587, -21.0724, -27.7084, -23.0372,\n",
      "        -41.5933, -14.6307, -39.4104, -34.4121, -33.7824, -26.4999, -39.3929,\n",
      "        -30.1544, -26.5504, -26.4712, -16.4268, -22.5612, -38.0857, -33.8589,\n",
      "        -11.9946, -33.2862, -37.0858, -38.9618, -36.1500, -37.4818, -28.1715,\n",
      "        -32.8347, -23.6875, -34.1891, -22.9003, -27.9063, -41.8677, -29.3512,\n",
      "        -42.6876, -31.1598, -40.8353, -33.0857, -23.4600, -16.8256, -22.0475,\n",
      "        -28.0929,  -5.1477,  -7.8111, -31.7310, -39.7873, -26.9262, -34.1373,\n",
      "        -29.6088, -26.7187, -34.0986, -12.2380, -35.2339, -13.8926, -36.0609,\n",
      "        -30.9054, -22.9516,  -2.0300, -43.2742, -33.2388, -33.4631, -43.3908,\n",
      "        -31.3822, -16.5950, -36.7087, -23.2191, -25.3289, -15.6629, -21.1523,\n",
      "        -57.9560, -41.8098, -28.3537, -13.3947, -53.2669, -35.9842, -44.0533,\n",
      "        -23.3161, -29.5049, -36.3810, -30.2070, -20.8292, -28.7966, -23.5380,\n",
      "        -41.6619, -28.5884, -29.6511, -18.0184, -41.5714, -38.0444, -38.5008,\n",
      "        -39.5582, -36.4070, -39.6831, -27.9556, -24.0417, -27.9678, -22.7243,\n",
      "        -30.7065, -35.6610, -54.2695, -35.8583, -29.5453, -38.9619, -28.7866,\n",
      "        -30.2696, -48.4161, -34.1652, -16.7136, -32.9980, -11.5535, -42.8771,\n",
      "        -24.5194, -16.9080, -28.2630, -41.9013, -41.2991, -23.2913, -41.6110,\n",
      "         -7.1573, -34.5395, -37.3162, -19.5510, -24.6000, -33.3491, -23.9506,\n",
      "        -37.1476, -23.0950, -29.3642, -31.2213, -38.6685, -43.9474, -24.4180,\n",
      "        -26.7810, -22.4601, -36.0238, -18.7614, -27.9273, -33.1780, -13.1469,\n",
      "        -26.1701, -31.1957, -37.8925, -35.9577, -33.4521, -16.3803, -19.7639,\n",
      "        -34.0646, -40.5565, -52.6787,  -8.5808, -36.7289, -39.8669, -31.8583,\n",
      "        -20.7914, -62.9606, -53.3000, -34.9695, -40.1233,  -8.1778, -33.6273,\n",
      "        -16.9274,  -4.0206, -18.6953, -25.9679, -45.3681, -37.0655, -12.6033,\n",
      "        -21.4888,  -5.2168, -24.1522, -14.5777, -28.1135, -36.5569, -22.4939,\n",
      "        -28.4070, -12.2635, -16.3874, -33.9234, -27.1404, -17.5597, -31.0957,\n",
      "        -39.3787, -22.6542, -42.2325, -32.5527, -15.1772, -56.8296, -14.0947,\n",
      "        -34.2011, -24.3440, -33.7920, -41.4746, -19.7931, -40.0666, -42.0084,\n",
      "        -29.2474, -26.0180, -12.4985, -29.8975, -30.3266, -14.1578, -44.1254,\n",
      "        -38.5282, -27.6489, -27.9055, -27.9302, -29.4969, -39.3601, -27.4280,\n",
      "        -30.8119, -32.2706, -20.8296, -17.0272, -32.9135, -18.9319, -16.5268,\n",
      "        -32.1776, -44.9424, -34.0311, -36.4079, -11.0220, -29.1523, -25.0796,\n",
      "        -28.0449, -36.6001, -29.5934, -32.7305, -44.2470, -29.9468, -31.9853,\n",
      "        -35.8732, -28.9521, -13.8308, -38.6325, -17.6473, -31.7324, -38.5817,\n",
      "        -29.8549, -25.6670, -29.1415, -22.1365, -35.4127, -30.7676, -50.4855,\n",
      "        -43.2844, -26.0352, -31.4854, -35.5383, -34.5550, -30.7619, -34.6698,\n",
      "        -33.3190, -29.8362, -16.1996, -15.4371, -11.7293, -16.9006, -29.1425,\n",
      "        -44.3782, -44.9387, -31.0863, -52.1608, -23.3864, -16.5016, -36.4544,\n",
      "        -55.7637, -21.0066, -24.1861, -41.3255, -36.0381, -46.6342, -24.5874,\n",
      "        -24.1962, -32.0967, -21.1873, -36.9461, -13.6203, -33.0631, -35.7177,\n",
      "        -16.6968, -25.4782, -28.7605, -31.3762, -25.4820, -30.2242, -43.7771,\n",
      "        -28.0699, -43.7811, -20.9617, -26.7844, -20.0166, -16.9823, -35.3233,\n",
      "        -24.5643, -26.5744, -26.5119, -24.1687, -38.3141, -39.6823, -12.3666,\n",
      "        -26.6852, -25.4728, -32.5194, -40.4794, -27.4643, -19.5001, -11.0219,\n",
      "        -27.1997, -31.8624, -21.2512, -19.3306,  -8.4056, -27.6523, -39.7178,\n",
      "        -33.8448, -22.5562, -35.4291, -27.2654, -20.2931, -20.2100, -36.7728,\n",
      "        -48.8054, -47.5843, -22.2457, -17.8965, -23.6722, -18.4083, -38.1108,\n",
      "        -45.7192, -27.2611, -11.6380, -35.7159, -23.5584, -25.9256, -41.9529,\n",
      "        -28.8069, -31.9456, -30.2046, -32.5496, -26.9700, -42.5093, -31.6231,\n",
      "        -38.1902, -30.1884, -38.6564, -42.4133, -21.5768, -41.9068, -34.6947,\n",
      "        -27.5720, -53.1563, -35.1279, -33.4871, -39.2358, -17.4782, -38.3767,\n",
      "        -21.5251, -33.4391, -28.8198, -41.8942, -33.0374, -11.5035, -13.7579,\n",
      "        -42.4792, -28.9350, -19.6793, -35.2297, -35.3642, -34.6393, -24.6142,\n",
      "        -32.0753, -36.8128, -30.3020, -16.1847, -30.2927, -32.9515, -29.4115,\n",
      "        -50.0131, -24.3211, -35.1482, -25.2190, -20.9036, -47.7457, -46.6460,\n",
      "        -46.3159, -34.0781, -21.2318, -22.4005, -27.5516, -19.2307, -33.2309,\n",
      "        -19.5021, -36.6599, -33.2424, -22.9913, -24.7203, -28.6107, -46.2238,\n",
      "        -27.1902, -40.0463, -32.4003, -25.3645, -37.4890, -34.5210,  -5.6909,\n",
      "        -32.9197], device='cuda:0')\n",
      "goal_std: tensor([43.2133, 26.7831, 38.5910, 42.8066, 38.8938, 33.7900, 23.8115, 40.9787,\n",
      "        32.1596, 43.2951, 19.6193, 53.6740,  7.7120, 39.4876, 45.9745, 27.9322,\n",
      "        47.9885, 21.5826, 29.9581, 26.8062, 32.3363, 53.1753, 28.5604, 40.3121,\n",
      "        24.2975, 38.9330, 26.9898, 41.2470, 43.7303, 31.8493, 43.8630, 34.5839,\n",
      "        36.1481, 38.0042, 36.8670, 47.2186, 42.0714, 39.7773, 25.3403, 46.8315,\n",
      "        26.2265, 44.9815, 40.7286, 30.9044, 15.4854, 40.4662, 35.6841, 18.1096,\n",
      "        33.1545, 44.9248, 39.0915, 16.8412, 30.1009, 41.0369, 39.6638, 27.6205,\n",
      "        33.2939, 53.3003, 46.7338, 57.1113, 29.8330, 11.5883, 27.0962, 27.5415,\n",
      "        40.3574, 46.4202, 31.4845, 42.5398, 37.9454, 28.9368, 29.7865, 22.3449,\n",
      "        37.8477, 42.4413, 46.3879, 53.9008, 49.9271, 40.9842, 42.1251, 39.6467,\n",
      "        39.6690, 47.3670, 23.9734, 50.7213, 39.0607, 48.9358, 23.4203,  4.2815,\n",
      "        45.9626, 52.5729, 46.1546, 42.7322, 30.8893, 47.6297, 39.2193, 35.6940,\n",
      "        18.8129, 29.4293, 49.1909, 37.5840, 39.0566, 40.2693, 32.3818, 49.9998,\n",
      "        37.1391, 37.7393, 32.9457, 18.1829, 38.4713, 24.1610, 28.9226, 25.4722,\n",
      "        46.4825, 13.9780, 43.2403, 34.1636, 33.6487, 28.2808, 43.9757, 34.4735,\n",
      "        26.5601, 29.3228, 18.4112, 20.3547, 39.2803, 36.9298, 13.1856, 41.7457,\n",
      "        44.4753, 47.8814, 38.7071, 40.2564, 33.0541, 36.1302, 29.9756, 36.4953,\n",
      "        28.0309, 33.7092, 46.8517, 36.4831, 49.2997, 34.3438, 41.2313, 39.8447,\n",
      "        26.1595, 32.3210, 25.6940, 33.7233,  9.7956, 15.4377, 39.7207, 47.2682,\n",
      "        44.6125, 41.5360, 33.3486, 33.9561, 39.9245, 15.8784, 46.0170, 19.0366,\n",
      "        34.9320, 35.6690, 32.1202,  2.7480, 45.2634, 39.7818, 36.6576, 48.4914,\n",
      "        30.7251, 21.8197, 36.2974, 34.0774, 25.2465, 22.8805, 32.1894, 56.4031,\n",
      "        49.3634, 32.7371, 19.0813, 56.8657, 43.0101, 50.9070, 30.6842, 32.1098,\n",
      "        44.2767, 36.2575, 32.3872, 31.0162, 31.2516, 45.7919, 27.0649, 39.2304,\n",
      "        22.1100, 45.0013, 45.4957, 48.4658, 43.4117, 43.2427, 39.6168, 32.0281,\n",
      "        36.0998, 31.4222, 26.1154, 35.2655, 37.3484, 53.0439, 44.1412, 42.9406,\n",
      "        36.9954, 29.8153, 30.9386, 52.5823, 40.6482, 18.1720, 38.0150, 15.9874,\n",
      "        54.9814, 28.9176, 19.9544, 31.3189, 48.5689, 46.6855, 30.2384, 49.4984,\n",
      "        10.6401, 37.9208, 38.2730, 20.8044, 32.7833, 41.4800, 29.6759, 42.9646,\n",
      "        30.4569, 32.8001, 41.0591, 54.4966, 48.5552, 33.1549, 30.3229, 31.4531,\n",
      "        39.7212, 18.8542, 40.4740, 41.5667, 17.0193, 40.2627, 46.2655, 39.8399,\n",
      "        38.6126, 45.3305, 20.6740, 29.1178, 38.2316, 42.1927, 54.4752, 22.0817,\n",
      "        44.6657, 46.8385, 45.2901, 23.6337, 67.9065, 53.0538, 46.2205, 48.9034,\n",
      "        26.2254, 45.0636, 27.7863,  6.4943, 25.4050, 31.2331, 58.4065, 48.6291,\n",
      "        14.8380, 27.7592,  9.6707, 25.9344, 18.5619, 40.4243, 47.1394, 30.4142,\n",
      "        36.6942, 12.0619, 23.7217, 44.2096, 31.3719, 20.4915, 35.7107, 38.6031,\n",
      "        31.3901, 45.9142, 32.1792, 14.8981, 62.3418, 18.5064, 36.7129, 30.8803,\n",
      "        38.7689, 48.5405, 29.5833, 39.7118, 41.4898, 29.7294, 43.7327, 25.4399,\n",
      "        39.9189, 32.8630, 19.5387, 49.8722, 43.8910, 33.6785, 31.8960, 35.6120,\n",
      "        34.9031, 47.9316, 35.0419, 31.4570, 43.1796, 30.5335, 17.4296, 37.8721,\n",
      "        23.8345, 21.1637, 35.2978, 52.7823, 45.8312, 43.8903, 20.6399, 40.9908,\n",
      "        29.7357, 30.3240, 47.7243, 39.4884, 35.7232, 44.6883, 34.2378, 36.4234,\n",
      "        52.6139, 35.2364, 23.9781, 47.4184, 27.3672, 39.0004, 44.8400, 42.2459,\n",
      "        32.8234, 34.0179, 30.3792, 35.7074, 32.2521, 50.4469, 53.3425, 28.7747,\n",
      "        45.0575, 39.4002, 45.8363, 39.0449, 39.5007, 42.8100, 37.3884, 18.6138,\n",
      "        21.5038, 15.5983, 20.6437, 31.6453, 43.0333, 46.8666, 33.5419, 60.0182,\n",
      "        34.9456, 19.6984, 45.3169, 62.2898, 26.7295, 26.6879, 48.9929, 45.1771,\n",
      "        48.0766, 28.7432, 29.3236, 38.7970, 21.4847, 43.0855, 18.1264, 35.6637,\n",
      "        38.2192, 22.3207, 26.0886, 32.9993, 36.8689, 26.2285, 34.5752, 49.6727,\n",
      "        37.3922, 47.0322, 22.8045, 38.4602, 29.2163, 25.3988, 37.8144, 28.2761,\n",
      "        34.5257, 41.4885, 26.6655, 45.9603, 41.5575, 24.0026, 27.6725, 33.4030,\n",
      "        40.5007, 40.5004, 29.2631, 30.6983, 12.7528, 28.5146, 33.4564, 23.4739,\n",
      "        20.0706,  9.8598, 34.4918, 38.8880, 38.2706, 27.2833, 35.5556, 35.4019,\n",
      "        29.0603, 24.5487, 39.7853, 60.2566, 56.2916, 23.1881, 21.8015, 26.1431,\n",
      "        25.0956, 36.6605, 49.1594, 39.6102, 15.2420, 45.5079, 38.3551, 24.0123,\n",
      "        50.2708, 39.6781, 46.1466, 34.9224, 36.7216, 30.6500, 47.2661, 37.5576,\n",
      "        36.8799, 37.4403, 41.7059, 51.9599, 27.9901, 51.6917, 40.6819, 39.9049,\n",
      "        54.0659, 41.9249, 36.4175, 44.4892, 26.2615, 38.8026, 27.7128, 37.0280,\n",
      "        30.8532, 46.9579, 46.5078, 16.9133, 17.6637, 49.1914, 28.7016, 25.8042,\n",
      "        37.8456, 38.3850, 40.1836, 33.3379, 42.4596, 51.8483, 32.1866, 19.0810,\n",
      "        39.5825, 33.4145, 36.5658, 51.1010, 25.6783, 39.6742, 28.0760, 27.2962,\n",
      "        50.6102, 44.9757, 53.0269, 46.5367, 27.7486, 30.9292, 30.4996, 22.9906,\n",
      "        42.1596, 41.1709, 41.9451, 40.2781, 24.5783, 26.8835, 44.4305, 45.3563,\n",
      "        34.5012, 39.7430, 37.2477, 30.4453, 43.5694, 37.0890,  9.7312, 34.0321],\n",
      "       device='cuda:0')\n",
      "\n",
      "goal_mean: tensor([-23.3474, -15.6574, -34.9857, -21.2627, -32.4071, -26.6056, -18.8915,\n",
      "        -32.4281, -40.9545, -34.3926, -38.2795, -24.7515, -32.2930, -25.1024,\n",
      "        -32.5111, -43.6418, -20.2005, -33.2081, -36.8363, -33.4993, -26.8088,\n",
      "        -30.3644, -29.8813, -29.2996, -35.1958, -37.7726, -47.7410, -36.8106,\n",
      "        -22.9015, -39.1814, -26.0104, -28.9175, -33.2689, -34.9960, -33.0957,\n",
      "        -31.9614, -29.2538, -52.7851, -38.7289, -23.6049, -30.2698, -30.6378,\n",
      "        -32.0037, -41.6802, -25.0485, -19.6096, -29.9454, -30.3465, -20.9941,\n",
      "        -37.2148, -39.7678, -46.7246, -32.7501, -34.0282, -35.0355, -21.3421,\n",
      "        -26.2854, -33.7670, -36.2560, -39.1815, -48.9196, -43.1617, -13.6791,\n",
      "        -23.0983, -26.9945, -20.0734, -16.6183, -16.8392, -28.8644, -35.4517,\n",
      "        -40.1711, -31.3877, -36.4849, -27.9595, -26.3549, -44.3367, -33.0608,\n",
      "        -40.0089, -25.8562, -32.0038, -14.8301, -36.4298, -19.6569, -25.1836,\n",
      "        -31.4074, -37.5940, -33.8543, -25.9942, -33.7632, -39.1198, -20.2964,\n",
      "        -40.0499, -33.6930, -35.2240, -24.2016, -29.2662, -19.0450, -39.6462,\n",
      "        -22.5018, -15.7691, -24.8063, -35.8892, -24.4167, -17.4595, -11.7109,\n",
      "        -41.6180, -48.3602, -24.8088, -38.7367, -28.5890, -37.4179, -30.8111,\n",
      "        -31.9471, -29.5693, -28.6611, -43.0587, -25.2771, -33.4848, -52.2597,\n",
      "        -36.9210, -28.1060, -33.9636, -34.4758, -28.4607, -36.4939, -39.8876,\n",
      "        -28.1929, -32.6339, -36.6171, -52.5217, -46.9919, -47.2789, -27.8127,\n",
      "        -28.7910, -19.3937, -36.9617, -39.0573, -41.3040, -37.2162, -36.1884,\n",
      "        -38.9445, -44.6236, -25.0013, -21.8656, -38.3128, -44.2602, -34.8204,\n",
      "        -33.1634, -13.7983, -19.5902, -41.3223, -28.6590, -48.3930, -34.0654,\n",
      "        -25.9004, -26.2403, -22.2934, -22.6886, -34.7265, -28.6977, -21.4366,\n",
      "        -37.2265, -28.6724, -26.0568, -22.7756, -39.0005, -30.1288, -36.6988,\n",
      "        -20.4281, -21.4026, -35.9814, -22.7258, -18.5035, -28.5974, -11.6974,\n",
      "        -35.3250, -23.6270, -28.1699, -39.4262, -33.5967, -23.7650, -49.4104,\n",
      "        -12.3767, -40.3417, -32.4734, -15.5043, -21.9658, -29.3058, -36.9212,\n",
      "        -37.0076, -26.4142, -36.0451, -36.5962, -30.0126, -40.3990, -25.0757,\n",
      "        -42.4827, -35.3298, -36.4995, -37.1690, -41.7721, -46.6761, -21.3256,\n",
      "        -33.4463, -25.7824, -34.3773, -30.7163, -19.5939, -34.0601, -36.8353,\n",
      "        -34.6239, -37.3783, -19.8804, -28.7335, -26.2281, -32.0810, -27.4294,\n",
      "        -22.8710, -22.1612, -37.3470, -25.7878, -38.8770, -26.2086, -25.4035,\n",
      "        -32.4051, -21.0373, -35.4323, -30.0746, -15.3972, -41.4860, -26.6135,\n",
      "        -23.2677, -20.2224, -22.9976, -37.6029, -40.7848, -29.1916, -31.7495,\n",
      "        -30.3618, -24.6203, -20.5037, -29.3191, -25.0091, -28.5736, -17.6731,\n",
      "        -18.8096, -42.4679, -31.8414, -33.1607, -13.1817, -44.6399, -45.8195,\n",
      "        -33.8063, -34.7002, -20.1805, -41.3433, -29.2991, -38.3026, -24.1102,\n",
      "        -45.8120, -34.9765, -26.8957, -44.3693, -43.9567, -20.5289, -17.0701,\n",
      "        -46.4436, -45.6591, -40.0782, -34.2115, -31.5748, -43.8384, -45.2497,\n",
      "        -29.1200, -24.2661, -20.0625, -34.2287, -25.6883, -37.8446, -37.4960,\n",
      "        -46.3933, -25.0488, -29.7531, -37.3939, -24.1974, -23.7672, -33.3623,\n",
      "        -40.8134, -34.1459, -41.4510, -29.6959, -31.2725, -28.1712, -25.9316,\n",
      "        -32.7611, -37.9848, -19.7169, -28.1720, -29.7141, -32.0521, -18.7369,\n",
      "        -27.8592, -38.3244, -10.1490, -33.4452, -24.0140, -26.7891, -18.2212,\n",
      "        -26.6643, -29.8634, -27.3621, -20.9640, -19.2487, -24.4386, -31.2617,\n",
      "        -16.4041, -28.5750, -36.1638, -30.0497, -47.3156, -15.8223, -39.8841,\n",
      "        -35.2326, -20.9414, -36.0873, -37.0699, -30.9426, -21.9709, -27.4819,\n",
      "        -26.6938, -36.9619, -28.0019, -32.0370, -32.2057, -21.9200, -34.6206,\n",
      "        -27.4789, -35.2546, -28.9725, -26.3505, -42.9297, -43.7688, -24.2955,\n",
      "        -23.8707, -18.3266, -30.1597, -22.6838, -42.5021, -28.4955, -25.8845,\n",
      "        -22.4495, -34.7203, -16.7831, -34.0752, -19.0161, -33.4529, -27.6137,\n",
      "        -39.8547, -26.7978, -26.3035, -27.1912, -34.9420, -21.3330, -38.8130,\n",
      "        -34.0849, -23.2341, -10.8182, -29.1697, -23.1697, -47.5419, -37.5917,\n",
      "        -32.8343, -25.7458, -26.0368, -23.6172, -30.9782, -35.4619, -52.1172,\n",
      "        -36.5586, -37.7814, -32.5787, -33.0857, -42.0372, -36.0116, -22.6857,\n",
      "        -23.0882, -17.8750, -35.4092, -27.5788, -33.0567, -28.5190, -29.0614,\n",
      "        -23.0450, -37.7744, -36.7003, -37.5789, -25.4176, -29.7535, -29.4921,\n",
      "        -26.8939, -29.8893, -36.5606, -26.0100, -29.8981, -30.1949, -33.6672,\n",
      "        -12.5460, -36.0055, -24.5016, -30.5693, -21.9517, -36.1407, -21.2782,\n",
      "        -27.2440, -22.6049, -36.7547, -39.2044, -32.2955, -25.0621, -37.2416,\n",
      "        -30.8542, -33.8676, -24.5214, -38.1424, -48.9830, -24.2169, -27.9111,\n",
      "        -29.5699, -38.5734, -40.7208, -45.1675, -20.9969, -28.9976, -34.2347,\n",
      "        -31.8330, -39.9602, -40.8405, -27.9004, -16.1085, -44.4445, -22.3406,\n",
      "        -20.2108, -44.7744, -29.8417, -35.7154, -24.2812, -40.7762, -36.2058,\n",
      "        -36.6601, -25.1174, -36.7239, -32.4841, -32.0144, -41.2162, -33.6216,\n",
      "        -37.8524, -24.3334, -26.3949, -23.6433, -22.5874, -21.3269, -39.0075,\n",
      "        -42.6450, -31.7925, -29.9915, -30.3332, -21.2267, -36.1818, -25.4710,\n",
      "        -31.1058, -32.6991, -17.6779, -49.8223, -32.8800, -30.9338, -26.8956,\n",
      "        -27.4645, -33.7234, -33.1557, -23.5952, -31.6707, -38.4402, -27.1411,\n",
      "        -32.9502, -32.3145, -36.4947, -37.6147, -26.9014, -30.1719, -36.1593,\n",
      "        -20.2639, -13.8315, -37.0555, -30.7433, -23.9595, -13.4979, -35.7205,\n",
      "        -27.5079, -15.5633, -25.7848, -11.9922, -13.0166, -22.2402, -28.8435,\n",
      "        -39.0893, -22.2855, -33.1244, -37.3687, -40.7221, -33.9747, -28.7001,\n",
      "        -30.5035], device='cuda:0')\n",
      "goal_std: tensor([32.5359, 19.4672, 42.8988, 26.7506, 46.4551, 31.9140, 20.1435, 41.4442,\n",
      "        54.3980, 39.3122, 48.1235, 33.3542, 44.2969, 35.4192, 40.4972, 53.2658,\n",
      "        26.7073, 41.3320, 49.8542, 42.1351, 33.0437, 38.8797, 40.0528, 32.9923,\n",
      "        42.0491, 47.0590, 55.4675, 43.5914, 33.1794, 45.1868, 36.2835, 32.0315,\n",
      "        50.0996, 46.7206, 38.6996, 38.7486, 38.1002, 60.6054, 51.4888, 26.2875,\n",
      "        40.0864, 34.6695, 42.4116, 51.1715, 32.7581, 25.2213, 44.1477, 37.4211,\n",
      "        25.3979, 43.7249, 50.2275, 54.0018, 43.8865, 53.1785, 41.6404, 27.1113,\n",
      "        40.6934, 41.0738, 45.4840, 44.9616, 59.8652, 52.1542, 17.0935, 42.3552,\n",
      "        35.6883, 23.5881, 26.7421, 20.2897, 41.0395, 47.7901, 43.9257, 40.6464,\n",
      "        40.6737, 38.6022, 40.3110, 54.1983, 46.1377, 43.9082, 33.0450, 41.9630,\n",
      "        24.5048, 41.6252, 23.7157, 33.2940, 36.4842, 46.2684, 43.9977, 36.3388,\n",
      "        44.2630, 47.5173, 29.0772, 47.5047, 47.2826, 38.2649, 31.8812, 37.2854,\n",
      "        30.1667, 54.7558, 28.4411, 18.9656, 29.5678, 42.9386, 32.9511, 20.5813,\n",
      "        15.8430, 53.5247, 56.7231, 36.5411, 46.6047, 34.4680, 42.6269, 34.0335,\n",
      "        41.1245, 36.6040, 37.6285, 54.1975, 34.6214, 43.2965, 63.2409, 49.6207,\n",
      "        32.8547, 40.7288, 39.6491, 35.3086, 41.7193, 45.7688, 35.2673, 39.2418,\n",
      "        38.6009, 61.2202, 52.2098, 59.5757, 36.5464, 35.7537, 25.3144, 47.0804,\n",
      "        47.0143, 51.6970, 40.9332, 54.1173, 51.1079, 49.2570, 28.1791, 30.3172,\n",
      "        47.5401, 54.6172, 38.4366, 40.1903, 19.1564, 22.8338, 49.8986, 39.2719,\n",
      "        62.3730, 42.2861, 28.9559, 35.5906, 26.8988, 24.1848, 43.1488, 38.9180,\n",
      "        28.1488, 49.2653, 35.4316, 31.8159, 26.9887, 46.1070, 35.8874, 43.8215,\n",
      "        27.7088, 33.8416, 48.5506, 32.8453, 23.5714, 33.8283, 14.7968, 43.0207,\n",
      "        32.5164, 30.8256, 46.7206, 37.5330, 29.6728, 58.3631, 15.8063, 46.8400,\n",
      "        43.6237, 19.5599, 28.2482, 36.4785, 43.0271, 47.9010, 38.1721, 43.3218,\n",
      "        40.9081, 41.7571, 50.1273, 31.4203, 53.3038, 39.5632, 43.5950, 45.7241,\n",
      "        49.5025, 60.6895, 29.2218, 46.9703, 31.9878, 39.7994, 37.7728, 28.4559,\n",
      "        38.6617, 43.4406, 45.8678, 39.9326, 26.8259, 45.0434, 31.5042, 48.5585,\n",
      "        45.4557, 31.9297, 32.0843, 42.0781, 34.5709, 43.8545, 29.1914, 33.9848,\n",
      "        37.0520, 25.0032, 44.2153, 35.4472, 24.8890, 48.0195, 33.3348, 36.2094,\n",
      "        32.6129, 27.9270, 45.2205, 49.5569, 38.4156, 38.9978, 41.9198, 32.4738,\n",
      "        28.0981, 34.4916, 28.9677, 38.9029, 21.2239, 26.7148, 51.4602, 42.5022,\n",
      "        44.5872, 18.2058, 60.7790, 51.3326, 40.0751, 40.6343, 28.3272, 49.4801,\n",
      "        33.3311, 50.0066, 32.3373, 56.4484, 43.5921, 38.7350, 55.6720, 56.2199,\n",
      "        27.5071, 23.0600, 54.6802, 51.4893, 43.8947, 45.5574, 37.9815, 53.3294,\n",
      "        50.8550, 36.9119, 39.9668, 25.5538, 40.3352, 32.4996, 46.2015, 47.8671,\n",
      "        54.5803, 37.3161, 34.7166, 51.8573, 33.1970, 33.5278, 36.0304, 53.5792,\n",
      "        40.9118, 54.7084, 40.4959, 48.0143, 32.0010, 32.7873, 37.6144, 44.6735,\n",
      "        24.8522, 31.6857, 37.6012, 40.3598, 30.1686, 34.5129, 51.6766, 14.5841,\n",
      "        46.2494, 37.4661, 32.6527, 22.3158, 34.4427, 34.0794, 32.0943, 29.4295,\n",
      "        25.3064, 35.3436, 42.6805, 24.5168, 32.7541, 43.5424, 41.0033, 55.1339,\n",
      "        22.5599, 48.6292, 42.7869, 33.3925, 47.6194, 46.2503, 43.5461, 26.6102,\n",
      "        35.7323, 35.8130, 46.6932, 36.6349, 39.6724, 41.7504, 29.8720, 39.1445,\n",
      "        38.5052, 43.8041, 37.6713, 39.7422, 48.4307, 47.5846, 32.2946, 30.3519,\n",
      "        29.0797, 35.9295, 31.4290, 50.5646, 40.5563, 35.6293, 30.8934, 39.8608,\n",
      "        29.5962, 38.8327, 25.5580, 38.3765, 30.1442, 52.1128, 36.2903, 37.1582,\n",
      "        32.5410, 41.0544, 34.9094, 49.9147, 40.2548, 36.5360, 23.7450, 37.1907,\n",
      "        31.4068, 57.5255, 44.5514, 42.7925, 32.5571, 35.8638, 34.2790, 40.2595,\n",
      "        45.3741, 59.8058, 43.3843, 47.7052, 36.0915, 43.4526, 49.8522, 42.8674,\n",
      "        33.4628, 31.6140, 24.2151, 46.2765, 33.7255, 41.1575, 33.7885, 33.0832,\n",
      "        27.7615, 44.1570, 42.7875, 45.6040, 37.6385, 35.1227, 35.6043, 33.0268,\n",
      "        35.4096, 43.7540, 37.6159, 37.4706, 42.1658, 42.2231, 20.5250, 46.4940,\n",
      "        29.0846, 38.3504, 30.2536, 44.8390, 23.8744, 38.7611, 33.7921, 44.2082,\n",
      "        51.0521, 39.8004, 33.2741, 43.8052, 38.6652, 43.4425, 30.5526, 46.4731,\n",
      "        62.3510, 30.8389, 34.2929, 37.2693, 43.5016, 47.1881, 52.3322, 35.8966,\n",
      "        36.6161, 46.9180, 41.5389, 43.3487, 48.6741, 43.7372, 20.9106, 50.9502,\n",
      "        36.9308, 24.3555, 51.7705, 36.8706, 45.0638, 29.3756, 50.6164, 42.8441,\n",
      "        44.5887, 34.3909, 41.3751, 41.0279, 40.6612, 49.9034, 40.0409, 46.1863,\n",
      "        34.8397, 29.5320, 32.3224, 37.9349, 32.8965, 50.2021, 51.2889, 36.9819,\n",
      "        35.8548, 40.7435, 24.1294, 42.4206, 35.4605, 40.4697, 39.6403, 27.7833,\n",
      "        60.1325, 40.3475, 35.8444, 33.1790, 36.1504, 43.3747, 42.0016, 38.8592,\n",
      "        43.1499, 51.3352, 33.3973, 43.0494, 38.8763, 42.8593, 48.5187, 33.3026,\n",
      "        37.0103, 48.1007, 24.0783, 15.1538, 44.3921, 33.6493, 32.2716, 18.8761,\n",
      "        49.6441, 38.9655, 19.0207, 34.0202, 20.5984, 29.2477, 31.5211, 39.0091,\n",
      "        46.9476, 28.6717, 40.1151, 42.8514, 45.9418, 49.4626, 36.0521, 40.6767],\n",
      "       device='cuda:0')\n",
      "\n",
      "goal_mean: tensor([-13.9116, -14.2284, -13.5926, -16.7251, -12.2595,  -8.9622, -15.4624,\n",
      "        -13.5820, -12.6117, -13.0398, -19.1529, -14.1952, -11.6481, -10.6590,\n",
      "        -17.4342, -14.2702, -15.3029, -10.9672, -11.1582, -18.5188, -15.8227,\n",
      "        -11.0705, -15.9525, -16.7495, -18.5301, -14.8988, -17.6688, -14.3347,\n",
      "        -19.0722, -10.6879,  -8.2504, -16.2443, -12.4894, -13.5409, -15.7196,\n",
      "        -14.3256, -12.9411, -16.8218, -21.3849, -18.5210, -16.8453, -14.1859,\n",
      "         -9.5576, -13.4422, -13.9968, -14.2751, -14.7653, -15.6900, -13.1936,\n",
      "        -15.3771, -17.2999,  -7.9946, -14.5517, -15.9947, -14.9804, -17.5637,\n",
      "        -14.0386, -20.8042, -14.4368, -10.8949, -16.8602, -16.9797, -18.0156,\n",
      "        -10.4774, -14.7911,  -8.2754, -10.1073, -18.1689, -20.0177, -11.9888,\n",
      "        -19.0660, -13.0458, -14.0602, -18.8956, -12.1856, -17.8336, -14.1747,\n",
      "        -13.5502,  -9.4846, -13.8207, -10.1304, -12.0422, -12.4849, -17.3290,\n",
      "        -13.0975, -13.6972, -12.2229, -17.5334, -10.0402, -12.6150, -15.3303,\n",
      "        -18.1645, -14.3456, -18.9378, -17.7109, -15.9600, -16.2304, -16.9117,\n",
      "        -20.7903,  -9.9699, -18.9522, -14.5209, -18.5549, -20.7277, -18.0899,\n",
      "        -18.3761, -17.7749, -16.2273, -14.0391,  -5.0191, -25.4206, -18.7157,\n",
      "        -21.3290,  -8.8167, -11.7621, -16.0808, -19.4394, -13.1564, -15.7592,\n",
      "        -16.7342, -15.1668, -14.9357, -15.0220, -19.4436, -18.6236, -15.4709,\n",
      "        -18.6162, -11.7864, -12.8986, -16.3280, -10.8519, -21.5397, -17.8249,\n",
      "        -13.3373, -13.3359, -11.3772, -14.3119, -16.2414, -17.9238,  -9.4722,\n",
      "        -14.7992, -15.2102, -18.3157, -10.2560, -12.7888, -14.5801, -12.7413,\n",
      "        -11.7265, -18.0337, -11.4989, -13.1839, -12.8556, -15.4426, -14.8757,\n",
      "        -13.6866, -16.3698, -23.3706, -11.5971, -19.3995,  -9.8854, -12.0655,\n",
      "        -12.9689, -13.4369,  -7.5303, -12.6787, -10.9077, -12.3685, -18.5103,\n",
      "        -14.7081, -11.4355, -12.7055, -14.6933, -11.3002, -13.9608, -10.3597,\n",
      "        -11.2606,  -6.8818, -19.8200, -13.7301, -19.8327,  -9.7207, -17.7436,\n",
      "        -15.7555, -12.7910, -13.5060,  -9.7475, -18.5932, -20.0180, -16.2060,\n",
      "        -15.3124, -15.2610, -11.6883, -15.6878, -16.7295, -16.2929, -15.1627,\n",
      "        -18.8880, -18.2162,  -8.5231,  -6.9315,  -9.5702, -13.4131, -15.9298,\n",
      "        -15.8656, -16.1695, -15.0786, -19.0938, -17.0037, -14.1882, -14.3734,\n",
      "        -12.9176, -12.8087, -11.2313, -11.9951, -13.5613,  -9.5831, -15.8631,\n",
      "         -9.6097, -13.2134,  -8.7759, -14.3499, -19.8335, -20.2548, -15.7402,\n",
      "        -12.7765, -13.1275, -17.5249, -16.8025, -12.5223, -17.0403, -13.3685,\n",
      "        -10.1715, -14.8889, -11.7567, -17.2279, -14.4574, -20.4985, -20.1348,\n",
      "        -13.9663, -11.5879, -14.6049, -16.9275, -12.7832, -11.0768,  -9.9707,\n",
      "        -10.2281, -16.1787, -10.8619, -15.0424, -16.1500, -20.1113, -19.4457,\n",
      "         -7.4049, -17.3956, -17.4387, -11.5879, -16.3941, -16.7130, -16.8282,\n",
      "        -10.4368, -14.8575, -15.5051, -15.1906, -14.2767, -19.3639, -17.7064,\n",
      "        -20.0074, -14.4122, -14.5216,  -9.1277, -10.0199, -17.2618, -17.4961,\n",
      "        -13.8198, -16.4477, -10.1565, -18.0186, -13.0699, -15.2895, -13.9356,\n",
      "        -16.1333, -12.1340, -17.6168,  -4.2845, -13.3934, -15.9426, -10.6168,\n",
      "        -16.2191, -11.6808, -14.7484, -14.6483, -19.2771, -21.6058, -12.8036,\n",
      "        -16.6236, -19.3923, -10.9592, -16.5247, -15.1319, -14.1394, -16.8573,\n",
      "        -15.9216, -21.1663, -10.2944, -14.2979, -15.4122, -18.0144, -13.8254,\n",
      "        -19.6892, -11.4955, -11.3211, -21.0391, -18.9409,  -8.2985, -11.0152,\n",
      "        -15.5033,  -9.3644, -19.9448, -14.1269, -19.6966, -21.5020, -10.6305,\n",
      "        -15.9076, -17.7354,  -9.0781, -12.9396, -14.5749, -15.0173, -19.3845,\n",
      "         -7.2317, -17.5238, -16.2206, -11.1011,  -9.4998, -14.1698, -22.5619,\n",
      "        -15.5819, -11.8120, -15.9345, -19.0801, -14.5021, -11.5040, -15.4673,\n",
      "        -13.9365, -10.2661, -11.1633, -16.1603, -14.6025, -14.6620,  -9.1635,\n",
      "        -11.1303, -14.8844, -16.1476, -14.8321, -15.5236, -15.7287, -15.1165,\n",
      "        -10.1447, -12.8288, -14.4250, -12.6743, -13.9449, -15.2013, -16.8739,\n",
      "        -16.3727, -16.8915, -13.7464, -14.4177, -13.4143,  -6.8338, -11.1380,\n",
      "        -10.6496, -14.8305, -18.8347, -11.2933, -16.5907, -11.5657, -17.3754,\n",
      "        -13.9036, -12.3693, -13.7306, -17.1394,  -4.0087, -18.0152, -15.1558,\n",
      "        -17.8181, -11.0910, -21.4876, -13.5223, -17.0809, -12.3848, -20.7631,\n",
      "        -11.5253, -13.4126, -14.5910, -15.5349, -16.9729,  -9.7699, -17.5464,\n",
      "        -13.8872, -12.3302,  -8.4662, -12.9736, -13.7376, -10.3211,  -7.4182,\n",
      "         -9.6126, -15.0505,  -6.8853, -16.1939, -11.3091, -11.9501, -13.3583,\n",
      "        -12.2499,  -8.6501, -14.6046, -15.6947, -15.2810, -15.7920, -11.0479,\n",
      "        -16.7643,  -8.9276, -15.0354, -15.3235, -14.9848,  -9.7973, -14.3244,\n",
      "        -17.1540, -15.1972, -16.9648, -10.7632, -17.8130, -14.8207, -15.4087,\n",
      "        -12.4039, -17.9304, -20.1403, -13.1095, -17.0126, -15.0449, -15.9668,\n",
      "        -14.0665, -15.7566, -15.5678, -10.6691, -11.3955, -12.0641, -13.8705,\n",
      "        -18.0175, -15.2993,  -8.8773, -17.8212, -16.8685, -15.0848, -17.3011,\n",
      "        -13.7890, -15.2365, -12.7797, -13.4716, -13.9278,  -9.6329, -16.4043,\n",
      "        -14.8839, -14.5903, -18.7858, -20.4452, -22.5922, -16.0685, -13.0753,\n",
      "         -9.8329, -14.7965, -18.4737, -13.6498, -12.9368, -20.7883, -17.7132,\n",
      "         -8.9239, -14.7442, -16.6617, -18.0240, -15.4061, -17.6690,  -9.3268,\n",
      "         -9.9989, -19.8694, -13.7846, -14.7175, -16.0387, -10.6787, -17.2327,\n",
      "         -7.7162, -18.7220, -16.7799,  -9.5142,  -7.1412, -14.5139, -16.7834,\n",
      "        -10.8760, -18.6482, -16.1922, -22.0785, -13.0353, -17.6316, -10.7384,\n",
      "         -6.7652, -14.2695, -16.7370, -16.7921, -14.0412, -13.8901, -16.9570,\n",
      "        -16.6610], device='cuda:0')\n",
      "goal_std: tensor([19.0728, 15.9361, 13.3052, 18.0527, 12.9215, 12.3460, 18.0426, 15.3849,\n",
      "        16.8455, 13.9017, 18.6009, 16.0439, 11.2077, 10.8138, 19.1494, 13.9517,\n",
      "        16.7472, 12.6081, 11.8490, 20.4153, 17.2534, 11.5744, 18.4486, 18.0411,\n",
      "        16.8336, 17.4231, 20.3155, 17.2385, 19.7138, 11.2700,  9.0522, 17.8055,\n",
      "        12.5762, 16.0625, 17.6904, 14.5629, 16.2679, 19.1551, 22.0403, 17.5655,\n",
      "        16.9232, 18.1118, 11.5172, 15.4875, 15.4292, 18.1743, 15.9273, 18.6029,\n",
      "        14.9198, 14.8068, 20.3934,  8.2347, 15.6862, 17.6043, 17.3672, 19.1054,\n",
      "        14.7441, 20.6446, 16.9628, 11.1113, 16.3464, 18.4708, 17.7670, 11.1859,\n",
      "        16.5826, 11.5265, 12.3906, 19.1158, 19.6105, 12.9276, 18.9311, 15.1811,\n",
      "        16.2726, 19.6557, 12.5396, 20.3985, 17.4909, 16.3059,  9.9083, 16.2710,\n",
      "        11.3446, 16.4974, 14.0808, 17.7369, 13.7933, 13.5616, 16.3921, 16.1718,\n",
      "        10.1206, 17.3439, 15.0228, 18.9060, 15.3047, 18.8550, 19.5545, 16.3832,\n",
      "        16.6562, 16.5283, 21.1718, 10.2976, 19.3334, 14.8157, 19.7844, 20.1857,\n",
      "        18.7411, 17.9909, 20.6108, 17.0802, 15.9904, 10.1595, 24.9639, 20.2681,\n",
      "        21.9543, 10.3439, 13.4776, 15.8299, 22.5209, 14.7903, 17.2911, 19.1243,\n",
      "        17.0082, 14.1122, 17.6691, 18.7023, 20.2566, 15.6898, 20.1040, 13.7172,\n",
      "        12.5963, 15.8678, 14.6099, 20.8589, 18.5827, 15.6346, 14.8879, 13.7527,\n",
      "        18.2280, 19.4800, 18.3103, 13.9161, 15.3909, 16.3594, 19.9301, 11.2963,\n",
      "        12.2686, 15.0860, 14.7578, 13.1967, 19.2931, 11.9621, 14.4982, 13.3016,\n",
      "        16.0660, 15.1979, 14.3610, 15.6468, 22.0560, 12.8841, 20.2884, 10.9995,\n",
      "        11.7887, 12.8141, 13.0273, 12.4997, 13.6307, 14.8080, 13.2635, 17.7012,\n",
      "        15.7830, 10.7387, 15.4826, 15.6591, 15.2647, 17.6344, 11.3082, 11.4626,\n",
      "         9.0732, 21.4565, 14.2849, 18.6387, 10.4868, 18.4849, 16.1536, 13.9228,\n",
      "        14.9180, 11.7757, 18.6942, 19.2428, 16.2199, 17.6997, 19.1740, 12.7367,\n",
      "        17.8722, 18.5917, 17.2030, 16.5739, 19.2573, 17.7497, 12.6495,  8.4804,\n",
      "        13.0281, 15.0941, 16.1995, 16.6344, 17.6390, 18.7745, 19.8900, 16.8555,\n",
      "        16.1121, 16.1593, 14.0790, 12.2964, 11.9003, 13.2742, 13.4376, 11.5418,\n",
      "        16.9906, 13.2670, 13.8068, 10.1601, 14.5484, 18.6594, 18.3493, 17.1065,\n",
      "        17.7559, 15.0533, 21.4170, 16.1962, 15.5642, 17.1154, 15.4449, 10.6899,\n",
      "        16.4524, 12.1478, 19.7045, 15.9290, 20.7643, 21.1035, 15.4005, 11.6210,\n",
      "        17.2767, 18.3096, 12.9615, 13.7193, 10.7497, 13.1139, 15.5549, 12.3404,\n",
      "        17.8636, 19.2680, 20.7893, 21.6961,  8.0819, 17.6735, 18.7921, 12.9928,\n",
      "        17.2016, 18.2554, 18.9248, 11.6169, 16.3624, 16.4052, 17.3780, 13.3862,\n",
      "        19.7966, 18.2114, 19.7147, 14.8207, 16.6479, 10.4941, 12.7614, 16.5080,\n",
      "        18.4386, 16.4843, 19.0153,  9.8409, 20.4530, 16.1399, 16.3806, 13.4926,\n",
      "        16.4613, 16.9423, 18.9345,  4.9666, 14.6852, 15.4409, 11.8741, 18.9038,\n",
      "        11.9509, 16.8136, 17.3329, 19.4493, 21.4404, 14.9544, 16.5634, 19.4049,\n",
      "        11.8438, 16.2718, 15.4475, 17.7024, 15.8382, 21.2192, 23.8225, 14.5397,\n",
      "        16.2802, 17.6884, 18.3482, 14.4046, 19.3622, 11.2792, 12.0422, 20.5640,\n",
      "        19.1110,  8.8604, 13.0531, 17.0955,  9.7743, 20.2799, 14.2912, 20.2051,\n",
      "        21.3934, 11.4863, 17.5443, 19.9780, 11.8384, 14.8916, 20.0364, 16.2799,\n",
      "        19.0724, 14.6415, 17.3957, 16.2473, 11.1313,  9.7542, 13.9301, 23.2497,\n",
      "        16.0440, 13.9763, 16.6507, 18.6912, 15.3221, 12.9542, 15.4793, 13.9736,\n",
      "        10.6325, 13.2836, 18.8558, 15.0682, 16.3564,  9.4860, 13.4883, 17.1175,\n",
      "        16.2163, 17.7289, 17.9402, 17.6775, 16.5909, 11.4781, 16.2061, 16.3508,\n",
      "        13.7825, 17.4823, 16.1034, 16.2164, 18.3366, 19.1557, 22.4354, 14.6638,\n",
      "        16.7002,  8.2563, 12.3081, 11.2718, 18.4132, 18.5727, 13.5946, 18.0928,\n",
      "        18.2218, 17.7344, 15.9898, 16.0159, 17.6027, 18.9208,  4.7505, 19.0411,\n",
      "        16.3143, 20.8596, 12.0834, 23.1316, 16.9639, 19.5571, 13.0332, 20.5669,\n",
      "        11.7063, 15.3305, 14.0454, 15.3440, 17.9584, 12.7852, 18.2508, 13.9141,\n",
      "        14.5952,  9.2585, 13.2795, 16.3512, 16.0085,  9.9444, 16.1268, 15.2670,\n",
      "         8.3501, 16.4911, 13.2709, 12.1264, 15.1632, 12.7801, 11.0385, 16.4560,\n",
      "        18.1210, 17.6450, 17.8440, 15.9495, 15.9502, 11.9298, 15.5539, 16.5519,\n",
      "        18.4716,  9.8857, 13.8349, 17.1877, 17.5686, 16.7649, 15.1153, 20.9490,\n",
      "        16.0097, 15.4412, 12.9231, 18.2639, 19.8749, 13.5347, 18.9916, 17.2045,\n",
      "        16.8770, 15.5326, 16.4726, 17.7043, 13.7048, 14.6134, 13.8391, 16.5030,\n",
      "        20.8622, 16.0622,  9.4417, 18.2846, 19.3614, 17.0486, 19.9119, 15.5715,\n",
      "        14.5596, 16.7201, 15.5350, 17.9675, 10.5384, 17.5269, 19.3972, 15.3117,\n",
      "        19.3966, 20.7950, 24.4489, 16.7948, 12.6032, 14.3174, 15.6141, 19.1054,\n",
      "        15.0879, 13.6985, 20.6740, 19.3462, 13.8773, 16.2318, 19.1863, 19.3242,\n",
      "        17.7965, 19.6836, 12.9351, 11.3321, 21.4584, 16.8190, 16.9394, 17.1482,\n",
      "        14.0690, 16.3141,  8.5595, 17.5914, 18.2676, 13.9011,  8.9188, 16.0301,\n",
      "        17.6963, 12.3355, 19.5385, 19.1047, 22.2718, 14.6403, 19.9644, 17.2962,\n",
      "        11.5822, 15.3469, 17.9662, 17.8755, 15.5531, 14.8889, 16.4069, 19.2025],\n",
      "       device='cuda:0')\n",
      "\n",
      "goal_mean: tensor([ -3.0997,  -4.3914, -10.4682,  -0.3869,  -6.7922,  -8.3761,  -4.3490,\n",
      "         -9.6554,  -8.3287,  -9.4890,  -8.8801,  -5.7338, -13.3431,  -4.1373,\n",
      "         -7.4671,  -7.8043,  -9.3601,  -6.0687,  -2.2999,  -6.0852,  -8.5595,\n",
      "         -6.8489, -12.6849,  -3.5959,  -3.5877,  -7.4443, -13.8594,  -6.7500,\n",
      "         -5.8319,  -8.0716,  -3.5728, -10.1993,  -6.9573,  -7.2508,  -8.9317,\n",
      "         -1.3143,  -4.8703,  -5.1075,  -2.5592,  -9.1048,  -7.2834, -10.2894,\n",
      "         -8.7349, -10.2104,  -3.7338,  -3.1378,  -4.9628,  -3.7251,  -5.8842,\n",
      "        -11.2861,  -1.1135,  -6.7700,  -6.0554,  -8.3455,  -5.0039,  -6.3888,\n",
      "         -7.7167, -10.5271,  -4.8439,  -5.6723,  -8.2233,  -6.5720,  -9.7472,\n",
      "         -5.0043,  -7.6847,  -9.1579,  -6.3483, -10.1946,  -4.9184,  -3.8592,\n",
      "         -7.9762, -11.8214,  -8.4460, -10.2990,  -5.9410,  -3.3790,  -8.8865,\n",
      "         -4.3843,  -5.6517,  -4.3170,  -5.2900,  -7.7734,  -1.7617,  -7.4241,\n",
      "         -2.7366, -12.1631,  -7.1569,  -8.4724,  -4.7803,  -7.3202,  -7.8204,\n",
      "         -2.8390,  -4.5944, -13.4544, -16.0146,  -6.4465,  -2.6047,  -7.8372,\n",
      "         -6.8912,  -6.3745,  -4.6030,  -7.6339,  -9.8386,  -6.7466,  -4.4946,\n",
      "         -3.7892,  -5.1492,  -1.0149,  -3.4022,  -3.6323,  -2.0461,  -7.5763,\n",
      "        -14.0385,  -2.3097,  -6.7345,  -3.4600,  -9.6623,  -3.4860,  -4.9304,\n",
      "        -10.1515,  -9.6270, -10.6230,  -7.6568,  -4.1191,  -9.8716,  -5.2379,\n",
      "         -4.8729,  -2.2962,  -8.4337,  -3.0528,  -6.0591,  -3.7635,  -3.4820,\n",
      "        -14.3137,  -4.5823,  -5.6100,  -4.7950,  -4.8107,  -7.1594, -11.2036,\n",
      "        -11.0937,  -6.0994, -10.5356,  -9.1089,  -8.0056,  -5.6570, -10.3396,\n",
      "         -8.4865,  -4.0929,  -4.2126,  -7.5547,  -8.0493,  -8.4746,  -7.0993,\n",
      "         -7.0798,  -3.4691,  -9.1925,   0.6916,  -7.4902,  -6.0037,  -7.2005,\n",
      "        -11.1426,  -9.2906, -11.2420,  -1.3064,  -7.5100,  -4.5461,  -6.0186,\n",
      "         -6.9913,  -1.6228,  -5.5967,  -8.1176,  -6.5648,  -8.2561,  -6.0694,\n",
      "         -3.3009,  -5.7546, -11.4173,  -8.0185, -12.5964,  -9.6744,  -5.3673,\n",
      "         -4.8434,  -3.8665,  -7.4980,  -4.8500, -12.0007,  -3.5956,  -5.6225,\n",
      "         -3.3214,  -4.2650,  -8.6211,  -5.1478,  -5.1296,  -9.5988,  -6.2965,\n",
      "         -5.2162,  -1.8252,  -3.2392,  -4.2717,  -4.1995,  -5.2912,  -4.2647,\n",
      "        -10.3725, -12.9106,  -2.1210,  -8.3291, -11.3877,  -6.7606,  -5.5871,\n",
      "         -3.4773,  -8.4183,  -5.3755,  -4.8426,  -4.1424,  -1.3692,  -7.0081,\n",
      "        -12.7622, -10.4826,  -7.6153,  -4.8539,  -6.8621,  -8.0556,  -4.4926,\n",
      "         -5.5920,  -3.3919,  -5.3857,  -7.4559,  -5.0202,  -4.8459,  -6.5835,\n",
      "         -9.3080, -11.7436,  -4.2747,  -6.6641,  -6.5057,  -0.3686,  -7.4917,\n",
      "         -9.4083,  -7.2043,  -5.0116,  -4.7976,  -5.6111,  -9.9743,  -2.5410,\n",
      "         -9.2487,  -5.9988,  -2.4302,  -7.8063,  -3.6801,  -6.4775,  -7.0787,\n",
      "         -5.7881, -10.9304, -10.6976,  -3.5338,  -9.1600,  -3.0641,  -3.3374,\n",
      "         -9.5682,  -4.8621,  -5.7694,  -4.2584,  -3.0158,  -4.8854, -10.1338,\n",
      "         -3.1328, -11.5558,  -9.2505,  -0.7791,  -4.6071,  -2.4908,  -5.1122,\n",
      "         -7.0438,  -4.4290, -10.0871,  -2.3948,  -8.2300,  -7.4417,  -2.6703,\n",
      "         -9.8122,  -5.1903, -10.2253,  -8.4915, -10.7795,  -4.9877,  -9.5040,\n",
      "         -8.4470,  -8.7106,  -6.0147,  -7.5585,  -8.4442,  -9.1381,  -9.1485,\n",
      "         -4.4351,  -0.9478,  -4.0128,  -1.8361,  -6.2636, -15.8510,  -1.1004,\n",
      "         -7.3368,  -2.9860,  -6.2376,  -7.0515,  -5.8456,  -3.4427,  -8.0471,\n",
      "         -9.8901, -11.0729,  -7.9886, -11.9681,  -8.4923, -10.0431,  -5.7237,\n",
      "         -5.7372,  -4.2938,  -8.8742,  -6.3578,  -6.5545,  -6.7378,  -0.5516,\n",
      "         -8.8047,  -7.8325,  -2.8882,  -0.5692,  -2.3818,  -9.5421,  -9.2730,\n",
      "         -4.8744,  -5.9032,  -2.7943,  -1.6665,  -6.6690,  -9.1269,  -1.5432,\n",
      "         -4.4088,  -9.0590, -11.7301,  -7.2803,  -4.0026,  -8.1407,  -8.4243,\n",
      "         -4.0513, -10.1983,  -4.2091,  -4.4915,  -2.1935,  -4.9080,  -7.9382,\n",
      "         -4.6433,  -6.3482,  -6.5174,  -4.1074,  -5.4185, -12.4404,  -2.1884,\n",
      "         -5.8649,  -2.8824,  -5.0880,  -8.1726,  -6.7920,  -5.3830,  -3.2709,\n",
      "         -3.1611,  -4.5467,  -6.1192,  -4.6010,  -6.6586,  -9.3723,  -3.9871,\n",
      "         -6.5067,  -3.1052,  -4.7905,  -4.8887,  -7.8350,  -6.4400, -10.0544,\n",
      "         -6.4586,  -5.4913,  -7.5339,  -8.6689,  -1.0911,  -3.7107,  -8.0234,\n",
      "         -4.5528, -12.0182,  -7.7644,  -9.6847,  -7.7213, -11.0619,  -8.7080,\n",
      "        -16.2705,  -8.2486,  -8.0775,  -6.3058,  -7.5184,  -9.4423,  -4.9185,\n",
      "         -4.6678,  -8.8197,  -2.1575,  -8.2982,  -8.8547, -11.0057,  -6.9715,\n",
      "         -4.0524, -10.4397,  -4.0715,  -6.3853,  -1.6753,  -7.7705,  -4.5263,\n",
      "         -4.4698,  -8.2956,  -7.5267,  -1.8401,  -7.3423,  -5.6237,  -8.9307,\n",
      "         -6.7459,  -8.3811,  -6.5621,  -4.7575,  -8.1617,  -8.2929,  -3.8521,\n",
      "         -3.0463,  -3.6923,  -4.6983,  -7.8786,  -5.1554, -12.2415,  -9.5915,\n",
      "         -4.9829,  -6.7210,  -5.5409,  -4.7440,  -6.7887,  -3.7425,  -8.2110,\n",
      "         -8.5874,  -4.8688,  -2.2152,  -4.6258,  -1.6606,  -2.0405, -10.7364,\n",
      "         -5.3845,  -8.0344,  -8.7051, -11.1586,  -4.7007,  -6.9000, -11.4874,\n",
      "         -8.8174,  -6.3120,  -9.3517,  -8.4823,  -6.8792,  -4.0074,  -8.9077,\n",
      "         -7.5597,  -6.8415,  -6.5267,  -5.4225,  -5.8660,  -8.9391,  -4.7278,\n",
      "         -8.0970,  -5.5037, -11.0577,  -7.3409,  -5.8661, -11.8386, -10.0282,\n",
      "         -5.9449,  -4.3704,  -1.7353,  -3.8107,  -3.9409,  -7.5412,  -8.4655,\n",
      "         -6.3866,  -5.5705,  -2.9339,  -8.0392,  -6.9097,  -0.3147,  -3.6155,\n",
      "         -5.6762, -10.2619,  -6.9144,  -2.8571,  -4.9744,  -6.6450,  -8.0656,\n",
      "         -6.4710,  -5.8062,  -3.1960,  -2.3284,  -2.8808,  -8.7746,  -3.5903,\n",
      "         -5.4313,  -2.9906,  -6.6851,  -7.5918,  -5.9461,  -8.3557,  -8.4532,\n",
      "         -4.1489], device='cuda:0')\n",
      "goal_std: tensor([ 7.5431,  9.1174, 13.1141,  1.3295,  7.4349, 10.9924,  8.5986, 12.5041,\n",
      "        10.8451, 12.9983, 12.8362, 16.4852, 17.8687,  8.8836, 12.2023, 10.6436,\n",
      "        15.3923,  7.4719,  2.6434,  7.2682,  9.8257,  9.3573, 16.8575,  5.3171,\n",
      "         4.7654, 10.3287, 15.1759, 17.6375,  7.4819, 10.7344,  4.6167, 11.8138,\n",
      "         8.6695,  9.8539, 13.8740,  2.0713, 13.2760,  9.3148,  3.0245, 10.5924,\n",
      "         8.3547, 14.0847, 13.6944, 12.3091,  4.7167,  8.7989, 11.2228,  6.1593,\n",
      "         8.6261, 14.6163,  6.6915,  7.9828,  8.8947, 10.3960,  4.7334, 12.0583,\n",
      "        13.0750, 11.7765, 10.1114,  7.3318, 11.3595,  7.2727, 12.7816, 12.0748,\n",
      "        13.6329, 11.2832,  9.4302, 12.9372,  7.2856,  7.4368, 15.4141, 14.9493,\n",
      "         9.3102, 11.5874,  7.6783,  4.7664, 12.3804,  9.1871,  7.3086,  7.6457,\n",
      "        10.9415, 10.4875,  2.1034,  9.9680,  4.4564, 13.3902,  8.9195, 12.4864,\n",
      "         6.2263,  8.8141,  9.8467,  5.8578, 10.0646, 16.2994, 18.5551, 11.2518,\n",
      "         3.8453, 13.8706, 11.1528, 14.2824,  5.7875,  9.8296, 15.5031,  7.3271,\n",
      "         6.2107,  4.7085,  9.6276, 10.6078,  9.8397,  4.2954,  3.1250,  8.1206,\n",
      "        17.2119,  3.7155, 13.9043,  8.0853, 12.2786,  8.3329,  5.5492, 14.8349,\n",
      "        11.4361, 14.2481, 11.9357,  6.6941, 10.1173, 10.4990,  7.0895,  5.5999,\n",
      "        13.8315,  9.9078,  8.5195,  4.5940,  5.8812, 18.6931,  9.5362, 10.0390,\n",
      "         7.5839,  7.4017,  8.6758, 11.7869, 16.3247, 11.0365, 11.8534, 10.6125,\n",
      "         8.9536,  9.9976, 14.6861, 10.2377,  5.9907,  6.1532,  8.8226, 11.1956,\n",
      "        11.5514,  7.8777, 14.7931,  4.8458, 14.2466,  5.7494, 12.3105,  9.0696,\n",
      "         8.5281, 13.5528, 14.0989, 16.0908,  1.9811,  8.3543,  5.9825,  7.0067,\n",
      "        13.2175,  2.4532,  7.2262, 11.1804, 10.8535, 10.3671, 11.0074,  6.6070,\n",
      "        10.9927, 13.8382, 10.7031, 16.5413, 13.2868,  9.8379,  6.9830,  6.9846,\n",
      "         9.0964,  6.4258, 13.4850,  4.9484,  6.9905,  6.3678,  6.5364, 10.9695,\n",
      "         8.1186,  8.0240, 12.4099,  7.6262,  6.4905,  2.8209,  4.4271,  8.2263,\n",
      "         8.9142,  7.2124,  5.4712, 14.2500, 14.2073,  3.0751, 12.6688, 17.6340,\n",
      "         8.1977,  9.0548,  7.2907, 11.6968,  6.4131,  5.7650,  7.6263,  1.3808,\n",
      "        10.3198, 14.6329, 15.0766,  8.6515,  8.9122, 11.2245, 13.3298,  6.0424,\n",
      "         7.4105,  4.8141,  6.0235,  8.7648,  7.3593, 10.3276, 10.0429, 12.0068,\n",
      "        13.9726,  7.3266, 11.0960, 12.8969,  2.1153,  9.6063, 11.1432,  8.9208,\n",
      "         6.5207,  5.3887, 11.4191, 12.9155,  9.7859, 11.3983, 12.3484,  3.9926,\n",
      "        15.8122,  5.7884, 12.8040,  8.4771,  7.0301, 13.8187, 12.9233,  8.3496,\n",
      "        11.2370,  5.1181, 10.6472, 11.2793,  5.8675,  7.9021, 11.0875,  4.7398,\n",
      "         6.9048, 13.5946,  5.0708, 15.1798, 12.5713,  2.6717, 12.0775,  5.6936,\n",
      "         7.4738, 12.8214,  7.4860, 11.4881,  3.3426,  9.6591,  8.5084,  6.1991,\n",
      "        11.5699,  6.5015, 16.0829, 11.4613, 11.8114,  5.7115, 16.8220, 10.6881,\n",
      "        10.1859,  9.1079, 11.0002, 12.8105, 11.2051, 13.2886,  5.6615,  1.1006,\n",
      "         5.4755,  2.0489,  9.6266, 17.1956,  6.2454, 12.2074,  4.5516,  9.7964,\n",
      "        13.6239,  7.3182, 10.4931, 10.2646, 15.2692, 12.2340, 11.5113, 12.7829,\n",
      "        10.7994, 14.3334, 10.8432, 12.4825,  8.1754, 16.8524, 10.0060,  8.8078,\n",
      "         8.5598,  4.8957, 11.4766,  9.5433,  3.3759,  0.8016,  3.1868, 14.4231,\n",
      "        12.5403, 12.9742, 11.0771,  7.0058,  2.4015,  8.9845, 12.8111,  1.7178,\n",
      "         4.8800, 15.3030, 13.6174,  9.3425,  7.3910, 12.4138, 12.5776,  7.1817,\n",
      "        15.6846,  8.9027,  6.7672,  2.7767, 12.4443, 11.0604,  6.5380, 13.9686,\n",
      "         8.9100, 12.9219,  8.1314, 16.1233,  4.1859,  7.7623, 11.1954,  7.8297,\n",
      "        11.5165, 12.0881, 10.8814,  4.7924,  6.5052,  7.7908,  8.9389,  8.8613,\n",
      "         7.8705, 10.7793, 11.1565,  8.9425,  6.7896,  6.0764,  5.9505, 11.9788,\n",
      "         8.5246, 10.1624, 12.7298,  9.9302, 10.2823, 10.7054,  2.6247,  7.6100,\n",
      "        10.0411,  5.9901, 14.9001,  9.3768, 12.9075, 11.7369, 16.8397, 12.6186,\n",
      "        19.5755, 13.2605, 10.8762, 10.8140,  7.9376, 14.7523,  6.1574, 11.7875,\n",
      "        10.7756,  5.4774, 11.6444, 11.8648, 17.2920, 13.7167,  7.7365, 12.4314,\n",
      "         5.5787,  6.7977,  4.7865,  9.5246, 12.1219,  6.0281, 13.4543, 13.9923,\n",
      "         2.1299,  8.2418,  7.0065, 11.5941, 10.3946,  8.6501, 10.4948,  9.0644,\n",
      "        12.7765, 11.4129,  6.2104,  6.5123,  8.0532,  6.6244, 13.1603,  9.4300,\n",
      "        18.5893, 12.5847,  7.8466, 14.3507, 10.3782,  6.5863,  8.5052,  5.4249,\n",
      "         9.6851, 14.4409,  8.0025,  2.5962,  9.8801,  2.8083,  2.6963, 16.6805,\n",
      "         6.0288, 12.4543, 14.1467, 12.9135,  6.4199,  8.7601, 13.4314, 11.9978,\n",
      "        11.8827, 12.9563, 13.2185,  9.5916,  6.3274, 10.6754,  9.8000, 10.5999,\n",
      "        10.6119,  5.4138,  9.0961, 11.2773,  8.0029, 10.8412, 13.0398, 14.1030,\n",
      "         7.5081,  6.3421, 16.8072, 11.0711,  8.2583,  6.7061,  2.4917, 10.3190,\n",
      "         7.3492, 10.1437, 11.6047, 11.5736,  6.6793,  5.1051, 10.7673, 10.1648,\n",
      "         9.7983,  6.6623, 15.8619, 13.4676,  9.2862,  6.7879, 11.4369,  7.4929,\n",
      "        12.3784, 11.3050, 10.3648,  5.7112,  7.0741,  4.5472, 11.5864,  5.8457,\n",
      "         7.0790,  3.3401,  8.0613,  9.5197,  6.6039, 14.4921, 12.4708,  7.5640],\n",
      "       device='cuda:0')\n",
      "\n",
      "goal_mean: tensor([ -2.4950,  -3.7135,  -2.7737,  -3.2741,  -1.6542,  -1.6269,  -3.3351,\n",
      "         -2.1822,  -1.4360,  -3.6190,  -5.7184,  -2.9122,  -3.6524,  -3.6682,\n",
      "         -3.9440,  -5.0628,  -5.4095,  -4.7445,  -5.6660,  -5.8081,  -3.7168,\n",
      "         -6.6684,  -4.5682,  -3.7787,  -5.5630,  -3.9085,  -3.5435,  -4.0578,\n",
      "         -2.9031,  -2.8301,  -3.4531,  -3.5220,  -1.9885,  -2.8189,  -1.6834,\n",
      "         -1.7433,  -3.3998,  -0.6766,  -3.5518,  -2.4760,  -4.9742,  -3.2321,\n",
      "         -6.7473,  -5.2945,  -2.1840,  -4.1471,  -3.8724,  -2.9876,  -8.5885,\n",
      "         -3.8249,  -3.8377,  -4.9225,  -3.5192,  -5.6740,  -1.9507,  -3.3620,\n",
      "         -5.4364,  -1.4995,  -3.4705,  -1.8578,  -1.6885,  -2.7570,  -1.9564,\n",
      "         -4.4279,  -4.0918,  -2.4562,  -4.2463,  -2.8292,  -3.9062,  -4.3000,\n",
      "         -2.0462,  -4.2730,  -5.1017,  -4.4722,  -3.3418,  -4.7727,  -4.4092,\n",
      "         -6.9745,  -2.0292,  -2.7061,  -3.9292,  -6.3162,  -1.5250,  -6.7360,\n",
      "         -3.7972,  -3.3260,  -2.6253,  -3.4743,  -2.0250,  -4.0051,  -3.9111,\n",
      "         -3.0803,  -3.3842,  -5.7226,  -7.5371,  -5.9631,  -5.0081,  -5.2266,\n",
      "         -3.2505,  -2.1711,  -2.9059,  -0.7041,  -2.6169,  -4.1416,  -2.8382,\n",
      "         -4.2239,  -1.8107,  -3.5977,  -4.0493,  -3.4965,  -2.4147,  -5.0841,\n",
      "         -1.5171,  -5.5831,  -2.9454,  -4.8899,  -4.7347,  -1.9912,  -3.3914,\n",
      "         -2.0021,  -2.1710,  -4.0089,  -0.8993,  -2.3245,  -6.7845,  -0.9512,\n",
      "         -2.1507,  -2.4950,  -2.4267,  -7.6936,  -3.1826,  -2.5607,  -2.9525,\n",
      "         -2.0391,  -2.6648,  -2.4131,  -6.2858,  -2.0482,  -4.9199,  -4.2228,\n",
      "         -2.9268,  -4.4933,  -3.3795,  -2.7717,  -7.8413,  -5.6689,  -1.1895,\n",
      "         -4.7441,  -2.4727,  -3.5598,  -4.5562,  -1.4344,  -5.8204,  -0.7850,\n",
      "         -3.6504,  -4.4560,  -6.9702,  -2.8156,  -1.6111,  -5.0441,  -3.7877,\n",
      "         -4.7473,  -4.5968,  -3.4319,  -0.6350,  -7.3862,  -4.7925,  -3.6646,\n",
      "         -1.4716,  -2.4588,  -2.8387,  -2.3009,  -3.8661,  -3.2297,  -4.8121,\n",
      "         -2.8636,  -3.2408,  -7.2182,  -3.3294,  -2.8546,  -1.3690,  -3.9448,\n",
      "         -2.8144,  -3.9905,  -3.8173,  -3.8599,  -1.4387,  -2.1827,  -2.1560,\n",
      "         -4.4017,  -1.8823,  -3.1336,  -2.3735,  -2.5704,  -3.1670,  -3.4970,\n",
      "         -7.0400,  -3.6429,  -3.4612,  -6.5407,  -2.8321,  -4.2843,  -3.0021,\n",
      "         -2.9729,  -6.9015,  -6.2189,  -3.2358,  -4.9738,  -4.8701,  -4.5749,\n",
      "         -4.4702,  -2.3036,  -4.7601,  -4.5759,  -1.3695,  -4.9101,  -6.1719,\n",
      "         -2.3054,  -3.8118,  -4.3483,  -3.5964,  -2.3950,   0.3472,  -2.4470,\n",
      "         -4.2253,  -7.1817,  -3.2113,  -5.5897,  -1.9648,  -3.3159,  -1.9877,\n",
      "         -1.2686,  -6.1591,  -1.9659,  -3.2583,  -8.1177,  -6.1081,  -3.0734,\n",
      "         -1.7668,  -3.4952,  -0.9826,  -4.3385,  -4.5494,  -4.1821,  -5.3389,\n",
      "         -5.7894,  -5.7575,  -4.3152,  -4.4145,  -1.4917,  -3.6713,  -2.0831,\n",
      "         -2.6243,  -2.9304,  -5.1287,  -5.6398,  -3.2867,  -6.6474,  -1.3877,\n",
      "         -4.5280,  -1.5153,  -4.8224,  -2.5137,  -3.5698,  -4.6627,  -5.0167,\n",
      "         -4.8983,  -5.4939,  -5.3045,  -3.1413,  -3.7422,  -7.6136,  -6.4690,\n",
      "         -5.0034,  -5.0402,  -3.6122,  -4.4143,  -2.4693,  -4.8413,  -4.1309,\n",
      "         -1.2041,  -3.4314,  -5.2917,  -4.8512,  -6.7930,  -4.0023,  -3.7664,\n",
      "         -1.9123,  -5.0687,  -2.3783,  -1.9050,  -2.9475,  -2.8020,  -2.5153,\n",
      "         -4.3023,  -3.2868,  -2.7315, -10.8125,  -2.3819,  -1.9697,  -6.3729,\n",
      "         -3.9662,  -4.4382,  -6.3742,  -0.9686,  -6.6714,  -6.5365,  -4.3088,\n",
      "         -2.5437,  -3.8810,  -4.0318,  -2.9104,  -1.4209,  -1.9922,  -1.8313,\n",
      "         -2.4350,  -2.3116,  -3.2115,  -2.9433,  -2.7581,  -2.7480,  -2.8806,\n",
      "         -4.5366,  -1.7705,  -5.4504,  -2.0787,  -2.6480,  -3.1590,  -1.9632,\n",
      "         -4.4874,  -2.4235,  -0.9223,  -3.1723,  -5.2991,  -7.4033,  -4.8279,\n",
      "         -3.8937,  -3.9153,  -3.8641,  -1.8860,  -4.9375,  -3.6989,  -2.7691,\n",
      "         -2.7085,  -3.5534,  -4.0645,  -1.9721,  -6.9617,  -2.3682,  -5.6694,\n",
      "         -2.4914,  -5.7750,  -5.2884,  -4.5406,  -2.5023,  -3.5709,  -4.5214,\n",
      "         -4.6897,  -8.2765,  -3.3073,  -3.7354,  -2.3470,  -3.3478,  -1.9998,\n",
      "         -2.3981,  -4.3492,  -4.4265,  -2.1272,  -2.4466,  -3.1545,  -3.7831,\n",
      "         -3.4824,  -2.2694,  -5.0281,  -2.0581,  -3.8890,  -4.1676,  -3.1923,\n",
      "         -4.6439,  -1.7955,  -6.3426,  -3.8940,  -3.4655,  -3.9640,  -4.4846,\n",
      "         -3.4702,  -3.7879,  -4.8050,  -1.0080,  -2.2283,  -2.9340,  -8.0073,\n",
      "         -3.8727,  -7.1046,  -1.3295,  -3.9980, -11.4958,  -5.3919,  -3.0551,\n",
      "         -4.0869,  -3.3924,  -0.9613,  -8.3144,  -4.8980,  -2.5758,  -2.3997,\n",
      "         -3.6104,  -5.8435,  -3.0443,  -5.7229,  -3.2720,  -2.4368,  -3.2217,\n",
      "         -2.9075,  -4.1525,  -7.5104,  -2.9215,  -6.4278,  -2.4372,  -3.7160,\n",
      "         -7.7466,  -3.4991,  -7.1747,  -3.3739,  -1.4023,  -2.6669,  -7.3398,\n",
      "         -3.9543,  -2.7476,  -6.0928,  -2.9542,  -4.5321,  -3.4560,  -3.5724,\n",
      "         -2.2883,  -2.4635,  -5.2081,  -1.9783,  -5.0659,  -6.1964,  -3.1465,\n",
      "         -5.0174,  -3.7622,  -3.2383,  -2.5240,  -7.1505,  -4.4893,  -3.6898,\n",
      "         -2.8712,  -2.5034,  -2.3347,  -3.3288,  -2.1619,  -4.6715,  -2.5097,\n",
      "         -3.3068,  -5.1854,  -3.9239,  -4.4919,  -3.4878,  -1.9545,  -2.9736,\n",
      "         -4.1584,  -2.2888,  -1.0494,  -2.4390,  -2.2367,  -5.7132,  -2.3552,\n",
      "         -2.7865,  -3.2663,  -3.2551,  -5.0437,  -4.3426,  -4.1409,  -2.1163,\n",
      "         -3.5490,  -2.0735,  -3.7351,  -2.0600,  -4.2706,  -3.7629,  -2.8380,\n",
      "         -6.4248,  -3.2168,  -4.6129,  -5.4557,  -1.2081,  -5.1982,  -3.2880,\n",
      "         -4.7210,  -1.9115,  -2.5792,  -3.6185,  -2.9768,  -3.9517,  -3.9651,\n",
      "         -2.9632,  -3.7641,  -2.9457,  -3.8001,  -2.5715,  -1.9939,  -3.0157,\n",
      "         -2.3835,  -2.3221,  -2.3344,  -2.1275,  -6.6129,  -2.9989,  -2.9049,\n",
      "         -4.8484], device='cuda:0')\n",
      "goal_std: tensor([ 4.3132,  4.5286,  3.5361,  4.3192,  2.5034,  1.9751,  5.3029,  2.6416,\n",
      "         5.5634,  3.5357,  7.7214,  2.9687,  5.1429,  5.7052,  5.0138,  7.8131,\n",
      "         6.3528,  5.3153,  7.9547,  5.6565,  5.4993,  7.8184,  6.8487,  3.9738,\n",
      "         5.9690,  4.6034,  6.2352,  6.5961,  2.9843,  7.8994,  3.5527,  3.8986,\n",
      "         1.9948,  3.8927, 13.3962,  1.6458,  6.6028,  1.1760,  5.2201,  3.4118,\n",
      "         7.3797,  3.1362,  6.6271,  4.9491,  4.0043,  4.9803,  4.9050,  2.8419,\n",
      "        10.4347,  4.2439,  5.1707,  4.3052,  5.7575,  7.4690,  2.3860,  4.1207,\n",
      "         7.5901,  6.7466,  3.9666,  2.2401,  2.1615,  9.3170,  3.0754,  4.9649,\n",
      "         4.8705,  3.4626,  4.3720,  7.1358,  3.7097,  5.0901,  3.7333,  4.3715,\n",
      "         6.7017,  7.6694,  3.6582,  5.3312,  5.1113,  8.1983,  2.0171,  3.6733,\n",
      "         4.0689,  9.4643,  2.8429,  8.6357,  4.1600,  7.6789,  3.2267,  4.5853,\n",
      "         3.2990,  4.4265,  4.6001,  4.3417,  4.0635,  7.0990,  7.8376,  9.7093,\n",
      "         4.7354,  7.5829,  5.2752,  3.3185,  6.0921,  5.6244,  3.6197,  4.3913,\n",
      "         3.4963,  4.5737,  1.7906,  6.6852,  4.8346,  3.1966,  5.8166,  5.4888,\n",
      "         2.2011,  7.5392,  4.7192,  6.9292,  7.5515,  4.5267,  5.5709,  2.6462,\n",
      "         2.2889,  6.1091,  1.1152,  3.9470,  7.5822,  1.8742,  2.3453,  3.8947,\n",
      "         3.6678,  8.7699,  6.5248,  4.7875,  2.9016,  3.6386,  3.4057,  6.8838,\n",
      "         6.8695,  2.3682,  5.5605,  4.9737,  3.8833,  7.4157,  4.2624,  4.4742,\n",
      "         8.5195,  6.4734,  1.2373,  5.4869,  4.6523,  5.2738,  4.5917,  3.4165,\n",
      "         6.7100,  0.8783,  5.9925,  4.9470,  7.4138,  3.5342,  2.9765,  7.9496,\n",
      "         6.4856,  7.0564,  5.1838,  5.2002,  2.3135, 13.4526,  6.5182,  3.7059,\n",
      "         4.4707,  5.2656,  3.9901,  5.5727,  4.0395,  3.7425, 10.3758,  2.7485,\n",
      "         4.1976,  8.6636,  5.8830,  4.8208,  1.6909,  6.4706,  3.2882,  4.8891,\n",
      "         3.8972,  5.3402,  2.1590,  2.6738,  2.8638,  5.1967,  2.0174,  5.1805,\n",
      "         2.5272,  4.1379,  3.4708,  4.6831,  6.9361,  4.5283,  4.4739,  7.3085,\n",
      "         3.8727,  5.4341,  4.6181,  3.5447,  7.6221,  5.8710,  3.2294,  7.6011,\n",
      "         5.7816, 11.0497,  4.9133,  3.0183,  5.2466,  4.3236,  2.0368,  4.5032,\n",
      "         6.6813,  7.5862,  7.5026,  6.7278,  3.7350,  3.6359,  4.4553,  3.2252,\n",
      "         4.3343,  9.3499,  4.3932,  7.2480,  1.9330,  4.1263,  6.6329,  1.4477,\n",
      "         5.9047,  2.2303,  3.5794, 10.3260,  9.4791,  3.3037,  2.7467,  3.5618,\n",
      "         2.2784,  5.6351,  5.6035,  4.9669,  5.0147,  8.7918,  6.0986,  5.4100,\n",
      "         7.7908,  2.1737,  6.1820,  5.0231,  3.4592,  3.5151,  8.0647,  9.7732,\n",
      "         4.6098,  8.2295,  3.7217,  4.7711,  2.0427,  5.3535,  5.5628,  4.6684,\n",
      "         6.1854,  7.7496,  4.8047,  5.7395,  8.6323,  4.5613,  6.0751,  9.6360,\n",
      "         6.9642,  6.3953,  6.6851,  7.2026,  6.1367,  2.6323,  4.8484,  4.8914,\n",
      "         1.9411,  4.9283,  8.2463,  5.9973,  6.9933,  4.6937,  7.0293,  2.7058,\n",
      "         6.9086,  3.4957,  2.0704,  3.0067,  4.3818,  2.6572,  4.9682,  3.3895,\n",
      "         5.0865, 13.9136,  5.1769,  3.2123,  7.6166,  5.0507,  5.1348,  8.2359,\n",
      "         4.7924,  7.4358,  8.9045,  5.3917,  3.6108,  5.0083,  6.5842,  5.0088,\n",
      "         2.1870,  2.5683,  2.1256,  3.1828,  3.6343,  3.6328,  4.5562,  4.3407,\n",
      "         5.7135,  3.5781,  6.8412,  6.0080,  7.7220,  3.8140,  4.4798,  4.4180,\n",
      "         2.8516,  6.8698,  3.9639,  1.3727,  3.0217,  5.8981,  8.5198,  5.1395,\n",
      "         3.6923,  4.2190,  3.5746,  1.6884,  6.6497,  4.7642,  3.3747,  7.0745,\n",
      "         3.3367,  4.5046,  5.1236,  6.3004,  6.0359,  8.9885,  2.7000,  5.4290,\n",
      "         5.2944,  5.7019,  2.9574,  4.2289,  5.9171,  5.6898,  7.9394,  3.9876,\n",
      "         4.8334,  2.6014,  4.9785,  6.8627,  5.6505,  4.9102,  8.8931,  2.8360,\n",
      "         2.8692,  2.9621,  5.7262,  5.0947,  3.8529,  5.5654,  2.4122,  5.8518,\n",
      "         4.9329,  4.9561,  4.6976,  3.5946,  7.1721,  6.7932,  3.5340,  4.4972,\n",
      "         7.9399,  4.4100,  4.0387,  6.0972,  1.0712,  3.5181,  4.7894,  9.0950,\n",
      "         3.7435,  8.4652,  1.4994,  4.4402, 12.6478,  5.7424,  3.4308,  6.5064,\n",
      "         3.7725,  1.2376, 10.5953,  6.2131,  4.6884,  6.3628,  5.0839,  9.2594,\n",
      "         4.2670,  9.3285,  3.3752,  3.0056,  4.5889,  8.0871,  4.0523,  9.0358,\n",
      "         5.3127,  7.4390,  5.1220,  3.7665,  7.1951,  4.0396,  8.5595,  5.3837,\n",
      "         2.2790,  4.0036,  7.0479,  5.0299,  4.9523,  8.9910,  3.2552, 10.1961,\n",
      "         5.8553,  4.4443,  2.5065,  2.9069, 10.4256,  3.1755,  9.1580,  7.6179,\n",
      "         5.1519,  5.5604,  5.6629,  5.0623,  2.6853,  8.8189,  4.4350,  4.0294,\n",
      "         3.2974,  4.5055,  2.2789,  4.3702,  2.6957,  5.8250,  8.3225,  3.7066,\n",
      "         5.4867,  6.4117,  4.8531,  4.7373,  3.2732,  3.7723,  5.9103,  4.8126,\n",
      "         1.1769,  3.5565,  5.1573,  5.4616,  2.4442,  3.1270,  3.5017,  6.2384,\n",
      "         6.1367,  5.2846,  4.7343,  2.4606,  5.5198,  3.7057,  4.3206,  3.0314,\n",
      "         5.0481,  4.4437,  3.8841,  9.6689,  3.4835,  5.5703,  7.4863,  3.1226,\n",
      "         5.8925,  3.6679,  4.6192,  3.8232,  4.5263,  5.3129,  3.0218,  3.7764,\n",
      "         4.8462,  3.8707,  3.5853,  3.0474,  4.4573,  2.7574,  2.1406,  3.8871,\n",
      "         3.8081,  4.1706,  3.1913,  4.4848,  9.0223,  3.2044,  3.8501,  5.1990],\n",
      "       device='cuda:0')\n",
      "\n",
      "goal_mean: tensor([-0.3960, -1.4972, -0.4972, -3.1839, -1.2842, -0.6901, -2.0301, -0.8796,\n",
      "        -0.2695, -1.4158, -1.0476, -0.8947, -1.7096, -0.8633, -1.3429, -0.8235,\n",
      "        -1.9543, -3.7443, -0.7143, -1.2842, -0.2705, -2.0706, -0.1893, -0.9506,\n",
      "        -1.1591, -0.8017, -1.2037, -0.6387, -1.5000, -0.5176, -0.8790, -0.4247,\n",
      "        -2.0581, -3.0045, -2.0212, -1.5972, -0.4877, -1.3604, -0.6345, -0.5250,\n",
      "        -2.7820, -0.9492, -2.1853, -0.6729, -0.8883, -0.6603, -0.7375, -1.6028,\n",
      "        -0.9520, -1.3118, -1.1020, -3.6896, -0.5388, -2.4482, -0.7772, -1.0296,\n",
      "        -0.7002, -0.9169, -0.2552, -1.5737, -2.1502, -1.7854, -0.5047, -0.6162,\n",
      "        -1.2529, -2.2644, -1.0526, -0.2635, -2.8938, -0.2455, -0.4606, -1.4260,\n",
      "        -0.5324, -0.6791, -0.1274, -4.0144, -1.7669, -0.2677, -0.5945, -1.1178,\n",
      "        -0.4953, -0.3083, -1.2223, -0.7688, -0.7282, -0.2464, -0.3485, -4.8561,\n",
      "        -0.9113, -1.5889, -1.6251, -1.0096, -2.5831, -1.2679, -1.8354, -1.4980,\n",
      "        -1.5065, -1.1613, -0.8358, -0.6638, -2.2255, -1.6784, -1.2609, -0.4456,\n",
      "        -0.5670, -1.5776, -0.5710, -0.3910, -0.9921, -1.0781, -1.5338, -1.0415,\n",
      "        -0.4669, -0.8801, -1.4607, -0.4017, -1.6165, -1.5085, -1.6578, -0.4725,\n",
      "        -0.3167, -2.4979, -1.4676, -1.0824, -1.7068, -0.7767, -2.8041, -1.5048,\n",
      "        -0.2220, -0.3618, -0.2754, -1.8389, -0.0719, -0.5129, -1.0914, -0.9993,\n",
      "        -0.8599, -2.2637, -0.5381, -1.6274, -2.5824, -0.6340, -4.1251, -0.7526,\n",
      "        -0.6294, -1.2542, -0.1038, -0.4151, -0.7582, -0.2260, -2.0610, -0.9447,\n",
      "        -1.3794, -1.7708, -0.4853, -1.1171, -0.2881, -0.5764, -0.5553, -0.1461,\n",
      "        -0.9436, -1.1404, -1.0166, -1.4752, -1.0775, -0.7026, -0.8020, -0.7552,\n",
      "        -0.1416, -0.9743, -0.8926, -1.0169, -0.1371, -0.2010, -0.4616, -1.0954,\n",
      "        -1.6022, -0.8877, -2.5539, -2.3069, -1.5685, -1.0776, -1.6148, -1.1116,\n",
      "        -1.4639, -0.6232, -0.7914, -1.1461, -0.6423, -0.1077, -0.7570, -1.1262,\n",
      "        -0.9548, -1.0995, -1.3002, -1.3110, -1.2371, -1.6632, -1.3023, -1.7293,\n",
      "        -0.7672, -2.0473, -1.6475, -1.0478, -0.8045, -0.4556, -0.5325, -1.2896,\n",
      "        -0.3242, -3.1916, -1.1067, -2.0395, -2.9635, -1.3044, -0.9901, -1.8699,\n",
      "        -1.0804, -1.3849, -1.9682, -1.4949, -0.5790, -1.2876, -1.0035, -2.3016,\n",
      "        -1.3786, -0.6092, -1.4118, -1.6651, -1.0747, -1.6190, -1.8928, -1.5346,\n",
      "        -1.4955, -0.1299, -2.3704, -0.6943, -2.9165, -1.3048, -1.2945, -1.3620,\n",
      "        -0.7311, -0.9753, -1.3379, -1.2487, -1.9081, -0.9465, -2.6406, -1.7438,\n",
      "        -0.6188, -0.8232, -1.0857, -2.3849, -3.2124, -1.1517, -1.0179, -0.6692,\n",
      "        -0.5015, -0.8894, -0.0787, -1.7217, -0.3758, -1.6607, -0.1432, -2.2083,\n",
      "        -1.6636, -0.4735, -2.0925, -2.4704, -1.6977, -0.6284, -0.4332, -0.6193,\n",
      "        -0.8322, -0.1237, -2.0648, -0.4702, -2.0637, -1.5788, -0.5279, -2.2380,\n",
      "        -2.0505, -2.8727, -0.8707, -1.1179, -1.7732, -0.4507, -1.5403, -0.9688,\n",
      "        -1.0600, -1.1039, -1.3039, -0.6563, -1.8441, -0.8280, -0.7124, -0.6591,\n",
      "        -1.3101, -1.8101, -0.4032, -1.6763, -2.1697, -1.1571, -1.1062, -1.4422,\n",
      "        -0.5427, -2.4196, -2.3693, -2.1963, -0.5501, -0.9833, -1.2843, -2.1420,\n",
      "        -2.5279, -0.6424, -0.1020, -0.2026, -0.6508, -0.1051, -1.4211, -1.2143,\n",
      "        -0.7425, -2.0969, -0.3668, -0.9795, -1.0634, -0.9357, -0.5229, -1.0987,\n",
      "        -1.1095, -0.1816, -2.0930, -0.2508, -2.2701, -1.3310, -1.0698, -1.0167,\n",
      "        -0.8433, -0.8106, -0.4520, -2.0895, -0.7958, -0.6447, -1.1566, -1.2238,\n",
      "        -1.8334, -0.0774, -3.1254, -0.1552, -0.1231, -2.6064, -2.1540, -1.0815,\n",
      "        -0.7045, -1.1752, -1.0886, -1.1629, -0.6735, -1.8388, -0.4652,  0.1749,\n",
      "        -0.1827, -0.9555, -3.1078, -2.6834, -2.2597, -1.4730, -1.1829, -1.6731,\n",
      "        -1.9627, -1.8556, -1.0181, -0.1052, -3.6616, -3.2784, -2.4216, -0.5250,\n",
      "        -0.4984, -1.9913, -1.1216, -1.3719, -1.0413, -1.5612, -0.5656, -0.1428,\n",
      "        -0.5014, -0.7079, -0.7920, -3.0982, -0.9542, -3.1374, -0.6207, -0.9105,\n",
      "        -2.9234, -1.9166, -0.3859, -1.6002, -0.9487, -1.8140, -1.9187, -1.0902,\n",
      "        -1.5414,  0.1660, -1.5362, -0.2906, -1.0569, -1.0891, -1.2444, -0.7227,\n",
      "        -0.5901, -0.0488, -0.7557, -0.6639, -1.0449, -0.7141, -1.7469, -3.4923,\n",
      "        -0.2215, -1.3793, -0.6278,  0.0635, -1.7089, -0.3938, -2.8706, -0.9923,\n",
      "        -1.5291, -2.4611, -1.4695, -2.2849, -1.4610, -1.3742, -2.1171, -3.0815,\n",
      "        -0.7377, -0.8993, -0.4214, -1.4572, -4.2191, -2.2567, -1.4444, -2.0770,\n",
      "        -0.2166, -0.9546, -1.9489, -2.8034, -0.2799, -0.7729, -0.2325, -0.0745,\n",
      "        -0.7378, -2.7515, -1.1749, -1.5614, -0.9938, -3.5536, -0.1310, -2.7484,\n",
      "        -0.9101, -1.1383, -2.0555, -0.7764, -0.3002, -0.6110, -1.8198, -0.5321,\n",
      "        -0.2260, -0.1704, -3.4137, -0.4473, -0.4586, -0.2395, -1.8070, -0.4736,\n",
      "        -1.7736, -0.6449, -1.7649, -1.3846, -3.0815, -1.2133,  0.2839, -0.8957,\n",
      "        -0.2863, -1.9358, -1.2663, -1.4258, -0.8487, -0.7790, -0.7312, -1.6777,\n",
      "        -1.2017, -0.5206, -1.0847, -1.4439, -1.5345, -0.4576, -0.3835, -1.0209,\n",
      "        -0.2530, -0.6798, -0.8150, -0.8429, -0.9621, -1.8657, -1.0286, -1.5399,\n",
      "        -0.8928, -1.6563, -0.4750, -1.2187, -0.8747, -2.4518, -1.2288, -1.8890],\n",
      "       device='cuda:0')\n",
      "goal_std: tensor([1.1191, 2.5092, 1.5074, 5.1054, 2.3946, 2.1359, 3.4464, 2.0696, 0.8364,\n",
      "        3.2784, 2.0872, 1.7850, 2.8869, 2.3261, 3.3266, 2.5294, 2.7964, 7.1552,\n",
      "        2.1096, 4.7328, 0.5897, 4.0883, 0.3064, 2.4555, 1.8424, 2.6216, 2.6973,\n",
      "        1.2074, 5.5066, 1.9390, 1.4733, 2.5241, 6.7068, 5.1157, 4.2763, 3.1147,\n",
      "        0.9475, 2.5725, 1.3483, 1.2478, 4.2016, 2.4607, 3.0151, 1.7434, 1.7941,\n",
      "        1.4475, 2.0137, 4.4559, 3.5547, 2.1159, 2.0185, 6.4823, 2.6779, 4.2161,\n",
      "        1.6488, 2.2123, 1.2647, 1.5976, 1.8084, 4.1443, 3.7437, 4.0660, 1.9343,\n",
      "        1.0507, 5.0262, 4.0096, 3.8553, 0.4035, 5.3746, 3.7381, 1.8861, 7.1328,\n",
      "        1.1588, 4.1430, 0.6274, 7.8324, 2.6561, 6.7668, 1.2395, 1.6616, 2.3473,\n",
      "        2.2052, 1.8401, 3.1956, 1.8349, 1.0987, 2.0001, 7.4097, 2.4664, 3.5271,\n",
      "        4.5956, 2.7960, 5.7393, 3.9440, 3.5182, 3.2653, 4.0345, 4.9532, 2.2677,\n",
      "        1.8836, 6.0323, 3.3793, 3.3144, 1.8516, 2.1793, 2.6813, 1.8022, 1.4278,\n",
      "        2.1287, 3.1293, 3.2676, 1.9631, 1.3071, 2.7083, 3.0334, 2.9741, 3.5872,\n",
      "        3.4262, 2.8221, 1.5364, 1.3820, 6.0424, 2.9004, 2.3185, 4.5573, 2.2734,\n",
      "        5.9164, 2.6200, 2.2223, 0.8503, 0.7119, 4.7604, 0.6215, 3.7565, 3.1565,\n",
      "        2.0794, 2.2105, 5.0673, 1.7714, 3.1973, 5.5565, 1.6348, 7.0423, 3.1513,\n",
      "        2.2154, 5.4340, 0.2386, 1.1313, 1.5984, 1.3812, 4.7865, 2.6745, 4.3889,\n",
      "        2.7602, 0.9849, 2.1536, 2.2083, 4.1338, 2.1619, 0.7082, 1.9949, 1.7588,\n",
      "        2.4672, 4.4572, 2.1035, 3.5640, 2.3620, 5.1568, 0.8409, 1.6333, 1.9018,\n",
      "        2.5448, 0.1413, 0.4763, 0.8915, 1.5957, 3.6291, 1.7358, 5.3713, 5.4629,\n",
      "        2.9586, 4.6726, 3.5434, 1.8706, 2.1687, 1.8210, 1.7927, 3.1807, 1.1774,\n",
      "        0.1933, 1.5903, 3.5801, 2.7213, 2.5899, 2.7103, 3.3269, 2.6601, 4.6134,\n",
      "        4.8479, 2.3631, 1.9512, 4.7584, 2.8981, 2.7566, 2.1887, 3.8858, 1.2639,\n",
      "        3.0377, 1.4364, 4.8277, 2.4094, 4.6137, 5.6456, 3.5208, 1.9916, 6.7929,\n",
      "        2.9246, 4.9957, 3.4330, 4.6282, 3.6019, 3.0205, 3.0871, 4.6502, 3.3683,\n",
      "        1.0282, 3.9885, 3.5279, 1.4444, 3.4636, 3.7111, 3.3105, 4.7220, 0.1400,\n",
      "        6.0834, 4.7954, 5.9458, 4.2880, 3.2137, 3.8737, 1.7981, 1.6606, 2.7403,\n",
      "        2.1446, 2.8835, 1.6143, 5.5032, 2.9145, 3.3923, 2.5345, 2.2429, 4.8707,\n",
      "        6.3391, 3.5485, 3.1425, 1.3176, 0.8986, 2.9756, 0.1688, 3.8947, 1.2130,\n",
      "        3.0359, 0.1599, 5.4614, 3.1582, 0.9314, 5.0151, 7.0303, 4.1628, 2.0025,\n",
      "        1.6111, 2.6122, 3.5128, 2.3492, 3.6638, 1.4373, 4.3975, 2.9206, 3.4141,\n",
      "        4.1143, 4.4152, 5.6045, 2.5661, 2.6838, 5.6970, 2.7311, 2.3777, 7.2075,\n",
      "        5.7623, 2.6479, 3.3621, 1.4819, 2.1866, 5.6060, 0.9350, 1.7966, 2.4508,\n",
      "        4.3088, 2.3263, 3.0110, 3.8436, 1.9760, 3.2626, 5.0530, 3.3236, 5.3710,\n",
      "        6.6861, 3.2118, 2.6341, 2.3477, 3.6714, 4.6923, 6.6606, 2.0235, 0.1605,\n",
      "        0.3891, 2.3551, 0.1838, 3.0725, 2.1366, 2.3855, 5.5185, 1.0778, 1.6827,\n",
      "        5.3003, 2.7404, 2.6870, 2.5833, 2.4091, 0.3141, 4.0271, 1.9656, 4.7189,\n",
      "        4.1896, 2.8296, 2.1074, 1.8904, 3.0598, 0.8074, 3.6976, 1.6554, 2.1451,\n",
      "        2.6306, 2.0441, 6.4830, 0.2907, 5.2239, 0.1810, 5.3294, 4.4325, 4.4865,\n",
      "        1.6820, 2.7142, 3.4581, 4.4171, 3.0068, 2.9049, 4.4444, 2.1592, 2.2904,\n",
      "        0.2610, 4.1582, 4.6679, 4.1722, 4.1508, 2.9097, 3.7351, 4.7608, 3.7511,\n",
      "        2.9353, 3.9915, 3.4921, 6.4580, 6.1353, 4.6834, 1.7239, 2.9942, 3.4905,\n",
      "        2.2173, 3.0184, 1.7206, 3.0992, 1.5820, 0.1806, 1.8158, 2.4987, 1.7371,\n",
      "        5.0070, 3.1907, 5.4391, 2.1235, 1.9166, 5.7877, 4.7656, 1.9125, 2.9930,\n",
      "        2.2949, 5.0411, 5.2810, 3.4409, 3.6041, 1.8434, 2.1428, 3.3700, 2.6619,\n",
      "        2.6020, 6.5763, 2.6513, 0.9833, 3.9841, 2.2958, 1.9161, 3.7423, 1.1433,\n",
      "        5.7558, 4.1554, 2.2567, 5.1907, 1.6407, 1.7928, 3.1732, 2.1415, 5.8415,\n",
      "        3.7161, 3.7665, 6.3631, 4.3278, 3.1789, 4.5457, 2.3399, 3.3966, 4.6914,\n",
      "        2.7484, 2.2617, 0.9150, 4.2452, 5.8162, 2.9031, 2.8913, 4.7718, 2.2471,\n",
      "        3.3877, 3.9228, 4.0035, 0.5947, 1.3774, 1.0619, 1.0072, 3.0198, 6.0700,\n",
      "        2.3707, 2.8295, 4.2378, 6.0775, 0.1533, 5.2559, 3.3499, 3.1235, 2.6303,\n",
      "        1.6178, 0.7428, 1.8627, 4.0842, 1.0105, 0.5786, 1.0381, 7.3122, 1.0314,\n",
      "        2.6527, 0.3554, 4.2857, 1.3624, 3.3297, 2.1749, 3.8669, 2.6916, 6.2437,\n",
      "        3.1986, 3.4657, 4.8524, 0.6110, 2.8277, 2.5936, 3.1730, 1.6286, 1.3260,\n",
      "        1.5890, 3.5988, 2.1651, 1.0620, 2.2149, 3.8394, 3.3669, 1.6932, 1.4653,\n",
      "        2.9167, 1.3451, 2.2550, 1.8129, 2.3074, 4.4115, 3.8570, 1.4856, 4.4270,\n",
      "        2.6951, 2.9836, 1.4272, 2.9078, 1.5310, 4.1551, 2.8903, 4.2525],\n",
      "       device='cuda:0')\n",
      "\n"
     ]
    }
   ],
   "source": [
    "model_zipit_repaired = repair(trainloader, [model_1, model_2], model_zipit, device, variant='rescale')"
   ]
  },
  {
   "cell_type": "code",
   "execution_count": 24,
   "metadata": {},
   "outputs": [
    {
     "name": "stdout",
     "output_type": "stream",
     "text": [
      "Accuracy of the network on the 10000 test images: 10 %\n"
     ]
    },
    {
     "data": {
      "text/plain": [
       "(0.021593576431274415, 0.1)"
      ]
     },
     "execution_count": 24,
     "metadata": {},
     "output_type": "execute_result"
    }
   ],
   "source": [
    "model_zipit_removebias.load_state_dict(sd_zipit)\n",
    "validate(model_zipit_removebias, testloader, criterion)"
   ]
  },
  {
   "cell_type": "code",
   "execution_count": 12,
   "metadata": {},
   "outputs": [
    {
     "name": "stdout",
     "output_type": "stream",
     "text": [
      "Accuracy of the network on the 10000 test images: 75 %\n"
     ]
    },
    {
     "data": {
      "text/plain": [
       "(85948263327.3344, 0.753)"
      ]
     },
     "execution_count": 12,
     "metadata": {},
     "output_type": "execute_result"
    }
   ],
   "source": [
    "validate(model_zipit_repaired, testloader, criterion, device)"
   ]
  },
  {
   "cell_type": "markdown",
   "metadata": {},
   "source": [
    "check the weights of merged model"
   ]
  },
  {
   "cell_type": "code",
   "execution_count": 18,
   "metadata": {},
   "outputs": [],
   "source": [
    "sd_permute = torch.load('checkpoints/cifar10_my_vgg16_permute_1_2.pt', weights_only=True, map_location='cpu')\n",
    "model_permute = my_vgg.my_vgg16()\n",
    "model_permute.load_state_dict(sd_permute)\n",
    "model_permute = model_permute.to(device)"
   ]
  },
  {
   "cell_type": "code",
   "execution_count": 17,
   "metadata": {},
   "outputs": [
    {
     "name": "stdout",
     "output_type": "stream",
     "text": [
      "Accuracy of the ensemble on the 10000 test images: 93 \n"
     ]
    },
    {
     "data": {
      "text/plain": [
       "(0.002912820114940405, 0.9327)"
      ]
     },
     "execution_count": 17,
     "metadata": {},
     "output_type": "execute_result"
    }
   ],
   "source": [
    "validate_ensemble(model_1, model_2, testloader, criterion, device)"
   ]
  },
  {
   "cell_type": "code",
   "execution_count": 15,
   "metadata": {},
   "outputs": [
    {
     "data": {
      "text/plain": [
       "dict_keys(['features.0.weight', 'features.0.bias', 'features.2.weight', 'features.2.bias', 'features.5.weight', 'features.5.bias', 'features.7.weight', 'features.7.bias', 'features.10.weight', 'features.10.bias', 'features.12.weight', 'features.12.bias', 'features.14.weight', 'features.14.bias', 'features.17.weight', 'features.17.bias', 'features.19.weight', 'features.19.bias', 'features.21.weight', 'features.21.bias', 'features.24.weight', 'features.24.bias', 'features.26.weight', 'features.26.bias', 'features.28.weight', 'features.28.bias', 'classifier.0.weight', 'classifier.0.bias'])"
      ]
     },
     "execution_count": 15,
     "metadata": {},
     "output_type": "execute_result"
    }
   ],
   "source": [
    "sd_permute.keys()"
   ]
  },
  {
   "cell_type": "code",
   "execution_count": 20,
   "metadata": {},
   "outputs": [],
   "source": [
    "# for key in sd_permute.keys():\n",
    "#     print(key)\n",
    "#     mid_value = (sd_1[key] + sd_2[key]) / 2\n",
    "#     permute_value = sd_permute[key]\n",
    "#     assert torch.allclose(mid_value, permute_value)"
   ]
  },
  {
   "cell_type": "markdown",
   "metadata": {},
   "source": [
    "check the graph"
   ]
  },
  {
   "cell_type": "code",
   "execution_count": 4,
   "metadata": {},
   "outputs": [],
   "source": [
    "from graphs.my_vgg_graph import my_vgg16\n",
    "from copy import deepcopy\n",
    "\n",
    "# graph_1 = my_vgg16(deepcopy(model_1)).graphify()\n",
    "# graph_1.print_prefix()"
   ]
  },
  {
   "cell_type": "code",
   "execution_count": 2,
   "metadata": {},
   "outputs": [],
   "source": [
    "from graphs.base_graph import NodeType\n",
    "\n",
    "def get_prefix(graph):\n",
    "    prefix_nodes = []\n",
    "    for node in graph.G.nodes:\n",
    "        info = graph.get_node_info(node)\n",
    "        if info['type'] in (NodeType.PREFIX, NodeType.POSTFIX):\n",
    "            prefix_nodes.append(node)\n",
    "    return prefix_nodes"
   ]
  },
  {
   "cell_type": "code",
   "execution_count": 6,
   "metadata": {},
   "outputs": [
    {
     "data": {
      "text/plain": [
       "[3, 6, 10, 13, 17, 20, 23, 27, 30, 33, 37, 40, 43]"
      ]
     },
     "execution_count": 6,
     "metadata": {},
     "output_type": "execute_result"
    }
   ],
   "source": [
    "from models import my_vgg\n",
    "\n",
    "model_1 = my_vgg.my_vgg16()\n",
    "\n",
    "graph_1 = my_vgg16(deepcopy(model_1)).graphify()\n",
    "\n",
    "prefix_nodes = get_prefix(graph_1)\n",
    "\n",
    "prefix_nodes"
   ]
  },
  {
   "cell_type": "code",
   "execution_count": null,
   "metadata": {},
   "outputs": [
    {
     "data": {
      "text/plain": [
       "{'layer': 'features.0',\n",
       " 'type': <NodeType.MODULE: 0>,\n",
       " 'param': None,\n",
       " 'chunk': None,\n",
       " 'special_merge': None}"
      ]
     },
     "execution_count": 14,
     "metadata": {},
     "output_type": "execute_result"
    },
    {
     "ename": "",
     "evalue": "",
     "output_type": "error",
     "traceback": [
      "\u001b[1;31mThe Kernel crashed while executing code in the current cell or a previous cell. \n",
      "\u001b[1;31mPlease review the code in the cell(s) to identify a possible cause of the failure. \n",
      "\u001b[1;31mClick <a href='https://aka.ms/vscodeJupyterKernelCrash'>here</a> for more info. \n",
      "\u001b[1;31mView Jupyter <a href='command:jupyter.viewOutput'>log</a> for further details."
     ]
    }
   ],
   "source": [
    "graph_1.G.nodes[1]"
   ]
  },
  {
   "cell_type": "markdown",
   "metadata": {},
   "source": [
    "check the number of parameters"
   ]
  },
  {
   "cell_type": "code",
   "execution_count": 35,
   "metadata": {},
   "outputs": [
    {
     "name": "stdout",
     "output_type": "stream",
     "text": [
      "features.0: 0.012174063565188102%\n",
      "features.2: 0.2508726670397691%\n",
      "features.5: 0.5017453340795383%\n",
      "features.7: 1.0026210921901344%\n",
      "features.10: 2.005242184380269%\n",
      "features.12: 4.008745216822654%\n",
      "features.14: 4.008745216822654%\n",
      "features.17: 8.017490433645309%\n",
      "features.19: 16.031502563414847%\n",
      "features.21: 16.031502563414847%\n",
      "features.24: 16.031502563414847%\n",
      "features.26: 16.031502563414847%\n",
      "features.28: 16.031502563414847%\n",
      "classifier.0: 0.034850974380253884%\n"
     ]
    }
   ],
   "source": [
    "# 打印每一层的weight和bias假期里占模型所有参数的百分比, model_1\n",
    "\n",
    "total_params = sum(p.numel() for p in model_1.parameters())\n",
    "cur_params = 0\n",
    "for name, param in model_1.named_parameters():\n",
    "    if 'weight' in name:\n",
    "        cur_params += param.numel()\n",
    "    if 'bias' in name:\n",
    "        cur_params += param.numel()\n",
    "        print(f\"{'.'.join(name.split('.')[:-1])}: {cur_params/total_params*100}%\")\n",
    "        cur_params = 0"
   ]
  },
  {
   "cell_type": "markdown",
   "metadata": {},
   "source": [
    "## understand the code"
   ]
  },
  {
   "cell_type": "code",
   "execution_count": 1,
   "metadata": {},
   "outputs": [],
   "source": [
    "import os\n",
    "import torch\n",
    "import random\n",
    "\n",
    "from copy import deepcopy\n",
    "from tqdm.auto import tqdm\n",
    "import numpy as np\n",
    "\n",
    "from utils import *\n",
    "from model_merger import ModelMerge"
   ]
  },
  {
   "cell_type": "code",
   "execution_count": 2,
   "metadata": {},
   "outputs": [],
   "source": [
    "config_name = 'cifar10_my_vgg16'\n",
    "skip_pair_idxs = []\n",
    "merging_fns = [\n",
    "    'match_tensors_permute',\n",
    "    # 'match_tensors_identity',\n",
    "]\n",
    "\n",
    "stop_at = None\n",
    "\n",
    "device = 'cuda' if torch.cuda.is_available() else 'cpu'\n",
    "raw_config = get_config_from_name(config_name, device=device)  # 返回config文件中的字典，添加了一个device键值对\n",
    "\n",
    "csv_file = os.path.join(\n",
    "    './csvs',\n",
    "    raw_config['dataset']['name'],\n",
    "    raw_config['model']['name'],\n",
    "    raw_config['eval_type'],\n",
    "    'auxiliary_functions.csv'\n",
    ")\n",
    "os.makedirs(os.path.dirname(csv_file), exist_ok=True)"
   ]
  },
  {
   "cell_type": "code",
   "execution_count": 3,
   "metadata": {},
   "outputs": [],
   "source": [
    "prefix_nodes = [3, 6, 10, 13, 17, 20, 23, 27, 30, 33, 37, 40, 43]\n",
    "\n",
    "cur_config = deepcopy(raw_config)\n",
    "\n",
    "start_at = prefix_nodes[3]\n",
    "stop_at = None\n",
    "\n",
    "merging_fn = 'match_tensors_permute'"
   ]
  },
  {
   "cell_type": "code",
   "execution_count": 4,
   "metadata": {},
   "outputs": [
    {
     "name": "stdout",
     "output_type": "stream",
     "text": [
      "Files already downloaded and verified\n",
      "Files already downloaded and verified\n"
     ]
    },
    {
     "data": {
      "application/vnd.jupyter.widget-view+json": {
       "model_id": "e561e5adc806444cbb0d83b53b32fbc9",
       "version_major": 2,
       "version_minor": 0
      },
      "text/plain": [
       "Preparing Models:   0%|          | 0/2 [00:00<?, ?it/s]"
      ]
     },
     "metadata": {},
     "output_type": "display_data"
    }
   ],
   "source": [
    "config = prepare_experiment_config(cur_config)\n",
    "train_loader = config['data']['train']['full']\n",
    "base_models = [reset_bn_stats(base_model, train_loader) for base_model in config['models']['bases']]\n",
    "\n",
    "Grapher = config['graph']\n",
    "graphs = [Grapher(deepcopy(base_model)).graphify() for base_model in base_models]\n",
    "Merge = ModelMerge(*graphs, device=device)"
   ]
  },
  {
   "cell_type": "code",
   "execution_count": 5,
   "metadata": {},
   "outputs": [
    {
     "data": {
      "application/vnd.jupyter.widget-view+json": {
       "model_id": "9531635e1bc843a69c29738426ad0143",
       "version_major": 2,
       "version_minor": 0
      },
      "text/plain": [
       "Forward Pass to Compute Merge Metrics:   0%|          | 0/391 [00:00<?, ?it/s]"
      ]
     },
     "metadata": {},
     "output_type": "display_data"
    },
    {
     "data": {
      "application/vnd.jupyter.widget-view+json": {
       "model_id": "7b3462d96c3d4dd4bfac1e8c59407824",
       "version_major": 2,
       "version_minor": 0
      },
      "text/plain": [
       "Computing transformations:   0%|          | 0/13 [00:00<?, ?it/s]"
      ]
     },
     "metadata": {},
     "output_type": "display_data"
    }
   ],
   "source": [
    "Merge.transform(\n",
    "    deepcopy(config['models']['new']), \n",
    "    train_loader, \n",
    "    transform_fn=get_merging_fn(merging_fn),\n",
    "    metric_classes=config['metric_fns'],\n",
    "    stop_at=stop_at,\n",
    "    start_at=start_at\n",
    ")"
   ]
  },
  {
   "cell_type": "code",
   "execution_count": null,
   "metadata": {},
   "outputs": [
    {
     "data": {
      "application/vnd.jupyter.widget-view+json": {
       "model_id": "f373a636b25c4b4c8fdc0be7c5d640c7",
       "version_major": 2,
       "version_minor": 0
      },
      "text/plain": [
       "Forward Pass to Compute Merge Metrics:   0%|          | 0/391 [00:00<?, ?it/s]"
      ]
     },
     "metadata": {},
     "output_type": "display_data"
    },
    {
     "data": {
      "application/vnd.jupyter.widget-view+json": {
       "model_id": "0f72c0a0d9e947e7a0f9539e42a777a3",
       "version_major": 2,
       "version_minor": 0
      },
      "text/plain": [
       "Computing transformations:   0%|          | 0/13 [00:00<?, ?it/s]"
      ]
     },
     "metadata": {},
     "output_type": "display_data"
    }
   ],
   "source": [
    "# Merge.stop_at = stop_at\n",
    "# Merge.start_at = start_at\n",
    "# model = deepcopy(config['models']['new'])\n",
    "# Merge.merged_model = model.to(Merge.device)\n",
    "\n",
    "# metric_classes=config['metric_fns']\n",
    "# if not isinstance(metric_classes, dict):\n",
    "#     metric_classes = { x.name: x for x in metric_classes }\n",
    "\n",
    "# Merge.metric_classes = metric_classes\n",
    "# transform_fn=get_merging_fn(merging_fn)\n",
    "# Merge.transform_fn = transform_fn\n",
    "# Merge.prune_threshold = 1.0\n",
    "\n",
    "# if not isinstance(metric_classes, dict):\n",
    "#     metric_classes = { x.name: x for x in metric_classes }\n",
    "# prune_threshold = 1.0\n",
    "\n",
    "# Merge.compute_metrics(train_loader, metric_classes=metric_classes)\n",
    "# Merge.compute_transformations(transform_fn,\n",
    "#                             reduce_ratio=1 - 1. / len(Merge.graphs),\n",
    "#                             prune_threshold=prune_threshold,\n",
    "#                             start_at=start_at,\n",
    "#                             stop_at=stop_at\n",
    "#                             )\n",
    "# Merge.apply_transformations()\n",
    "\n",
    "# Merge.add_hooks()"
   ]
  },
  {
   "cell_type": "code",
   "execution_count": null,
   "metadata": {},
   "outputs": [],
   "source": [
    "# from model_merger import MergedModelStop\n",
    "# import types\n",
    "\n",
    "\n",
    "# def forward(self, x, cat_dim=None, start_idx=None):\n",
    "#     \"\"\" Evaluate the combined model. \"\"\"\n",
    "#     if self.start_at is not None:\n",
    "#         start_val = defaultdict(lambda: 0)\n",
    "#         total = 0\n",
    "\n",
    "#         for idx, model in enumerate(self.start_at_models):\n",
    "#             if start_idx is not None and idx != start_idx:\n",
    "#                 continue\n",
    "\n",
    "#             try:\n",
    "#                 model(x)\n",
    "#             except MergedModelStop as e:\n",
    "#                 for k, v in e.x.items():\n",
    "#                     start_val[k] = start_val[k] + v\n",
    "#                 total += 1\n",
    "        \n",
    "#         self.start_at_ptr.clear()\n",
    "#         for k, v in start_val.items():\n",
    "#             self.start_at_ptr[k] = v / total / len(self.graphs)\n",
    "#         x = x[0, None].detach()\n",
    "        \n",
    "        \n",
    "    \n",
    "#     # try:\n",
    "#     # print(\"shape of x\", x.shape)\n",
    "#     out = self.merged_model(x)\n",
    "#     # print(\"shape of out\", out.shape)\n",
    "#         # print(out)\n",
    "#     return out\n",
    "#     # except MergedModelStop as e:\n",
    "#     #     self.stop_at_ptr[0] = e.x[0]\n",
    "\n",
    "#     #     dummy_x = x[0, None].detach()\n",
    "#     #     out = []\n",
    "#     #     for idx, model in enumerate(self.head_models):\n",
    "#     #         out.append(model(dummy_x))\n",
    "\n",
    "#     #     self.stop_at_ptr[0] = None\n",
    "        \n",
    "#     #     if cat_dim is not None:\n",
    "#     #         out = torch.cat(out, dim=cat_dim)\n",
    "        \n",
    "#     #     return out\n",
    "\n",
    "# setattr(Merge, 'forward', types.MethodType(forward, Merge))"
   ]
  },
  {
   "cell_type": "code",
   "execution_count": null,
   "metadata": {},
   "outputs": [],
   "source": [
    "# class MergeHandler:\n",
    "#     \"\"\" \n",
    "#     Handles all (un)merge transformations on top of a graph architecture. merge/unmerge is a dict whose \n",
    "#     keys are graph nodes and values are merges/unmerges to be applied at the graph node.\n",
    "#     \"\"\"\n",
    "#     def __init__(self, graph, merge, unmerge):\n",
    "#         self.graph = graph\n",
    "#         # (Un)Merge instructions for different kinds of module layers.\n",
    "#         self.module_handlers = {\n",
    "#             'BatchNorm2d': self.handle_batchnorm2d,\n",
    "#             'Conv2d': self.handle_conv2d,\n",
    "#             'Linear': self.handle_linear,\n",
    "#             'LayerNorm': self.handle_layernorm,\n",
    "#             'GELU': self.handle_fn,\n",
    "#             'AdaptiveAvgPool2d': self.handle_fn,\n",
    "#             'LeakyReLU': self.handle_fn,\n",
    "#             'ReLU': self.handle_fn,\n",
    "#             'Tanh': self.handle_fn,\n",
    "#             'MaxPool2d': self.handle_fn,\n",
    "#             'AvgPool2d': self.handle_fn,\n",
    "#              'SpaceInterceptor': self.handle_linear,\n",
    "#              'Identity': self.handle_fn\n",
    "#         }\n",
    "\n",
    "#         self.merge = merge\n",
    "#         self.unmerge = unmerge\n",
    "    \n",
    "#     def handle_batchnorm2d(self, forward, node, module):\n",
    "#         \"\"\" Apply (un)merge operation to batchnorm parameters. \"\"\"\n",
    "#         if forward:\n",
    "#             # Forward will always be called on a batchnorm, but backward might not be called\n",
    "#             # So merge the batch norm here.\n",
    "#             for parameter_name in ['weight', 'bias', 'running_mean', 'running_var']:\n",
    "#                 parameter = getattr(module, parameter_name)\n",
    "#                 merge = self.merge if parameter_name != 'running_var' else self.merge # ** 2\n",
    "#                 parameter.data = merge @ parameter\n",
    "            \n",
    "#             for succ in self.graph.succs(node):\n",
    "#                 self.prop_forward(succ)\n",
    "#         else:\n",
    "#             assert len(self.graph.preds(node)) == 1, 'BN expects one predecessor'\n",
    "#             self.prop_back(self.graph.preds(node)[0])\n",
    "    \n",
    "#     def handle_layernorm(self, forward, node, module):\n",
    "#         \"\"\" Apply (un)merge operation to layernorm parameters. \"\"\"\n",
    "#         if forward:\n",
    "#             # Forward will always be called on a norm, so merge here\n",
    "#             parameter_names = ['weight', 'bias']\n",
    "#             for parameter_name in parameter_names:\n",
    "#                 parameter = getattr(module, parameter_name)\n",
    "#                 parameter.data = self.merge @ parameter\n",
    "            \n",
    "#             for succ in self.graph.succs(node):\n",
    "#                 self.prop_forward(succ)\n",
    "#         else:\n",
    "#             assert len(self.graph.preds(node)) == 1, 'LN expects one predecessor'\n",
    "#             self.prop_back(self.graph.preds(node)[0])\n",
    "\n",
    "#     def handle_fn(self, forward, node, module):\n",
    "#         \"\"\" Apply (un)merge operation to parameterless layers. \"\"\"\n",
    "#         if forward:\n",
    "#             for succ in self.graph.succs(node):\n",
    "#                 self.prop_forward(succ)\n",
    "#         else:\n",
    "#             assert len(self.graph.preds(node)) == 1, 'Function node expects one predecessor'\n",
    "#             self.prop_back(self.graph.preds(node)[0])\n",
    "\n",
    "#     def handle_conv2d(self, forward, node, module):\n",
    "#         \"\"\" Apply (un)merge operation to linear layer parameters. \"\"\"\n",
    "#         if forward: # unmerge\n",
    "#             try:\n",
    "#                 module.weight.data = torch.einsum('OIHW,IU->OUHW', module.weight, self.unmerge)\n",
    "#             except:\n",
    "#                 pdb.set_trace()\n",
    "#         else: # merge\n",
    "#             try:\n",
    "#                 print(f'handle conv2d, node {node}')\n",
    "#                 module.weight.data = torch.einsum('UO,OIHW->UIHW', self.merge, module.weight)\n",
    "#             except:\n",
    "#                 pdb.set_trace()\n",
    "#             if hasattr(module, 'bias') and module.bias is not None:\n",
    "#                 module.bias.data = self.merge @ module.bias\n",
    "    \n",
    "#     def handle_linear(self, forward, node, module):\n",
    "#         \"\"\" Apply (un)merge operation to linear layer parameters. \"\"\"\n",
    "#         if forward: # unmerge\n",
    "#             module.weight.data = module.weight @ self.unmerge\n",
    "#         else:\n",
    "#             info = self.graph.get_node_info(node)\n",
    "\n",
    "#             lower = 0\n",
    "#             upper = module.weight.shape[0]\n",
    "\n",
    "#             if info['chunk'] is not None:\n",
    "#                 idx, num_chunks = info['chunk']\n",
    "#                 chunk_size = upper // num_chunks\n",
    "\n",
    "#                 lower = idx * chunk_size\n",
    "#                 upper = (idx+1) * chunk_size\n",
    "\n",
    "#             module.weight.data[lower:upper] = self.merge @ module.weight[lower:upper]\n",
    "#             if hasattr(module, 'bias') and module.bias is not None:\n",
    "#                 module.bias.data[lower:upper] = self.merge @ module.bias[lower:upper]\n",
    "\n",
    "#     def prop_back(self, node):\n",
    "#         \"\"\" Propogate (un)merge metrics backwards through a node graph. \"\"\"\n",
    "#         if node in self.graph.merged:\n",
    "#             return\n",
    "        \n",
    "#         info = self.graph.get_node_info(node)\n",
    "#         print(f'add {node} to merged')\n",
    "#         self.graph.merged.add(node)\n",
    "        \n",
    "#         for succ in self.graph.succs(node):\n",
    "#             self.prop_forward(succ)\n",
    "        \n",
    "#         if info['type'] in (NodeType.OUTPUT, NodeType.INPUT):\n",
    "#             raise RuntimeError(f'Unexpectedly reached node type {info[\"type\"]} when merging.')\n",
    "#         elif info['type'] == NodeType.CONCAT:\n",
    "#             # Also this only works if you concat the same size things together\n",
    "#             merge = self.merge.chunk(len(self.graph.preds(node)), dim=1)\n",
    "#             for pred, m in zip(self.graph.preds(node), merge):\n",
    "#                 MergeHandler(self.graph, m, self.unmerge).prop_back(pred)\n",
    "#         elif info['type'] == NodeType.MODULE:\n",
    "#             module = self.graph.get_module(info['layer'])\n",
    "#             # try:\n",
    "#             self.module_handlers[module.__class__.__name__](False, node, module)\n",
    "#             # except:\n",
    "#             #     pdb.set_trace()\n",
    "#         elif info['type'] == NodeType.EMBEDDING:\n",
    "#             param = self.graph.get_parameter(info['param'])\n",
    "#             self.handle_embedding(False, node, param)\n",
    "#         else:\n",
    "#             # Default case (also for SUM)\n",
    "#             for pred in self.graph.preds(node):\n",
    "#                 self.prop_back(pred)\n",
    "    \n",
    "#     def prop_forward(self, node):\n",
    "#         \"\"\" Propogate (un)merge transformations up a network graph. \"\"\"\n",
    "#         if node in self.graph.unmerged:\n",
    "#             return\n",
    "        \n",
    "#         info = self.graph.get_node_info(node)\n",
    "#         self.graph.unmerged.add(node)\n",
    "        \n",
    "#         if info['type'] in (NodeType.OUTPUT, NodeType.INPUT):\n",
    "#             raise RuntimeError(f'Unexpectedly reached node type {info[\"type\"]} when unmerging.')\n",
    "#         elif info['type'] == NodeType.MODULE:\n",
    "#             module = self.graph.get_module(info['layer'])\n",
    "#             self.module_handlers[module.__class__.__name__](True, node, module)\n",
    "#         elif info['type'] == NodeType.SUM:\n",
    "#             for succ in self.graph.succs(node):\n",
    "#                 self.prop_forward(succ)\n",
    "#             for pred in self.graph.preds(node):\n",
    "#                 self.prop_back(pred)\n",
    "#         elif info['type'] == NodeType.CONCAT:\n",
    "#             # let's make the assumption that this node is reached in the correct order\n",
    "#             num_to_concat = len(self.graph.preds(node))\n",
    "\n",
    "#             if node not in self.graph.working_info:\n",
    "#                 self.graph.working_info[node] = []\n",
    "#             self.graph.working_info[node].append(self.unmerge)\n",
    "            \n",
    "#             if len(self.graph.working_info[node]) < num_to_concat:\n",
    "#                 # haven't collected all the info yet, don't finish the unmerge\n",
    "#                 self.graph.unmerged.remove(node)\n",
    "#             else:\n",
    "#                 # finally, we're finished\n",
    "#                 unmerge = torch.block_diag(*self.graph.working_info[node])\n",
    "#                 del self.graph.working_info[node]\n",
    "\n",
    "#                 # be free my little unmerge\n",
    "#                 new_handler = MergeHandler(self.graph, self.merge, unmerge)\n",
    "#                 for succ in self.graph.succs(node):\n",
    "#                     new_handler.prop_forward(succ)"
   ]
  },
  {
   "cell_type": "code",
   "execution_count": null,
   "metadata": {},
   "outputs": [
    {
     "name": "stdout",
     "output_type": "stream",
     "text": [
      "10\n",
      "add 10 to merged\n",
      "add 9 to merged\n",
      "add 8 to merged\n",
      "add 10 to merged\n",
      "add 9 to merged\n",
      "add 8 to merged\n",
      "13\n",
      "add 13 to merged\n",
      "add 12 to merged\n",
      "add 11 to merged\n",
      "add 13 to merged\n",
      "add 12 to merged\n",
      "add 11 to merged\n",
      "17\n",
      "add 17 to merged\n",
      "add 16 to merged\n",
      "add 15 to merged\n",
      "add 17 to merged\n",
      "add 16 to merged\n",
      "add 15 to merged\n",
      "20\n",
      "add 20 to merged\n",
      "add 19 to merged\n",
      "add 18 to merged\n",
      "add 20 to merged\n",
      "add 19 to merged\n",
      "add 18 to merged\n",
      "23\n",
      "add 23 to merged\n",
      "add 22 to merged\n",
      "add 21 to merged\n",
      "add 23 to merged\n",
      "add 22 to merged\n",
      "add 21 to merged\n",
      "27\n",
      "add 27 to merged\n",
      "add 26 to merged\n",
      "add 25 to merged\n",
      "add 27 to merged\n",
      "add 26 to merged\n",
      "add 25 to merged\n",
      "30\n",
      "add 30 to merged\n",
      "add 29 to merged\n",
      "add 28 to merged\n",
      "add 30 to merged\n",
      "add 29 to merged\n",
      "add 28 to merged\n",
      "33\n",
      "add 33 to merged\n",
      "add 32 to merged\n",
      "add 31 to merged\n",
      "add 33 to merged\n",
      "add 32 to merged\n",
      "add 31 to merged\n",
      "37\n",
      "add 37 to merged\n",
      "add 36 to merged\n",
      "add 35 to merged\n",
      "add 37 to merged\n",
      "add 36 to merged\n",
      "add 35 to merged\n",
      "40\n",
      "add 40 to merged\n",
      "add 39 to merged\n",
      "add 38 to merged\n",
      "add 40 to merged\n",
      "add 39 to merged\n",
      "add 38 to merged\n",
      "43\n",
      "add 43 to merged\n",
      "add 42 to merged\n",
      "add 41 to merged\n",
      "add 43 to merged\n",
      "add 42 to merged\n",
      "add 41 to merged\n"
     ]
    }
   ],
   "source": [
    "\n",
    "# from model_merger import MergeHandler\n",
    "\n",
    "# from graphs.base_graph import NodeType\n",
    "# for node in Merge.merges:\n",
    "#     print(node)\n",
    "#     merges = Merge.merges[node]\n",
    "#     unmerges = Merge.unmerges[node]\n",
    "#     for merge, unmerge, graph in zip(merges, unmerges, Merge.graphs):\n",
    "#         merger = MergeHandler(graph, merge, unmerge)\n",
    "#         merger.prop_back(node)"
   ]
  },
  {
   "cell_type": "code",
   "execution_count": 6,
   "metadata": {},
   "outputs": [
    {
     "data": {
      "application/vnd.jupyter.widget-view+json": {
       "model_id": "673cfd0c960c4481af7187a5fc998e62",
       "version_major": 2,
       "version_minor": 0
      },
      "text/plain": [
       "Evaluating classification model:   0%|          | 0/79 [00:00<?, ?it/s]"
      ]
     },
     "metadata": {},
     "output_type": "display_data"
    },
    {
     "data": {
      "text/plain": [
       "{'Accuracy': 0.5481}"
      ]
     },
     "execution_count": 6,
     "metadata": {},
     "output_type": "execute_result"
    }
   ],
   "source": [
    "evaluate_model(cur_config['eval_type'], Merge, config)"
   ]
  },
  {
   "cell_type": "markdown",
   "metadata": {},
   "source": [
    "#### How does the final model run?"
   ]
  },
  {
   "cell_type": "code",
   "execution_count": 8,
   "metadata": {},
   "outputs": [],
   "source": [
    "from models import my_vgg\n",
    "\n",
    "merged_model = my_vgg.my_vgg16()\n",
    "merged_sd = Merge.get_merged_state_dict()\n",
    "merged_model.load_state_dict(merged_sd)\n",
    "merged_model = merged_model.to(device)"
   ]
  },
  {
   "cell_type": "code",
   "execution_count": 9,
   "metadata": {},
   "outputs": [],
   "source": [
    "test_loader = config['data']['test']['full']\n",
    "criterion = torch.nn.CrossEntropyLoss()"
   ]
  },
  {
   "cell_type": "code",
   "execution_count": 10,
   "metadata": {},
   "outputs": [
    {
     "name": "stdout",
     "output_type": "stream",
     "text": [
      "Accuracy of the network on the 10000 test images: 54 \n"
     ]
    }
   ],
   "source": [
    "total = 0\n",
    "correct = 0\n",
    "\n",
    "with torch.no_grad():\n",
    "    for data in test_loader:\n",
    "        images, labels = data\n",
    "        images = images.to(device)\n",
    "        labels = labels.to(device)\n",
    "        images = images\n",
    "        outputs = Merge(images)\n",
    "        _, predicted = torch.max(outputs, 1)\n",
    "        total += labels.size(0)\n",
    "        correct += (predicted == labels).sum().item()\n",
    "print('Accuracy of the network on the 10000 test images: %d ' % (100 * correct / total))"
   ]
  },
  {
   "cell_type": "code",
   "execution_count": 11,
   "metadata": {},
   "outputs": [],
   "source": [
    "prefix_nodes = [3, 6, 10, 13, 17, 20, 23, 27, 30, 33, 37, 40, 43]"
   ]
  },
  {
   "cell_type": "code",
   "execution_count": 12,
   "metadata": {},
   "outputs": [],
   "source": [
    "def partial_zip_model(x, start_at_models, merged_model, nodes, merge_node):\n",
    "    merge_node_id = int(nodes[merge_node]['layer'].split('.')[-1])\n",
    "    coefs = [1/len(start_at_models)] * len(start_at_models)\n",
    "    unzip_output = None\n",
    "    for i, start_at_model in enumerate(start_at_models):\n",
    "        if unzip_output is None:\n",
    "            unzip_output = start_at_model.features[:merge_node_id+1](x) * coefs[i]\n",
    "        else:\n",
    "            unzip_output += start_at_model.features[:merge_node_id+1](x) * coefs[i]\n",
    "    zip_conv_output = merged_model.features[merge_node_id+1:](unzip_output)\n",
    "    \n",
    "    out = merged_model.avgpool(zip_conv_output)\n",
    "    out = torch.flatten(out, 1)\n",
    "    out = merged_model.classifier(out)\n",
    "    return out"
   ]
  },
  {
   "cell_type": "code",
   "execution_count": 15,
   "metadata": {},
   "outputs": [
    {
     "data": {
      "text/plain": [
       "11"
      ]
     },
     "execution_count": 15,
     "metadata": {},
     "output_type": "execute_result"
    }
   ],
   "source": [
    "list(Merge.graphs[0].merged)[0]"
   ]
  },
  {
   "cell_type": "code",
   "execution_count": 36,
   "metadata": {},
   "outputs": [
    {
     "name": "stdout",
     "output_type": "stream",
     "text": [
      "Accuracy of the network on the 10000 test images: 70.81 \n"
     ]
    }
   ],
   "source": [
    "Merge.clear_hooks()\n",
    "\n",
    "# validate\n",
    "correct = 0\n",
    "total = 0\n",
    "nodes = graphs[0].G.nodes\n",
    "merge_node = list(Merge.graphs[0].merged)[0]\n",
    "# merge_node = prefix_nodes[3]-2\n",
    "# start_at = 40\n",
    "\n",
    "with torch.no_grad():\n",
    "    for data in test_loader:\n",
    "        images, labels = data\n",
    "        images = images.to(device)\n",
    "        labels = labels.to(device)\n",
    "        outputs = partial_zip_model(images, Merge.start_at_models, merged_model, nodes, merge_node)\n",
    "        _, predicted = torch.max(outputs, 1)\n",
    "        total += labels.size(0)\n",
    "        correct += (predicted == labels).sum().item()\n",
    "print('Accuracy of the network on the 10000 test images: {} '.format(100 * correct / total))"
   ]
  },
  {
   "cell_type": "code",
   "execution_count": 102,
   "metadata": {},
   "outputs": [
    {
     "name": "stdout",
     "output_type": "stream",
     "text": [
      "Accuracy of the network on the 10000 test images: 70 \n"
     ]
    }
   ],
   "source": [
    "Merge.clear_hooks()\n",
    "\n",
    "# validate\n",
    "correct = 0\n",
    "total = 0\n",
    "nodes = graphs[0].G.nodes\n",
    "merge_node = list(Merge.graphs[0].merged)[0]\n",
    "# start_at = 40\n",
    "\n",
    "with torch.no_grad():\n",
    "    for data in test_loader:\n",
    "        images, labels = data\n",
    "        images = images.to(device)\n",
    "        labels = labels.to(device)\n",
    "        outputs = partial_zip_model(images, Merge.start_at_models, merged_model, nodes, merge_node)\n",
    "        _, predicted = torch.max(outputs, 1)\n",
    "        total += labels.size(0)\n",
    "        correct += (predicted == labels).sum().item()\n",
    "print('Accuracy of the network on the 10000 test images: %d ' % (100 * correct / total))"
   ]
  },
  {
   "cell_type": "markdown",
   "metadata": {},
   "source": [
    "## Unzipping early layers"
   ]
  },
  {
   "cell_type": "code",
   "execution_count": 20,
   "metadata": {},
   "outputs": [
    {
     "name": "stdout",
     "output_type": "stream",
     "text": [
      "Files already downloaded and verified\n",
      "Files already downloaded and verified\n"
     ]
    },
    {
     "data": {
      "application/vnd.jupyter.widget-view+json": {
       "model_id": "186b53452b37418b86b2ddcf4c95b6dd",
       "version_major": 2,
       "version_minor": 0
      },
      "text/plain": [
       "Preparing Models:   0%|          | 0/2 [00:00<?, ?it/s]"
      ]
     },
     "metadata": {},
     "output_type": "display_data"
    },
    {
     "data": {
      "application/vnd.jupyter.widget-view+json": {
       "model_id": "ec0a016d5626451a81f36ee9b3347764",
       "version_major": 2,
       "version_minor": 0
      },
      "text/plain": [
       "Resetting batch norm:   0%|          | 0/391 [00:00<?, ?it/s]"
      ]
     },
     "metadata": {},
     "output_type": "display_data"
    },
    {
     "data": {
      "application/vnd.jupyter.widget-view+json": {
       "model_id": "d94ba0064c19499e91a513775bb11015",
       "version_major": 2,
       "version_minor": 0
      },
      "text/plain": [
       "Resetting batch norm:   0%|          | 0/391 [00:00<?, ?it/s]"
      ]
     },
     "metadata": {},
     "output_type": "display_data"
    }
   ],
   "source": [
    "\n",
    "import os\n",
    "import torch\n",
    "import random\n",
    "\n",
    "from copy import deepcopy\n",
    "from tqdm.auto import tqdm\n",
    "import numpy as np\n",
    "\n",
    "from utils import *\n",
    "from model_merger import ModelMerge\n",
    "\n",
    "def validate(model, testloader, criterion, device):\n",
    "    model.eval()\n",
    "    correct = 0\n",
    "    total = 0\n",
    "    loss_sum = 0\n",
    "\n",
    "    with torch.no_grad():\n",
    "        for data in testloader:\n",
    "            images, labels = data\n",
    "            images = images.to(device)\n",
    "            labels = labels.to(device)\n",
    "            outputs = model(images)\n",
    "            loss = criterion(outputs, labels)\n",
    "            loss_sum += loss.item()\n",
    "            _, predicted = torch.max(outputs, 1)\n",
    "            total += labels.size(0)\n",
    "            correct += (predicted == labels).sum().item()\n",
    "    print('Accuracy of the network on the 10000 test images: %d ' % (100 * correct / total))\n",
    "    return loss_sum / total, correct / total\n",
    "\n",
    "config_name = 'cifar10_my_vgg16_bn'\n",
    "\n",
    "device = 'cuda' if torch.cuda.is_available() else 'cpu'\n",
    "raw_config = get_config_from_name(config_name, device=device)  # 返回config文件中的字典，添加了一个device键值对\n",
    "cur_config = deepcopy(raw_config)\n",
    "config = prepare_experiment_config(cur_config)\n",
    "\n",
    "train_loader = config['data']['train']['full']\n",
    "test_loader = config['data']['test']['full']\n",
    "\n",
    "base_models = [reset_bn_stats(base_model, train_loader) for base_model in config['models']['bases']]\n",
    "Grapher = config['graph']\n",
    "merging_fn = 'match_tensors_permute'\n",
    "# merging_fn = 'match_tensors_zipit'\n",
    "\n",
    "criterion = torch.nn.CrossEntropyLoss()"
   ]
  },
  {
   "cell_type": "code",
   "execution_count": 21,
   "metadata": {},
   "outputs": [
    {
     "data": {
      "text/plain": [
       "[4, 8, 13, 17, 22, 26, 30, 35, 39, 43, 48, 52, 56]"
      ]
     },
     "execution_count": 21,
     "metadata": {},
     "output_type": "execute_result"
    }
   ],
   "source": [
    "# get prefix nodes\n",
    "from graphs.base_graph import NodeType\n",
    "\n",
    "graph = Grapher(deepcopy(base_models[0])).graphify().G\n",
    "prefix_nodes = []\n",
    "for node in graph.nodes:\n",
    "    info = graph.nodes[node]\n",
    "    if info['type'] == NodeType.PREFIX:\n",
    "        prefix_nodes.append(node)\n",
    "prefix_nodes\n",
    "\n",
    "# prefix_nodes = [3, 6, 10, 13, 17, 20, 23, 27, 30, 33, 37, 40, 43]"
   ]
  },
  {
   "cell_type": "code",
   "execution_count": 26,
   "metadata": {},
   "outputs": [
    {
     "data": {
      "application/vnd.jupyter.widget-view+json": {
       "model_id": "2c8f9ba83f9345afb16cddcfa3ed9d6a",
       "version_major": 2,
       "version_minor": 0
      },
      "text/plain": [
       "Forward Pass to Compute Merge Metrics:   0%|          | 0/391 [00:00<?, ?it/s]"
      ]
     },
     "metadata": {},
     "output_type": "display_data"
    },
    {
     "data": {
      "application/vnd.jupyter.widget-view+json": {
       "model_id": "b7927d4dff2e4b3b85acb608f763342e",
       "version_major": 2,
       "version_minor": 0
      },
      "text/plain": [
       "Computing transformations:   0%|          | 0/13 [00:00<?, ?it/s]"
      ]
     },
     "metadata": {},
     "output_type": "display_data"
    },
    {
     "data": {
      "application/vnd.jupyter.widget-view+json": {
       "model_id": "a094ab109f474b45befc0f08191da4a5",
       "version_major": 2,
       "version_minor": 0
      },
      "text/plain": [
       "Resetting batch norm:   0%|          | 0/391 [00:00<?, ?it/s]"
      ]
     },
     "metadata": {},
     "output_type": "display_data"
    },
    {
     "data": {
      "text/plain": [
       "ModelMerge(\n",
       "  (head_models): ModuleList(\n",
       "    (0-1): 2 x VGG_BN(\n",
       "      (features): Sequential(\n",
       "        (0): Conv2d(3, 64, kernel_size=(3, 3), stride=(1, 1), padding=(1, 1))\n",
       "        (1): BatchNorm2d(64, eps=1e-05, momentum=None, affine=True, track_running_stats=True)\n",
       "        (2): ReLU(inplace=True)\n",
       "        (3): Conv2d(64, 64, kernel_size=(3, 3), stride=(1, 1), padding=(1, 1))\n",
       "        (4): BatchNorm2d(64, eps=1e-05, momentum=None, affine=True, track_running_stats=True)\n",
       "        (5): ReLU(inplace=True)\n",
       "        (6): MaxPool2d(kernel_size=2, stride=2, padding=0, dilation=1, ceil_mode=False)\n",
       "        (7): Conv2d(64, 128, kernel_size=(3, 3), stride=(1, 1), padding=(1, 1))\n",
       "        (8): BatchNorm2d(128, eps=1e-05, momentum=None, affine=True, track_running_stats=True)\n",
       "        (9): ReLU(inplace=True)\n",
       "        (10): Conv2d(128, 128, kernel_size=(3, 3), stride=(1, 1), padding=(1, 1))\n",
       "        (11): BatchNorm2d(128, eps=1e-05, momentum=None, affine=True, track_running_stats=True)\n",
       "        (12): ReLU(inplace=True)\n",
       "        (13): MaxPool2d(kernel_size=2, stride=2, padding=0, dilation=1, ceil_mode=False)\n",
       "        (14): Conv2d(128, 256, kernel_size=(3, 3), stride=(1, 1), padding=(1, 1))\n",
       "        (15): BatchNorm2d(256, eps=1e-05, momentum=None, affine=True, track_running_stats=True)\n",
       "        (16): ReLU(inplace=True)\n",
       "        (17): Conv2d(256, 256, kernel_size=(3, 3), stride=(1, 1), padding=(1, 1))\n",
       "        (18): BatchNorm2d(256, eps=1e-05, momentum=None, affine=True, track_running_stats=True)\n",
       "        (19): ReLU(inplace=True)\n",
       "        (20): Conv2d(256, 256, kernel_size=(3, 3), stride=(1, 1), padding=(1, 1))\n",
       "        (21): BatchNorm2d(256, eps=1e-05, momentum=None, affine=True, track_running_stats=True)\n",
       "        (22): ReLU(inplace=True)\n",
       "        (23): MaxPool2d(kernel_size=2, stride=2, padding=0, dilation=1, ceil_mode=False)\n",
       "        (24): Conv2d(256, 512, kernel_size=(3, 3), stride=(1, 1), padding=(1, 1))\n",
       "        (25): BatchNorm2d(512, eps=1e-05, momentum=None, affine=True, track_running_stats=True)\n",
       "        (26): ReLU(inplace=True)\n",
       "        (27): Conv2d(512, 512, kernel_size=(3, 3), stride=(1, 1), padding=(1, 1))\n",
       "        (28): BatchNorm2d(512, eps=1e-05, momentum=None, affine=True, track_running_stats=True)\n",
       "        (29): ReLU(inplace=True)\n",
       "        (30): Conv2d(512, 512, kernel_size=(3, 3), stride=(1, 1), padding=(1, 1))\n",
       "        (31): BatchNorm2d(512, eps=1e-05, momentum=None, affine=True, track_running_stats=True)\n",
       "        (32): ReLU(inplace=True)\n",
       "        (33): MaxPool2d(kernel_size=2, stride=2, padding=0, dilation=1, ceil_mode=False)\n",
       "        (34): Conv2d(512, 512, kernel_size=(3, 3), stride=(1, 1), padding=(1, 1))\n",
       "        (35): BatchNorm2d(512, eps=1e-05, momentum=None, affine=True, track_running_stats=True)\n",
       "        (36): ReLU(inplace=True)\n",
       "        (37): Conv2d(512, 512, kernel_size=(3, 3), stride=(1, 1), padding=(1, 1))\n",
       "        (38): BatchNorm2d(512, eps=1e-05, momentum=None, affine=True, track_running_stats=True)\n",
       "        (39): ReLU(inplace=True)\n",
       "        (40): Conv2d(512, 512, kernel_size=(3, 3), stride=(1, 1), padding=(1, 1))\n",
       "        (41): BatchNorm2d(512, eps=1e-05, momentum=None, affine=True, track_running_stats=True)\n",
       "        (42): ReLU(inplace=True)\n",
       "      )\n",
       "      (avgpool): AvgPool2d(kernel_size=2, stride=2, padding=0)\n",
       "      (classifier): Sequential(\n",
       "        (0): Linear(in_features=512, out_features=10, bias=True)\n",
       "      )\n",
       "    )\n",
       "  )\n",
       "  (merged_model): VGG_BN(\n",
       "    (features): Sequential(\n",
       "      (0): Conv2d(3, 64, kernel_size=(3, 3), stride=(1, 1), padding=(1, 1))\n",
       "      (1): BatchNorm2d(64, eps=1e-05, momentum=None, affine=True, track_running_stats=True)\n",
       "      (2): ReLU(inplace=True)\n",
       "      (3): Conv2d(64, 64, kernel_size=(3, 3), stride=(1, 1), padding=(1, 1))\n",
       "      (4): BatchNorm2d(64, eps=1e-05, momentum=None, affine=True, track_running_stats=True)\n",
       "      (5): ReLU(inplace=True)\n",
       "      (6): MaxPool2d(kernel_size=2, stride=2, padding=0, dilation=1, ceil_mode=False)\n",
       "      (7): Conv2d(64, 128, kernel_size=(3, 3), stride=(1, 1), padding=(1, 1))\n",
       "      (8): BatchNorm2d(128, eps=1e-05, momentum=None, affine=True, track_running_stats=True)\n",
       "      (9): ReLU(inplace=True)\n",
       "      (10): Conv2d(128, 128, kernel_size=(3, 3), stride=(1, 1), padding=(1, 1))\n",
       "      (11): BatchNorm2d(128, eps=1e-05, momentum=None, affine=True, track_running_stats=True)\n",
       "      (12): ReLU(inplace=True)\n",
       "      (13): MaxPool2d(kernel_size=2, stride=2, padding=0, dilation=1, ceil_mode=False)\n",
       "      (14): Conv2d(128, 256, kernel_size=(3, 3), stride=(1, 1), padding=(1, 1))\n",
       "      (15): BatchNorm2d(256, eps=1e-05, momentum=None, affine=True, track_running_stats=True)\n",
       "      (16): ReLU(inplace=True)\n",
       "      (17): Conv2d(256, 256, kernel_size=(3, 3), stride=(1, 1), padding=(1, 1))\n",
       "      (18): BatchNorm2d(256, eps=1e-05, momentum=None, affine=True, track_running_stats=True)\n",
       "      (19): ReLU(inplace=True)\n",
       "      (20): Conv2d(256, 256, kernel_size=(3, 3), stride=(1, 1), padding=(1, 1))\n",
       "      (21): BatchNorm2d(256, eps=1e-05, momentum=None, affine=True, track_running_stats=True)\n",
       "      (22): ReLU(inplace=True)\n",
       "      (23): MaxPool2d(kernel_size=2, stride=2, padding=0, dilation=1, ceil_mode=False)\n",
       "      (24): Conv2d(256, 512, kernel_size=(3, 3), stride=(1, 1), padding=(1, 1))\n",
       "      (25): BatchNorm2d(512, eps=1e-05, momentum=None, affine=True, track_running_stats=True)\n",
       "      (26): ReLU(inplace=True)\n",
       "      (27): Conv2d(512, 512, kernel_size=(3, 3), stride=(1, 1), padding=(1, 1))\n",
       "      (28): BatchNorm2d(512, eps=1e-05, momentum=None, affine=True, track_running_stats=True)\n",
       "      (29): ReLU(inplace=True)\n",
       "      (30): Conv2d(512, 512, kernel_size=(3, 3), stride=(1, 1), padding=(1, 1))\n",
       "      (31): BatchNorm2d(512, eps=1e-05, momentum=None, affine=True, track_running_stats=True)\n",
       "      (32): ReLU(inplace=True)\n",
       "      (33): MaxPool2d(kernel_size=2, stride=2, padding=0, dilation=1, ceil_mode=False)\n",
       "      (34): Conv2d(512, 512, kernel_size=(3, 3), stride=(1, 1), padding=(1, 1))\n",
       "      (35): BatchNorm2d(512, eps=1e-05, momentum=None, affine=True, track_running_stats=True)\n",
       "      (36): ReLU(inplace=True)\n",
       "      (37): Conv2d(512, 512, kernel_size=(3, 3), stride=(1, 1), padding=(1, 1))\n",
       "      (38): BatchNorm2d(512, eps=1e-05, momentum=None, affine=True, track_running_stats=True)\n",
       "      (39): ReLU(inplace=True)\n",
       "      (40): Conv2d(512, 512, kernel_size=(3, 3), stride=(1, 1), padding=(1, 1))\n",
       "      (41): BatchNorm2d(512, eps=1e-05, momentum=None, affine=True, track_running_stats=True)\n",
       "      (42): ReLU(inplace=True)\n",
       "    )\n",
       "    (avgpool): AvgPool2d(kernel_size=2, stride=2, padding=0)\n",
       "    (classifier): Sequential(\n",
       "      (0): Linear(in_features=512, out_features=10, bias=True)\n",
       "    )\n",
       "  )\n",
       ")"
      ]
     },
     "execution_count": 26,
     "metadata": {},
     "output_type": "execute_result"
    }
   ],
   "source": [
    "graphs = [Grapher(deepcopy(base_model)).graphify() for base_model in base_models]\n",
    "\n",
    "start_at = prefix_nodes[6]\n",
    "stop_at = None\n",
    "\n",
    "Merge = ModelMerge(*graphs, device=device)\n",
    "Merge.transform(\n",
    "    deepcopy(config['models']['new']), \n",
    "    train_loader, \n",
    "    transform_fn=get_merging_fn(merging_fn),\n",
    "    metric_classes=config['metric_fns'],\n",
    "    stop_at=stop_at,\n",
    "    start_at=start_at\n",
    ")\n",
    "\n",
    "reset_bn_stats(Merge, train_loader)"
   ]
  },
  {
   "cell_type": "code",
   "execution_count": 30,
   "metadata": {},
   "outputs": [
    {
     "name": "stdout",
     "output_type": "stream",
     "text": [
      "Accuracy of the network on the 10000 test images: 93 \n"
     ]
    },
    {
     "data": {
      "text/plain": [
       "(0.0023129400469362738, 0.9376)"
      ]
     },
     "execution_count": 30,
     "metadata": {},
     "output_type": "execute_result"
    }
   ],
   "source": [
    "validate(Merge, test_loader, criterion, device)"
   ]
  },
  {
   "cell_type": "markdown",
   "metadata": {},
   "source": [
    "#### unzip early layers"
   ]
  },
  {
   "cell_type": "code",
   "execution_count": null,
   "metadata": {},
   "outputs": [],
   "source": [
    "from models import my_vgg, my_vgg_bn\n",
    "\n",
    "def partial_zip_model(x, start_at_models, merged_model, nodes, merge_node):\n",
    "    if start_at_models is None:\n",
    "        return merged_model(x)\n",
    "    merge_node_id = int(nodes[merge_node]['layer'].split('.')[-1])\n",
    "    coefs = [1/len(start_at_models)] * len(start_at_models)\n",
    "    unzip_output = None\n",
    "    for i, start_at_model in enumerate(start_at_models):\n",
    "        if unzip_output is None:\n",
    "            unzip_output = start_at_model.features[:merge_node_id+1](x) * coefs[i]\n",
    "        else:\n",
    "            unzip_output += start_at_model.features[:merge_node_id+1](x) * coefs[i]\n",
    "    zip_conv_output = merged_model.features[merge_node_id+1:](unzip_output)\n",
    "    \n",
    "    out = merged_model.avgpool(zip_conv_output)\n",
    "    out = torch.flatten(out, 1)\n",
    "    out = merged_model.classifier(out)\n",
    "    return out"
   ]
  },
  {
   "cell_type": "code",
   "execution_count": 4,
   "metadata": {},
   "outputs": [
    {
     "data": {
      "text/plain": [
       "([3, 6, 10, 13, 17, 20, 23, 27, 30, 33, 37, 40, 43], 13)"
      ]
     },
     "execution_count": 4,
     "metadata": {},
     "output_type": "execute_result"
    }
   ],
   "source": [
    "prefix_nodes, len(prefix_nodes)"
   ]
  },
  {
   "cell_type": "code",
   "execution_count": 39,
   "metadata": {},
   "outputs": [
    {
     "data": {
      "application/vnd.jupyter.widget-view+json": {
       "model_id": "43e808fa462c4979aab8dd32a4d711f5",
       "version_major": 2,
       "version_minor": 0
      },
      "text/plain": [
       "Forward Pass to Compute Merge Metrics:   0%|          | 0/391 [00:00<?, ?it/s]"
      ]
     },
     "metadata": {},
     "output_type": "display_data"
    },
    {
     "data": {
      "application/vnd.jupyter.widget-view+json": {
       "model_id": "3104b46829ad46e18d1c30877d2b5ba5",
       "version_major": 2,
       "version_minor": 0
      },
      "text/plain": [
       "Computing transformations:   0%|          | 0/13 [00:00<?, ?it/s]"
      ]
     },
     "metadata": {},
     "output_type": "display_data"
    }
   ],
   "source": [
    "start_at = prefix_nodes[0]\n",
    "stop_at = None\n",
    "merging_fn = 'match_tensors_permute'\n",
    "\n",
    "graphs = [Grapher(deepcopy(base_model)).graphify() for base_model in base_models]\n",
    "Merge = ModelMerge(*graphs, device=device)\n",
    "Merge.transform(\n",
    "    deepcopy(config['models']['new']), \n",
    "    train_loader, \n",
    "    transform_fn=get_merging_fn(merging_fn),\n",
    "    metric_classes=config['metric_fns'],\n",
    "    stop_at=stop_at,\n",
    "    start_at=start_at\n",
    ")"
   ]
  },
  {
   "cell_type": "code",
   "execution_count": 40,
   "metadata": {},
   "outputs": [
    {
     "name": "stdout",
     "output_type": "stream",
     "text": [
      "Accuracy of the network on the 10000 test images: 29 \n"
     ]
    },
    {
     "data": {
      "text/plain": [
       "(0.014958068203926086, 0.2967)"
      ]
     },
     "execution_count": 40,
     "metadata": {},
     "output_type": "execute_result"
    }
   ],
   "source": [
    "Merge.add_hooks()\n",
    "validate(Merge, test_loader, criterion, device)"
   ]
  },
  {
   "cell_type": "code",
   "execution_count": null,
   "metadata": {},
   "outputs": [
    {
     "name": "stdout",
     "output_type": "stream",
     "text": [
      "Accuracy of the network on the 10000 test images: 46.34\n"
     ]
    }
   ],
   "source": [
    "Merge.clear_hooks()\n",
    "\n",
    "if 'bn' not in config_name:\n",
    "    merged_model = my_vgg.my_vgg16()\n",
    "    offset = 2\n",
    "else:\n",
    "    merged_model = my_vgg_bn.my_vgg16_bn()\n",
    "    offset = 3\n",
    "\n",
    "merged_sd = Merge.get_merged_state_dict()\n",
    "merged_model.load_state_dict(deepcopy(merged_sd))\n",
    "merged_model = merged_model.to(device)\n",
    "\n",
    "# validate\n",
    "correct = 0\n",
    "total = 0\n",
    "nodes = graphs[0].G.nodes\n",
    "merge_node = start_at - offset if start_at is not None else None\n",
    "\n",
    "with torch.no_grad():\n",
    "    for data in test_loader:\n",
    "        images, labels = data\n",
    "        images = images.to(device)\n",
    "        labels = labels.to(device)\n",
    "        if start_at is None:\n",
    "            outputs = merged_model(images)\n",
    "        else:\n",
    "            outputs = partial_zip_model(images, Merge.start_at_models, merged_model, nodes, merge_node)\n",
    "        _, predicted = torch.max(outputs, 1)\n",
    "        total += labels.size(0)\n",
    "        correct += (predicted == labels).sum().item()\n",
    "print('Accuracy of the network on the 10000 test images: {}'.format(100 * correct / total))\n"
   ]
  },
  {
   "cell_type": "markdown",
   "metadata": {},
   "source": [
    "#### apply repair/rescale"
   ]
  },
  {
   "cell_type": "code",
   "execution_count": 10,
   "metadata": {},
   "outputs": [
    {
     "data": {
      "application/vnd.jupyter.widget-view+json": {
       "model_id": "564ca135e4fe4ad6b9f9718b95e6e429",
       "version_major": 2,
       "version_minor": 0
      },
      "text/plain": [
       "Resetting batch norm:   0%|          | 0/391 [00:00<?, ?it/s]"
      ]
     },
     "metadata": {},
     "output_type": "display_data"
    },
    {
     "data": {
      "application/vnd.jupyter.widget-view+json": {
       "model_id": "f3bc96f414fc447daf7be087c3fc52ac",
       "version_major": 2,
       "version_minor": 0
      },
      "text/plain": [
       "Resetting batch norm:   0%|          | 0/391 [00:00<?, ?it/s]"
      ]
     },
     "metadata": {},
     "output_type": "display_data"
    },
    {
     "name": "stdout",
     "output_type": "stream",
     "text": [
      "\n",
      "\n",
      "\n",
      "\n",
      "\n",
      "\n",
      "\n",
      "\n",
      "\n",
      "\n",
      "\n",
      "\n",
      "\n",
      "Accuracy of the network on the 10000 test images: 72.50666666666666\n"
     ]
    }
   ],
   "source": [
    "from lmc_utils import repair\n",
    "\n",
    "Merge.clear_hooks()\n",
    "repaired_merged_model = repair(train_loader, base_models, Merge.merged_model, device, name='vgg16', variant='rescale')\n",
    "\n",
    "# merged_model = my_vgg.my_vgg16()\n",
    "# merged_sd = Merge.get_merged_state_dict()\n",
    "# merged_model.load_state_dict(merged_sd)\n",
    "# merged_model = merged_model.to(device)\n",
    "# merged_model = Merge.merged_model\n",
    "\n",
    "with torch.no_grad():\n",
    "    for data in test_loader:\n",
    "        images, labels = data\n",
    "        images = images.to(device)\n",
    "        labels = labels.to(device)\n",
    "        outputs = partial_zip_model(images, Merge.start_at_models, repaired_merged_model, nodes, merge_node)\n",
    "        _, predicted = torch.max(outputs, 1)\n",
    "        total += labels.size(0)\n",
    "        correct += (predicted == labels).sum().item()\n",
    "print('Accuracy of the network on the 10000 test images: {}'.format(100 * correct / total))"
   ]
  },
  {
   "cell_type": "code",
   "execution_count": 9,
   "metadata": {},
   "outputs": [
    {
     "data": {
      "application/vnd.jupyter.widget-view+json": {
       "model_id": "bfc1c3d3aebd4286912116edc6e8bf5b",
       "version_major": 2,
       "version_minor": 0
      },
      "text/plain": [
       "Resetting batch norm:   0%|          | 0/391 [00:00<?, ?it/s]"
      ]
     },
     "metadata": {},
     "output_type": "display_data"
    },
    {
     "data": {
      "application/vnd.jupyter.widget-view+json": {
       "model_id": "b5a0fc1428d548da92f2f1a4c9190c38",
       "version_major": 2,
       "version_minor": 0
      },
      "text/plain": [
       "Resetting batch norm:   0%|          | 0/391 [00:00<?, ?it/s]"
      ]
     },
     "metadata": {},
     "output_type": "display_data"
    },
    {
     "name": "stdout",
     "output_type": "stream",
     "text": [
      "\n",
      "\n",
      "\n",
      "\n",
      "\n",
      "\n",
      "\n",
      "\n",
      "\n",
      "\n",
      "\n",
      "\n",
      "\n"
     ]
    },
    {
     "data": {
      "application/vnd.jupyter.widget-view+json": {
       "model_id": "d5cb770eb2514fbab680d7dccc916e5d",
       "version_major": 2,
       "version_minor": 0
      },
      "text/plain": [
       "Resetting batch norm:   0%|          | 0/391 [00:00<?, ?it/s]"
      ]
     },
     "metadata": {},
     "output_type": "display_data"
    },
    {
     "name": "stdout",
     "output_type": "stream",
     "text": [
      "Accuracy of the network on the 10000 test images: 64.33\n"
     ]
    }
   ],
   "source": [
    "from lmc_utils import repair\n",
    "\n",
    "Merge.clear_hooks()\n",
    "repaired_merged_model = repair(train_loader, base_models, Merge.merged_model, device, name='vgg16', variant='repair')\n",
    "\n",
    "with torch.no_grad():\n",
    "    for data in test_loader:\n",
    "        images, labels = data\n",
    "        images = images.to(device)\n",
    "        labels = labels.to(device)\n",
    "        outputs = partial_zip_model(images, Merge.start_at_models, repaired_merged_model, nodes, merge_node)\n",
    "        _, predicted = torch.max(outputs, 1)\n",
    "        total += labels.size(0)\n",
    "        correct += (predicted == labels).sum().item()\n",
    "print('Accuracy of the network on the 10000 test images: {}'.format(100 * correct / total))"
   ]
  },
  {
   "cell_type": "markdown",
   "metadata": {},
   "source": [
    "#### Remove bias"
   ]
  },
  {
   "cell_type": "code",
   "execution_count": null,
   "metadata": {},
   "outputs": [
    {
     "name": "stdout",
     "output_type": "stream",
     "text": [
      "Accuracy of the network on the 10000 test images: 59.33\n"
     ]
    }
   ],
   "source": [
    "if 'bn' not in config_name:\n",
    "    merged_model = my_vgg.my_vgg16()\n",
    "    offset = 2\n",
    "else:\n",
    "    merged_model = my_vgg_bn.my_vgg16_bn()\n",
    "    offset = 3\n",
    "\n",
    "merged_sd = deepcopy(Merge.get_merged_state_dict())\n",
    "# set bias to zero from 'merged_sd'\n",
    "for k in merged_sd.keys():\n",
    "    if 'bias' in k:\n",
    "        merged_sd[k].fill_(0)\n",
    "merged_model.load_state_dict(merged_sd)\n",
    "merged_model = merged_model.to(device)\n",
    "\n",
    "Merge.clear_hooks()\n",
    "\n",
    "# validate\n",
    "correct = 0\n",
    "total = 0\n",
    "nodes = graphs[0].G.nodes\n",
    "merge_node = start_at - offset if start_at is not None else None\n",
    "\n",
    "with torch.no_grad():\n",
    "    for data in test_loader:\n",
    "        images, labels = data\n",
    "        images = images.to(device)\n",
    "        labels = labels.to(device)\n",
    "        if start_at is None:\n",
    "            outputs = merged_model(images)\n",
    "        else:\n",
    "            outputs = partial_zip_model(images, Merge.start_at_models, merged_model, nodes, merge_node)\n",
    "        _, predicted = torch.max(outputs, 1)\n",
    "        total += labels.size(0)\n",
    "        correct += (predicted == labels).sum().item()\n",
    "print('Accuracy of the network on the 10000 test images: {}'.format(100 * correct / total))\n"
   ]
  },
  {
   "cell_type": "markdown",
   "metadata": {},
   "source": [
    "#### Homogeneous interpolation"
   ]
  },
  {
   "cell_type": "code",
   "execution_count": null,
   "metadata": {},
   "outputs": [
    {
     "name": "stdout",
     "output_type": "stream",
     "text": [
      "Accuracy of the network on the 10000 test images: 84.27\n"
     ]
    }
   ],
   "source": [
    "from lmc_utils import interpolate_state_dicts\n",
    "\n",
    "if 'bn' not in config_name:\n",
    "    merged_model = my_vgg.my_vgg16()\n",
    "    offset = 2\n",
    "else:\n",
    "    merged_model = my_vgg_bn.my_vgg16_bn()\n",
    "    offset = 3\n",
    "\n",
    "Merge.clear_hooks()\n",
    "\n",
    "# validate\n",
    "correct = 0\n",
    "total = 0\n",
    "nodes = graphs[0].G.nodes\n",
    "merge_node = start_at - offset if start_at is not None else None\n",
    "\n",
    "with torch.no_grad():\n",
    "    for data in test_loader:\n",
    "        images, labels = data\n",
    "        images = images.to(device)\n",
    "        labels = labels.to(device)\n",
    "        if start_at is None:\n",
    "            outputs = merged_model(images)\n",
    "        else:\n",
    "            outputs = partial_zip_model(images, Merge.start_at_models, merged_model, nodes, merge_node)\n",
    "        _, predicted = torch.max(outputs, 1)\n",
    "        total += labels.size(0)\n",
    "        correct += (predicted == labels).sum().item()\n",
    "print('Accuracy of the network on the 10000 test images: {}'.format(100 * correct / total))\n"
   ]
  },
  {
<<<<<<< HEAD
   "cell_type": "markdown",
   "metadata": {},
   "source": [
    "## vgg16 bn"
=======
   "cell_type": "code",
   "execution_count": 3,
   "metadata": {},
   "outputs": [],
   "source": [
    "import torch\n",
    "import matplotlib.pyplot as plt\n",
    "\n",
    "res_dict = torch.load('vgg16_acc.pth', weights_only=True, map_location='cpu')"
   ]
  },
  {
   "cell_type": "code",
   "execution_count": 5,
   "metadata": {},
   "outputs": [],
   "source": [
    "permute_res = res_dict['match_tensors_permute']\n",
    "zipit_res = res_dict['match_tensors_zipit']"
>>>>>>> a76227e87436da0b6d110202b509667dfc052f1e
   ]
  },
  {
   "cell_type": "code",
   "execution_count": 8,
   "metadata": {},
   "outputs": [
    {
     "data": {
      "text/plain": [
<<<<<<< HEAD
       "<All keys matched successfully>"
=======
       "<matplotlib.legend.Legend at 0x72e28216aa90>"
>>>>>>> a76227e87436da0b6d110202b509667dfc052f1e
      ]
     },
     "execution_count": 8,
     "metadata": {},
     "output_type": "execute_result"
<<<<<<< HEAD
    }
   ],
   "source": [
    "from models import my_vgg_bn\n",
    "import torch\n",
    "\n",
    "model = my_vgg_bn.my_vgg16_bn()\n",
    "sd = torch.load('checkpoints/cifar10_my_vgg16_bn_1.pt', weights_only=True, map_location='cpu')\n",
    "model.load_state_dict(sd)"
   ]
  },
  {
   "cell_type": "code",
   "execution_count": 2,
   "metadata": {},
   "outputs": [
    {
     "name": "stdout",
     "output_type": "stream",
     "text": [
      "Files already downloaded and verified\n",
      "Files already downloaded and verified\n"
     ]
    },
    {
     "data": {
      "application/vnd.jupyter.widget-view+json": {
       "model_id": "70060b1eaa0649f5b4f4ee0b56ff59ea",
       "version_major": 2,
       "version_minor": 0
      },
      "text/plain": [
       "Preparing Models:   0%|          | 0/2 [00:00<?, ?it/s]"
=======
    },
    {
     "data": {
      "image/png": "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",
      "text/plain": [
       "<Figure size 640x480 with 1 Axes>"
>>>>>>> a76227e87436da0b6d110202b509667dfc052f1e
      ]
     },
     "metadata": {},
     "output_type": "display_data"
    }
   ],
   "source": [
<<<<<<< HEAD
    "\n",
    "import os\n",
    "import torch\n",
    "import random\n",
    "\n",
    "from copy import deepcopy\n",
    "from tqdm.auto import tqdm\n",
    "import numpy as np\n",
    "\n",
    "from utils import *\n",
    "from model_merger import ModelMerge\n",
    "\n",
    "def validate(model, testloader, criterion, device):\n",
    "    model.eval()\n",
    "    correct = 0\n",
    "    total = 0\n",
    "    loss_sum = 0\n",
    "\n",
    "    with torch.no_grad():\n",
    "        for data in testloader:\n",
    "            images, labels = data\n",
    "            images = images.to(device)\n",
    "            labels = labels.to(device)\n",
    "            outputs = model(images)\n",
    "            loss = criterion(outputs, labels)\n",
    "            loss_sum += loss.item()\n",
    "            _, predicted = torch.max(outputs, 1)\n",
    "            total += labels.size(0)\n",
    "            correct += (predicted == labels).sum().item()\n",
    "    print('Accuracy of the network on the 10000 test images: %d ' % (100 * correct / total))\n",
    "    return loss_sum / total, correct / total\n",
    "\n",
    "config_name = 'cifar10_my_vgg16_bn'\n",
    "\n",
    "device = 'cuda' if torch.cuda.is_available() else 'cpu'\n",
    "raw_config = get_config_from_name(config_name, device=device)  # 返回config文件中的字典，添加了一个device键值对\n",
    "cur_config = deepcopy(raw_config)\n",
    "config = prepare_experiment_config(cur_config)\n",
    "\n",
    "train_loader = config['data']['train']['full']\n",
    "test_loader = config['data']['test']['full']"
   ]
  },
  {
   "cell_type": "code",
   "execution_count": 9,
   "metadata": {},
   "outputs": [
    {
     "name": "stdout",
     "output_type": "stream",
     "text": [
      "Accuracy of the network on the 10000 test images: 93 \n"
     ]
    },
    {
     "data": {
      "text/plain": [
       "(0.002592544361948967, 0.9346)"
      ]
     },
     "execution_count": 9,
     "metadata": {},
     "output_type": "execute_result"
    }
   ],
   "source": [
    "validate(model, test_loader, torch.nn.CrossEntropyLoss(), device)"
=======
    "plt.plot(permute_res['bias_corr'][1:], label='bias correction')\n",
    "plt.plot(permute_res['zero_bias'][1:], label='zero bias')\n",
    "plt.plot(permute_res['repair'][1:], label='repair')\n",
    "plt.plot(permute_res['rescale'][1:], label='rescale')\n",
    "plt.ylabel('Test Accuracy (%)')\n",
    "plt.xlabel('Start-at Layer')\n",
    "plt.legend()"
>>>>>>> a76227e87436da0b6d110202b509667dfc052f1e
   ]
  }
 ],
 "metadata": {
  "kernelspec": {
   "display_name": "default",
   "language": "python",
   "name": "python3"
  },
  "language_info": {
   "codemirror_mode": {
    "name": "ipython",
    "version": 3
   },
   "file_extension": ".py",
   "mimetype": "text/x-python",
   "name": "python",
   "nbconvert_exporter": "python",
   "pygments_lexer": "ipython3",
   "version": "3.11.5"
  }
 },
 "nbformat": 4,
 "nbformat_minor": 2
}
