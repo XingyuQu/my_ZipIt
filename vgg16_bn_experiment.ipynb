{
 "cells": [
  {
   "cell_type": "code",
   "execution_count": null,
   "metadata": {},
   "outputs": [],
   "source": []
  },
  {
   "cell_type": "code",
   "execution_count": 1,
   "metadata": {},
   "outputs": [
    {
     "name": "stdout",
     "output_type": "stream",
     "text": [
      "Files already downloaded and verified\n",
      "Files already downloaded and verified\n"
     ]
    },
    {
     "data": {
      "application/vnd.jupyter.widget-view+json": {
       "model_id": "612af0a1f195486ab9da34f0805b0f60",
       "version_major": 2,
       "version_minor": 0
      },
      "text/plain": [
       "Preparing Models:   0%|          | 0/2 [00:00<?, ?it/s]"
      ]
     },
     "metadata": {},
     "output_type": "display_data"
    },
    {
     "name": "stderr",
     "output_type": "stream",
     "text": [
      "/home/xingyu/anaconda3/envs/default/lib/python3.11/site-packages/torch/cuda/__init__.py:716: UserWarning: Can't initialize NVML\n",
      "  warnings.warn(\"Can't initialize NVML\")\n"
     ]
    },
    {
     "data": {
      "application/vnd.jupyter.widget-view+json": {
       "model_id": "a016e598b2df47e497c653ffb7dca8de",
       "version_major": 2,
       "version_minor": 0
      },
      "text/plain": [
       "Resetting batch norm:   0%|          | 0/391 [00:00<?, ?it/s]"
      ]
     },
     "metadata": {},
     "output_type": "display_data"
    },
    {
     "data": {
      "application/vnd.jupyter.widget-view+json": {
       "model_id": "9330759939d740fa9608693c29f82f7b",
       "version_major": 2,
       "version_minor": 0
      },
      "text/plain": [
       "Resetting batch norm:   0%|          | 0/391 [00:00<?, ?it/s]"
      ]
     },
     "metadata": {},
     "output_type": "display_data"
    }
   ],
   "source": [
    "import os\n",
    "import torch\n",
    "import random\n",
    "\n",
    "from copy import deepcopy\n",
    "from tqdm.auto import tqdm\n",
    "import numpy as np\n",
    "\n",
    "from utils import *\n",
    "from model_merger import ModelMerge\n",
    "\n",
    "def validate(model, testloader, criterion, device):\n",
    "    model.eval()\n",
    "    correct = 0\n",
    "    total = 0\n",
    "    loss_sum = 0\n",
    "\n",
    "    with torch.no_grad():\n",
    "        for data in testloader:\n",
    "            images, labels = data\n",
    "            images = images.to(device)\n",
    "            labels = labels.to(device)\n",
    "            outputs = model(images)\n",
    "            loss = criterion(outputs, labels)\n",
    "            loss_sum += loss.item()\n",
    "            _, predicted = torch.max(outputs, 1)\n",
    "            total += labels.size(0)\n",
    "            correct += (predicted == labels).sum().item()\n",
    "    print('Accuracy of the network on the 10000 test images: {} '.format(100 * correct / total))\n",
    "    return loss_sum / total, correct / total\n",
    "\n",
    "config_name = 'cifar10_my_vgg16_bn'\n",
    "\n",
    "device = 'cuda' if torch.cuda.is_available() else 'cpu'\n",
    "raw_config = get_config_from_name(config_name, device=device)  # 返回config文件中的字典，添加了一个device键值对\n",
    "cur_config = deepcopy(raw_config)\n",
    "config = prepare_experiment_config(cur_config)\n",
    "\n",
    "train_loader = config['data']['train']['full']\n",
    "test_loader = config['data']['test']['full']\n",
    "\n",
    "base_models = [reset_bn_stats(base_model, train_loader) for base_model in config['models']['bases']]\n",
    "Grapher = config['graph']\n",
    "\n",
    "criterion = torch.nn.CrossEntropyLoss()"
   ]
  },
  {
   "cell_type": "code",
   "execution_count": 2,
   "metadata": {},
   "outputs": [
    {
     "data": {
      "text/plain": [
       "[4, 8, 13, 17, 22, 26, 30, 35, 39, 43, 48, 52, 56]"
      ]
     },
     "execution_count": 2,
     "metadata": {},
     "output_type": "execute_result"
    }
   ],
   "source": [
    "from graphs.base_graph import NodeType\n",
    "\n",
    "graph = Grapher(deepcopy(base_models[0])).graphify().G\n",
    "prefix_nodes = []\n",
    "for node in graph.nodes:\n",
    "    info = graph.nodes[node]\n",
    "    if info['type'] == NodeType.PREFIX:\n",
    "        prefix_nodes.append(node)\n",
    "prefix_nodes"
   ]
  },
  {
   "cell_type": "code",
   "execution_count": 3,
   "metadata": {},
   "outputs": [
    {
     "data": {
      "text/plain": [
       "[None, 4, 8, 13, 17, 22, 26, 30, 35, 39, 43, 48, 52, 56]"
      ]
     },
     "execution_count": 3,
     "metadata": {},
     "output_type": "execute_result"
    }
   ],
   "source": [
    "prefix_nodes = [None] + prefix_nodes\n",
    "prefix_nodes"
   ]
  },
  {
   "cell_type": "code",
   "execution_count": 4,
   "metadata": {},
   "outputs": [],
   "source": [
    "merging_fn_s = ['match_tensors_permute', 'match_tensors_zipit',\n",
    "                'match_tensors_identity']\n",
    "res_dict = {merging_fn: {'merger': [],\n",
    "                            'merger_reset': []} for merging_fn in merging_fn_s}"
   ]
  },
  {
   "cell_type": "code",
   "execution_count": 5,
   "metadata": {},
   "outputs": [],
   "source": [
    "merging_fn = 'match_tensors_permute'"
   ]
  },
  {
   "cell_type": "code",
   "execution_count": null,
   "metadata": {},
   "outputs": [
    {
     "name": "stdout",
     "output_type": "stream",
     "text": [
      "merging_fn: match_tensors_permute\n"
     ]
    },
    {
     "data": {
      "application/vnd.jupyter.widget-view+json": {
       "model_id": "6cc4ee9deaef48c9ae38d682bdbd2bda",
       "version_major": 2,
       "version_minor": 0
      },
      "text/plain": [
       "Forward Pass to Compute Merge Metrics:   0%|          | 0/391 [00:00<?, ?it/s]"
      ]
     },
     "metadata": {},
     "output_type": "display_data"
    },
    {
     "data": {
      "application/vnd.jupyter.widget-view+json": {
       "model_id": "cc6c014678084438b2b6be9603a89e84",
       "version_major": 2,
       "version_minor": 0
      },
      "text/plain": [
       "Computing transformations:   0%|          | 0/13 [00:00<?, ?it/s]"
      ]
     },
     "metadata": {},
     "output_type": "display_data"
    },
    {
     "name": "stdout",
     "output_type": "stream",
     "text": [
      "Accuracy of the network on the 10000 test images: 17.67 \n"
     ]
    },
    {
     "data": {
      "application/vnd.jupyter.widget-view+json": {
       "model_id": "61b8f95be2a4459d9a41b0a20217c4a8",
       "version_major": 2,
       "version_minor": 0
      },
      "text/plain": [
       "Resetting batch norm:   0%|          | 0/391 [00:00<?, ?it/s]"
      ]
     },
     "metadata": {},
     "output_type": "display_data"
    },
    {
     "name": "stdout",
     "output_type": "stream",
     "text": [
      "Accuracy of the network on the 10000 test images: 89.61 \n"
     ]
    },
    {
     "data": {
      "application/vnd.jupyter.widget-view+json": {
       "model_id": "5530505d69f2454da2f4ccd5a35d9a3d",
       "version_major": 2,
       "version_minor": 0
      },
      "text/plain": [
       "Forward Pass to Compute Merge Metrics:   0%|          | 0/391 [00:00<?, ?it/s]"
      ]
     },
     "metadata": {},
     "output_type": "display_data"
    },
    {
     "data": {
      "application/vnd.jupyter.widget-view+json": {
       "model_id": "78409ea156064d1eb0f696902c8bd717",
       "version_major": 2,
       "version_minor": 0
      },
      "text/plain": [
       "Computing transformations:   0%|          | 0/13 [00:00<?, ?it/s]"
      ]
     },
     "metadata": {},
     "output_type": "display_data"
    },
    {
     "name": "stdout",
     "output_type": "stream",
     "text": [
      "Accuracy of the network on the 10000 test images: 17.38 \n"
     ]
    },
    {
     "data": {
      "application/vnd.jupyter.widget-view+json": {
       "model_id": "b187d7e847cd40408ca3916071d427ae",
       "version_major": 2,
       "version_minor": 0
      },
      "text/plain": [
       "Resetting batch norm:   0%|          | 0/391 [00:00<?, ?it/s]"
      ]
     },
     "metadata": {},
     "output_type": "display_data"
    },
    {
     "name": "stdout",
     "output_type": "stream",
     "text": [
      "Accuracy of the network on the 10000 test images: 89.57 \n"
     ]
    },
    {
     "data": {
      "application/vnd.jupyter.widget-view+json": {
       "model_id": "46140537ab3f4a59a3173047dbc343f2",
       "version_major": 2,
       "version_minor": 0
      },
      "text/plain": [
       "Forward Pass to Compute Merge Metrics:   0%|          | 0/391 [00:00<?, ?it/s]"
      ]
     },
     "metadata": {},
     "output_type": "display_data"
    },
    {
     "ename": "KeyboardInterrupt",
     "evalue": "",
     "output_type": "error",
     "traceback": [
      "\u001b[0;31m---------------------------------------------------------------------------\u001b[0m",
      "\u001b[0;31mKeyboardInterrupt\u001b[0m                         Traceback (most recent call last)",
      "Cell \u001b[0;32mIn[7], line 12\u001b[0m\n\u001b[1;32m      9\u001b[0m stop_at \u001b[38;5;241m=\u001b[39m \u001b[38;5;28;01mNone\u001b[39;00m\n\u001b[1;32m     11\u001b[0m Merge \u001b[38;5;241m=\u001b[39m ModelMerge(\u001b[38;5;241m*\u001b[39mgraphs, device\u001b[38;5;241m=\u001b[39mdevice)\n\u001b[0;32m---> 12\u001b[0m Merge\u001b[38;5;241m.\u001b[39mtransform(\n\u001b[1;32m     13\u001b[0m     deepcopy(config[\u001b[38;5;124m'\u001b[39m\u001b[38;5;124mmodels\u001b[39m\u001b[38;5;124m'\u001b[39m][\u001b[38;5;124m'\u001b[39m\u001b[38;5;124mnew\u001b[39m\u001b[38;5;124m'\u001b[39m]), \n\u001b[1;32m     14\u001b[0m     train_loader, \n\u001b[1;32m     15\u001b[0m     transform_fn\u001b[38;5;241m=\u001b[39mget_merging_fn(merging_fn),\n\u001b[1;32m     16\u001b[0m     metric_classes\u001b[38;5;241m=\u001b[39mconfig[\u001b[38;5;124m'\u001b[39m\u001b[38;5;124mmetric_fns\u001b[39m\u001b[38;5;124m'\u001b[39m],\n\u001b[1;32m     17\u001b[0m     stop_at\u001b[38;5;241m=\u001b[39mstop_at,\n\u001b[1;32m     18\u001b[0m     start_at\u001b[38;5;241m=\u001b[39mstart_at\n\u001b[1;32m     19\u001b[0m )\n\u001b[1;32m     21\u001b[0m merger_acc \u001b[38;5;241m=\u001b[39m validate(Merge, test_loader, criterion, device)[\u001b[38;5;241m1\u001b[39m]\n\u001b[1;32m     22\u001b[0m res_dict[merging_fn][\u001b[38;5;124m'\u001b[39m\u001b[38;5;124mmerger\u001b[39m\u001b[38;5;124m'\u001b[39m]\u001b[38;5;241m.\u001b[39mappend(merger_acc)\n",
      "File \u001b[0;32m~/Repos/my_ZipIt/model_merger.py:464\u001b[0m, in \u001b[0;36mModelMerge.transform\u001b[0;34m(self, model, dataloader, metric_classes, transform_fn, prune_threshold, stop_at, start_at, **transform_kwargs)\u001b[0m\n\u001b[1;32m    461\u001b[0m \u001b[38;5;28mself\u001b[39m\u001b[38;5;241m.\u001b[39mtransform_fn \u001b[38;5;241m=\u001b[39m transform_fn\n\u001b[1;32m    462\u001b[0m \u001b[38;5;28mself\u001b[39m\u001b[38;5;241m.\u001b[39mprune_threshold \u001b[38;5;241m=\u001b[39m prune_threshold\n\u001b[0;32m--> 464\u001b[0m \u001b[38;5;28mself\u001b[39m\u001b[38;5;241m.\u001b[39mcompute_metrics(dataloader, metric_classes\u001b[38;5;241m=\u001b[39mmetric_classes)\n\u001b[1;32m    465\u001b[0m \u001b[38;5;28mself\u001b[39m\u001b[38;5;241m.\u001b[39mcompute_transformations(transform_fn,\n\u001b[1;32m    466\u001b[0m                             reduce_ratio\u001b[38;5;241m=\u001b[39m\u001b[38;5;241m1\u001b[39m \u001b[38;5;241m-\u001b[39m \u001b[38;5;241m1.\u001b[39m \u001b[38;5;241m/\u001b[39m \u001b[38;5;28mlen\u001b[39m(\u001b[38;5;28mself\u001b[39m\u001b[38;5;241m.\u001b[39mgraphs),\n\u001b[1;32m    467\u001b[0m                             prune_threshold\u001b[38;5;241m=\u001b[39mprune_threshold,\n\u001b[1;32m    468\u001b[0m                             \u001b[38;5;241m*\u001b[39m\u001b[38;5;241m*\u001b[39mtransform_kwargs\n\u001b[1;32m    469\u001b[0m                             )\n\u001b[1;32m    470\u001b[0m \u001b[38;5;28mself\u001b[39m\u001b[38;5;241m.\u001b[39mapply_transformations()\n",
      "File \u001b[0;32m~/Repos/my_ZipIt/model_merger.py:256\u001b[0m, in \u001b[0;36mModelMerge.compute_metrics\u001b[0;34m(self, dataloader, metric_classes)\u001b[0m\n\u001b[1;32m    254\u001b[0m \u001b[38;5;28;01mfor\u001b[39;00m dataloader \u001b[38;5;129;01min\u001b[39;00m dataloader_list:\n\u001b[1;32m    255\u001b[0m     \u001b[38;5;28;01mfor\u001b[39;00m x, _ \u001b[38;5;129;01min\u001b[39;00m tqdm(dataloader, desc\u001b[38;5;241m=\u001b[39m\u001b[38;5;124m\"\u001b[39m\u001b[38;5;124mForward Pass to Compute Merge Metrics: \u001b[39m\u001b[38;5;124m\"\u001b[39m):\n\u001b[0;32m--> 256\u001b[0m         x \u001b[38;5;241m=\u001b[39m x\u001b[38;5;241m.\u001b[39mto(\u001b[38;5;28mself\u001b[39m\u001b[38;5;241m.\u001b[39mdevice)\n\u001b[1;32m    258\u001b[0m         numel \u001b[38;5;241m+\u001b[39m\u001b[38;5;241m=\u001b[39m x\u001b[38;5;241m.\u001b[39mshape[\u001b[38;5;241m0\u001b[39m]\n\u001b[1;32m    259\u001b[0m         intermediates \u001b[38;5;241m=\u001b[39m [g\u001b[38;5;241m.\u001b[39mcompute_intermediates(x) \u001b[38;5;28;01mfor\u001b[39;00m g \u001b[38;5;129;01min\u001b[39;00m \u001b[38;5;28mself\u001b[39m\u001b[38;5;241m.\u001b[39mgraphs]\n",
      "\u001b[0;31mKeyboardInterrupt\u001b[0m: "
     ]
    }
   ],
   "source": [
    "for merging_fn in merging_fn_s:\n",
    "    print(f\"merging_fn: {merging_fn}\")\n",
    "    graphs = [Grapher(deepcopy(base_model)).graphify() for base_model in base_models]\n",
    "    stop_at = None\n",
    "    prefix_nodes = [None]+prefix_nodes\n",
    "    for start_at in prefix_nodes:\n",
    "        print(f\"start_at: {start_at}\")\n",
    "        Merge = ModelMerge(*graphs, device=device)\n",
    "        Merge.transform(\n",
    "            deepcopy(config['models']['new']), \n",
    "            train_loader, \n",
    "            transform_fn=get_merging_fn(merging_fn),\n",
    "            metric_classes=config['metric_fns'],\n",
    "            stop_at=stop_at,\n",
    "            start_at=start_at\n",
    "        )\n",
    "        merger_acc = validate(Merge, test_loader, criterion, device)[1]\n",
    "        print(f\"merger_acc: {merger_acc}\")\n",
    "\n",
    "        # reset\n",
    "        reset_bn_stats(Merge, train_loader)\n",
    "\n",
    "        merger_reset_acc = validate(Merge, test_loader, criterion, device)[1]\n",
    "        print(f\"merger_reset_acc: {merger_reset_acc}\")\n",
    "\n",
    "        res_dict[merging_fn]['merger'].append(merger_acc)\n",
    "        res_dict[merging_fn]['merger_reset'].append(merger_reset_acc)\n",
    "        \n",
    "        \n",
    "    for start_at in prefix_nodes:\n",
    "        graphs = [Grapher(deepcopy(base_model)).graphify() for base_model in base_models]\n",
    "        # start_at = prefix_nodes[idx] # 0\n",
    "        stop_at = None\n",
    "\n",
    "        Merge = ModelMerge(*graphs, device=device)\n",
    "        Merge.transform(\n",
    "            deepcopy(config['models']['new']), \n",
    "            train_loader, \n",
    "            transform_fn=get_merging_fn(merging_fn),\n",
    "            metric_classes=config['metric_fns'],\n",
    "            stop_at=stop_at,\n",
    "            start_at=start_at\n",
    "        )\n",
    "\n",
    "        merger_acc = validate(Merge, test_loader, criterion, device)[1]\n",
    "        res_dict[merging_fn]['merger'].append(merger_acc)\n",
    "\n",
    "        reset_bn_stats(Merge, train_loader)\n",
    "\n",
    "        merger_acc = validate(Merge, test_loader, criterion, device)[1]\n",
    "        res_dict[merging_fn]['merger_reset'].append(merger_acc)"
   ]
  },
  {
   "cell_type": "code",
   "execution_count": null,
   "metadata": {},
   "outputs": [
    {
     "data": {
      "application/vnd.jupyter.widget-view+json": {
       "model_id": "e9d0ada45a004d4fa3dcb941d0e181a9",
       "version_major": 2,
       "version_minor": 0
      },
      "text/plain": [
       "Forward Pass to Compute Merge Metrics:   0%|          | 0/391 [00:00<?, ?it/s]"
      ]
     },
     "metadata": {},
     "output_type": "display_data"
    },
    {
     "data": {
      "application/vnd.jupyter.widget-view+json": {
       "model_id": "e7080a044ed9482db82443b4a1ae8dd4",
       "version_major": 2,
       "version_minor": 0
      },
      "text/plain": [
       "Computing transformations:   0%|          | 0/13 [00:00<?, ?it/s]"
      ]
     },
     "metadata": {},
     "output_type": "display_data"
    },
    {
     "name": "stdout",
     "output_type": "stream",
     "text": [
      "Accuracy of the network on the 10000 test images: 18.53 \n"
     ]
    },
    {
     "data": {
      "application/vnd.jupyter.widget-view+json": {
       "model_id": "09ea5ad8d4384c5b87cd0ee850d2bc3c",
       "version_major": 2,
       "version_minor": 0
      },
      "text/plain": [
       "Resetting batch norm:   0%|          | 0/391 [00:00<?, ?it/s]"
      ]
     },
     "metadata": {},
     "output_type": "display_data"
    },
    {
     "name": "stdout",
     "output_type": "stream",
     "text": [
      "Accuracy of the network on the 10000 test images: 89.54 \n"
     ]
    },
    {
     "data": {
      "application/vnd.jupyter.widget-view+json": {
       "model_id": "3fb371ee8dd642ecb7dfcdc66ddcfb88",
       "version_major": 2,
       "version_minor": 0
      },
      "text/plain": [
       "Forward Pass to Compute Merge Metrics:   0%|          | 0/391 [00:00<?, ?it/s]"
      ]
     },
     "metadata": {},
     "output_type": "display_data"
    },
    {
     "data": {
      "application/vnd.jupyter.widget-view+json": {
       "model_id": "d9a03149c92e4c1fa95ec55814276fd0",
       "version_major": 2,
       "version_minor": 0
      },
      "text/plain": [
       "Computing transformations:   0%|          | 0/13 [00:00<?, ?it/s]"
      ]
     },
     "metadata": {},
     "output_type": "display_data"
    },
    {
     "name": "stdout",
     "output_type": "stream",
     "text": [
      "Accuracy of the network on the 10000 test images: 11.23 \n"
     ]
    },
    {
     "data": {
      "application/vnd.jupyter.widget-view+json": {
       "model_id": "b6460317d16c431f983f87c52052b258",
       "version_major": 2,
       "version_minor": 0
      },
      "text/plain": [
       "Resetting batch norm:   0%|          | 0/391 [00:00<?, ?it/s]"
      ]
     },
     "metadata": {},
     "output_type": "display_data"
    },
    {
     "name": "stdout",
     "output_type": "stream",
     "text": [
      "Accuracy of the network on the 10000 test images: 89.91 \n"
     ]
    },
    {
     "data": {
      "application/vnd.jupyter.widget-view+json": {
       "model_id": "3e71355cccfb49a58a65486826f9bc3a",
       "version_major": 2,
       "version_minor": 0
      },
      "text/plain": [
       "Forward Pass to Compute Merge Metrics:   0%|          | 0/391 [00:00<?, ?it/s]"
      ]
     },
     "metadata": {},
     "output_type": "display_data"
    },
    {
     "ename": "KeyboardInterrupt",
     "evalue": "",
     "output_type": "error",
     "traceback": [
      "\u001b[0;31m---------------------------------------------------------------------------\u001b[0m",
      "\u001b[0;31mKeyboardInterrupt\u001b[0m                         Traceback (most recent call last)",
      "Cell \u001b[0;32mIn[6], line 37\u001b[0m\n\u001b[1;32m     34\u001b[0m stop_at \u001b[38;5;241m=\u001b[39m \u001b[38;5;28;01mNone\u001b[39;00m\n\u001b[1;32m     36\u001b[0m Merge \u001b[38;5;241m=\u001b[39m ModelMerge(\u001b[38;5;241m*\u001b[39mgraphs, device\u001b[38;5;241m=\u001b[39mdevice)\n\u001b[0;32m---> 37\u001b[0m Merge\u001b[38;5;241m.\u001b[39mtransform(\n\u001b[1;32m     38\u001b[0m     deepcopy(config[\u001b[38;5;124m'\u001b[39m\u001b[38;5;124mmodels\u001b[39m\u001b[38;5;124m'\u001b[39m][\u001b[38;5;124m'\u001b[39m\u001b[38;5;124mnew\u001b[39m\u001b[38;5;124m'\u001b[39m]), \n\u001b[1;32m     39\u001b[0m     train_loader, \n\u001b[1;32m     40\u001b[0m     transform_fn\u001b[38;5;241m=\u001b[39mget_merging_fn(merging_fn),\n\u001b[1;32m     41\u001b[0m     metric_classes\u001b[38;5;241m=\u001b[39mconfig[\u001b[38;5;124m'\u001b[39m\u001b[38;5;124mmetric_fns\u001b[39m\u001b[38;5;124m'\u001b[39m],\n\u001b[1;32m     42\u001b[0m     stop_at\u001b[38;5;241m=\u001b[39mstop_at,\n\u001b[1;32m     43\u001b[0m     start_at\u001b[38;5;241m=\u001b[39mstart_at\n\u001b[1;32m     44\u001b[0m )\n\u001b[1;32m     46\u001b[0m merger_acc \u001b[38;5;241m=\u001b[39m validate(Merge, test_loader, criterion, device)[\u001b[38;5;241m1\u001b[39m]\n\u001b[1;32m     47\u001b[0m res_dict[merging_fn][\u001b[38;5;124m'\u001b[39m\u001b[38;5;124mmerger\u001b[39m\u001b[38;5;124m'\u001b[39m]\u001b[38;5;241m.\u001b[39mappend(merger_acc)\n",
      "File \u001b[0;32m~/Repos/my_ZipIt/model_merger.py:464\u001b[0m, in \u001b[0;36mModelMerge.transform\u001b[0;34m(self, model, dataloader, metric_classes, transform_fn, prune_threshold, stop_at, start_at, **transform_kwargs)\u001b[0m\n\u001b[1;32m    461\u001b[0m \u001b[38;5;28mself\u001b[39m\u001b[38;5;241m.\u001b[39mtransform_fn \u001b[38;5;241m=\u001b[39m transform_fn\n\u001b[1;32m    462\u001b[0m \u001b[38;5;28mself\u001b[39m\u001b[38;5;241m.\u001b[39mprune_threshold \u001b[38;5;241m=\u001b[39m prune_threshold\n\u001b[0;32m--> 464\u001b[0m \u001b[38;5;28mself\u001b[39m\u001b[38;5;241m.\u001b[39mcompute_metrics(dataloader, metric_classes\u001b[38;5;241m=\u001b[39mmetric_classes)\n\u001b[1;32m    465\u001b[0m \u001b[38;5;28mself\u001b[39m\u001b[38;5;241m.\u001b[39mcompute_transformations(transform_fn,\n\u001b[1;32m    466\u001b[0m                             reduce_ratio\u001b[38;5;241m=\u001b[39m\u001b[38;5;241m1\u001b[39m \u001b[38;5;241m-\u001b[39m \u001b[38;5;241m1.\u001b[39m \u001b[38;5;241m/\u001b[39m \u001b[38;5;28mlen\u001b[39m(\u001b[38;5;28mself\u001b[39m\u001b[38;5;241m.\u001b[39mgraphs),\n\u001b[1;32m    467\u001b[0m                             prune_threshold\u001b[38;5;241m=\u001b[39mprune_threshold,\n\u001b[1;32m    468\u001b[0m                             \u001b[38;5;241m*\u001b[39m\u001b[38;5;241m*\u001b[39mtransform_kwargs\n\u001b[1;32m    469\u001b[0m                             )\n\u001b[1;32m    470\u001b[0m \u001b[38;5;28mself\u001b[39m\u001b[38;5;241m.\u001b[39mapply_transformations()\n",
      "File \u001b[0;32m~/Repos/my_ZipIt/model_merger.py:256\u001b[0m, in \u001b[0;36mModelMerge.compute_metrics\u001b[0;34m(self, dataloader, metric_classes)\u001b[0m\n\u001b[1;32m    254\u001b[0m \u001b[38;5;28;01mfor\u001b[39;00m dataloader \u001b[38;5;129;01min\u001b[39;00m dataloader_list:\n\u001b[1;32m    255\u001b[0m     \u001b[38;5;28;01mfor\u001b[39;00m x, _ \u001b[38;5;129;01min\u001b[39;00m tqdm(dataloader, desc\u001b[38;5;241m=\u001b[39m\u001b[38;5;124m\"\u001b[39m\u001b[38;5;124mForward Pass to Compute Merge Metrics: \u001b[39m\u001b[38;5;124m\"\u001b[39m):\n\u001b[0;32m--> 256\u001b[0m         x \u001b[38;5;241m=\u001b[39m x\u001b[38;5;241m.\u001b[39mto(\u001b[38;5;28mself\u001b[39m\u001b[38;5;241m.\u001b[39mdevice)\n\u001b[1;32m    258\u001b[0m         numel \u001b[38;5;241m+\u001b[39m\u001b[38;5;241m=\u001b[39m x\u001b[38;5;241m.\u001b[39mshape[\u001b[38;5;241m0\u001b[39m]\n\u001b[1;32m    259\u001b[0m         intermediates \u001b[38;5;241m=\u001b[39m [g\u001b[38;5;241m.\u001b[39mcompute_intermediates(x) \u001b[38;5;28;01mfor\u001b[39;00m g \u001b[38;5;129;01min\u001b[39;00m \u001b[38;5;28mself\u001b[39m\u001b[38;5;241m.\u001b[39mgraphs]\n",
      "\u001b[0;31mKeyboardInterrupt\u001b[0m: "
     ]
    }
   ],
   "source": [
    "# def tmp_f(start_at):\n",
    "#     graphs = [Grapher(deepcopy(base_model)).graphify() for base_model in base_models]\n",
    "#     # start_at = prefix_nodes[idx] # 0\n",
    "#     stop_at = None\n",
    "\n",
    "#     Merge = ModelMerge(*graphs, device=device)\n",
    "#     Merge.transform(\n",
    "#         deepcopy(config['models']['new']), \n",
    "#         train_loader, \n",
    "#         transform_fn=get_merging_fn(merging_fn),\n",
    "#         metric_classes=config['metric_fns'],\n",
    "#         stop_at=stop_at,\n",
    "#         start_at=start_at\n",
    "#     )\n",
    "\n",
    "#     merger_acc = validate(Merge, test_loader, criterion, device)[1]\n",
    "#     res_dict[merging_fn]['merger'].append(merger_acc)\n",
    "\n",
    "#     reset_bn_stats(Merge, train_loader)\n",
    "\n",
    "#     merger_acc = validate(Merge, test_loader, criterion, device)[1]\n",
    "#     res_dict[merging_fn]['merger_reset'].append(merger_acc)\n",
    "\n",
    "\n",
    "# # for idx in range(len(prefix_nodes)):\n",
    "# #     tmp_f(idx)\n",
    "\n",
    "# # for start_at in prefix_nodes:\n",
    "# #     tmp_f(start_at)\n",
    "\n",
    "# for start_at in prefix_nodes:\n",
    "#     graphs = [Grapher(deepcopy(base_model)).graphify() for base_model in base_models]\n",
    "#     # start_at = prefix_nodes[idx] # 0\n",
    "#     stop_at = None\n",
    "\n",
    "#     Merge = ModelMerge(*graphs, device=device)\n",
    "#     Merge.transform(\n",
    "#         deepcopy(config['models']['new']), \n",
    "#         train_loader, \n",
    "#         transform_fn=get_merging_fn(merging_fn),\n",
    "#         metric_classes=config['metric_fns'],\n",
    "#         stop_at=stop_at,\n",
    "#         start_at=start_at\n",
    "#     )\n",
    "\n",
    "#     merger_acc = validate(Merge, test_loader, criterion, device)[1]\n",
    "#     res_dict[merging_fn]['merger'].append(merger_acc)\n",
    "\n",
    "#     reset_bn_stats(Merge, train_loader)\n",
    "\n",
    "#     merger_acc = validate(Merge, test_loader, criterion, device)[1]\n",
    "#     res_dict[merging_fn]['merger_reset'].append(merger_acc)"
   ]
  },
  {
   "cell_type": "code",
   "execution_count": null,
   "metadata": {},
   "outputs": [
    {
     "data": {
      "text/plain": [
       "14"
      ]
     },
     "execution_count": 25,
     "metadata": {},
     "output_type": "execute_result"
    }
   ],
   "source": [
    "len(prefix_nodes)"
   ]
  }
 ],
 "metadata": {
  "kernelspec": {
   "display_name": "default",
   "language": "python",
   "name": "python3"
  },
  "language_info": {
   "codemirror_mode": {
    "name": "ipython",
    "version": 3
   },
   "file_extension": ".py",
   "mimetype": "text/x-python",
   "name": "python",
   "nbconvert_exporter": "python",
   "pygments_lexer": "ipython3",
   "version": "3.11.5"
  }
 },
 "nbformat": 4,
 "nbformat_minor": 2
}
