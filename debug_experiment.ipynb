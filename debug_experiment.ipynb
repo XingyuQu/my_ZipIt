{
 "cells": [
  {
   "cell_type": "code",
   "execution_count": 1,
   "metadata": {},
   "outputs": [
    {
     "name": "stderr",
     "output_type": "stream",
     "text": [
      "/home/xingyu/anaconda3/envs/test_ffcv/lib/python3.9/site-packages/tqdm/auto.py:21: TqdmWarning: IProgress not found. Please update jupyter and ipywidgets. See https://ipywidgets.readthedocs.io/en/stable/user_install.html\n",
      "  from .autonotebook import tqdm as notebook_tqdm\n"
     ]
    }
   ],
   "source": [
    "import os\n",
    "import torch\n",
    "import random\n",
    "from lmc_utils import BatchScale1d, BatchScale2d, interpolate_state_dicts\n",
    "from copy import deepcopy\n",
    "import numpy as np\n",
    "import matplotlib.pyplot as plt\n",
    "from model_merger import ModelMerge\n",
    "from graphs.base_graph import NodeType\n",
    "from torch import nn\n",
    "from utils import get_config_from_name, get_device, prepare_experiment_config, get_merging_fn\n",
    "\n",
    "from lmc_utils import ResetLayer, RescaleLayer, TrackLayer\n",
    "\n",
    "def make_repaired_imagenet_vgg16(net, device=None):\n",
    "    net1 = deepcopy(net).to(device)\n",
    "    for i, layer in enumerate(net1.features):\n",
    "        if isinstance(layer, (nn.Conv2d)):\n",
    "            net1.features[i] = ResetLayer(layer)\n",
    "    for i, layer in enumerate(net1.classifier):\n",
    "        if i < 4 and isinstance(layer, nn.Linear):\n",
    "            net1.classifier[i] = ResetLayer(layer)\n",
    "    return net1.eval().to(device)\n",
    "\n",
    "def make_rescaled_imagenet_vgg16(net, device=None):\n",
    "    net1 = deepcopy(net).to(device)\n",
    "    for i, layer in enumerate(net1.features):\n",
    "        if isinstance(layer, (nn.Conv2d)):\n",
    "            net1.features[i] = RescaleLayer(layer)\n",
    "    for i, layer in enumerate(net1.classifier):\n",
    "        if i < 4 and isinstance(layer, nn.Linear):\n",
    "            net1.classifier[i] = RescaleLayer(layer)\n",
    "    return net1.eval().to(device)\n",
    "\n",
    "\n",
    "def make_tracked_imagenet_vgg16(net, device=None):\n",
    "    net1 = deepcopy(net)\n",
    "    for i, layer in enumerate(net1.features):\n",
    "        if isinstance(layer, (nn.Conv2d)):\n",
    "            net1.features[i] = TrackLayer(layer)\n",
    "    for i, layer in enumerate(net1.classifier):\n",
    "        if i < 4 and isinstance(layer, nn.Linear):\n",
    "            net1.classifier[i] = TrackLayer(layer)\n",
    "    return net1.eval().to(device)\n",
    "\n",
    "\n",
    "def validate(model, testloader, criterion, device, half=False, num_iters=None, print_freq=None):\n",
    "    model.eval()\n",
    "    correct = 0\n",
    "    total = 0\n",
    "    loss_sum = 0\n",
    "\n",
    "    with torch.no_grad():\n",
    "        it = 0\n",
    "        for data in testloader:\n",
    "            if num_iters is not None and it >= num_iters:\n",
    "                break\n",
    "            images, labels = data\n",
    "            images = images.to(device).float()\n",
    "            labels = labels.to(device).long()\n",
    "            outputs = model(images)\n",
    "            loss = criterion(outputs, labels)\n",
    "            loss_sum += loss.item()\n",
    "            _, predicted = torch.max(outputs, 1)\n",
    "            total += labels.size(0)\n",
    "            correct += (predicted == labels).sum().item()\n",
    "            it += 1\n",
    "            if print_freq is not None and it % print_freq == 0:\n",
    "                print('Accuracy so far: {}%'.format(100 * correct / total))\n",
    "        \n",
    "    print('Accuracy of the network on the 10000 test images: {}%'.format(100 * correct / total))\n",
    "    return loss_sum / total, correct / total\n",
    "\n",
    "\n",
    "def imagenet_reset_bn_stats(model, loader, reset=True, num_iters=None):\n",
    "    \"\"\"Reset batch norm stats if nn.BatchNorm2d present in the model.\"\"\"\n",
    "    device = get_device(model)\n",
    "    has_bn = False\n",
    "    # resetting stats to baseline first as below is necessary for stability\n",
    "    for m in model.modules():\n",
    "        if type(m) in (nn.BatchNorm2d, BatchScale2d, BatchScale1d, nn.BatchNorm1d):\n",
    "            if reset:\n",
    "                m.momentum = None # use simple average\n",
    "                m.reset_running_stats()\n",
    "            has_bn = True\n",
    "\n",
    "    if not has_bn:\n",
    "        return model\n",
    "\n",
    "    # run a single train epoch with augmentations to recalc stats\n",
    "    model.train()\n",
    "    iter = 0\n",
    "    with torch.no_grad():\n",
    "        print('Resetting batch norm stats')\n",
    "        for images, _ in loader:\n",
    "            if num_iters is not None and iter >= num_iters:\n",
    "                break\n",
    "            if iter == len(loader): # hack for fractional loader\n",
    "                break\n",
    "            images = images.to(device).float()\n",
    "            _ = model(images)\n",
    "            iter += 1\n",
    "    model.eval()\n",
    "    return model\n"
   ]
  },
  {
   "cell_type": "code",
   "execution_count": 7,
   "metadata": {},
   "outputs": [
    {
     "name": "stdout",
     "output_type": "stream",
     "text": [
      "./checkpoints/imagenet_vgg16_1.pth\n",
      "./checkpoints/imagenet_vgg16_2.pth\n",
      "Preparing Models\n"
     ]
    },
    {
     "name": "stderr",
     "output_type": "stream",
     "text": [
      "/home/xingyu/anaconda3/envs/test_ffcv/lib/python3.9/site-packages/torchvision/models/_utils.py:208: UserWarning: The parameter 'pretrained' is deprecated since 0.13 and may be removed in the future, please use 'weights' instead.\n",
      "  warnings.warn(\n",
      "/home/xingyu/anaconda3/envs/test_ffcv/lib/python3.9/site-packages/torchvision/models/_utils.py:223: UserWarning: Arguments other than a weight enum or `None` for 'weights' are deprecated since 0.13 and may be removed in the future. The current behavior is equivalent to passing `weights=None`.\n",
      "  warnings.warn(msg)\n"
     ]
    },
    {
     "name": "stdout",
     "output_type": "stream",
     "text": [
      "Training samples: 10016\n",
      "Testing samples: 50016\n"
     ]
    }
   ],
   "source": [
    "config_name = 'imagenet_vgg16'\n",
    "\n",
    "device = 'cpu'\n",
    "raw_config = get_config_from_name(config_name, device=device)\n",
    "\n",
    "# change the model bases to the desired pair\n",
    "pairs = '1_2'.split('_')\n",
    "pairs = [int(pair) for pair in pairs]\n",
    "for i, model_idx in enumerate(pairs):\n",
    "    path = raw_config['model']['bases'][i]  # ..._1.pth\n",
    "    # replace the last digit with the model_idx\n",
    "    path = path[:-5] + str(model_idx) + '.pth'\n",
    "    # remove ./ from the path\n",
    "    # if path.startswith('./'):\n",
    "    #     path = path[2:]\n",
    "    print(path)\n",
    "    raw_config['model']['bases'][i] = path\n",
    "\n",
    "model_paths = deepcopy(raw_config['model']['bases'])\n",
    "\n",
    "cur_config = deepcopy(raw_config)\n",
    "config = prepare_experiment_config(cur_config)\n",
    "\n",
    "train_loader = config['data']['train']['full']\n",
    "test_loader = config['data']['test']['full']\n",
    "train_loader.batch_size = 32\n",
    "test_loader.batch_size = 32\n",
    "test_loader.num_workers = 0\n",
    "print(f\"Training samples: {train_loader.batch_size * len(train_loader)}\")\n",
    "print(f\"Testing samples: {test_loader.batch_size * len(test_loader)}\")"
   ]
  },
  {
   "cell_type": "code",
   "execution_count": 8,
   "metadata": {},
   "outputs": [],
   "source": [
    "base_models = [base_model for base_model in config['models']['bases']]\n",
    "Grapher = config['graph']\n",
    "criterion = torch.nn.CrossEntropyLoss()"
   ]
  },
  {
   "cell_type": "code",
   "execution_count": 9,
   "metadata": {},
   "outputs": [],
   "source": [
    "graphs = [Grapher(deepcopy(base_model)).graphify() for base_model\n",
    "                    in base_models]"
   ]
  },
  {
   "cell_type": "code",
   "execution_count": null,
   "metadata": {},
   "outputs": [],
   "source": [
    "metrics_save_path = '/home/xingyu/Repos/my_ZipIt/pfm_results/imagenet/imagenet_vgg16_1_2_metrics.pth'"
   ]
  }
 ],
 "metadata": {
  "kernelspec": {
   "display_name": "test_ffcv",
   "language": "python",
   "name": "python3"
  },
  "language_info": {
   "codemirror_mode": {
    "name": "ipython",
    "version": 3
   },
   "file_extension": ".py",
   "mimetype": "text/x-python",
   "name": "python",
   "nbconvert_exporter": "python",
   "pygments_lexer": "ipython3",
   "version": "3.9.18"
  }
 },
 "nbformat": 4,
 "nbformat_minor": 2
}
